{
  "nbformat": 4,
  "nbformat_minor": 5,
  "metadata": {
    "kernelspec": {
      "display_name": "Python 3 (ipykernel)",
      "language": "python",
      "name": "python3"
    },
    "language_info": {
      "codemirror_mode": {
        "name": "ipython",
        "version": 3
      },
      "file_extension": ".py",
      "mimetype": "text/x-python",
      "name": "python",
      "nbconvert_exporter": "python",
      "pygments_lexer": "ipython3",
      "version": "3.9.7"
    },
    "colab": {
      "name": "ANN.ipynb",
      "provenance": [],
      "collapsed_sections": []
    },
    "accelerator": "TPU"
  },
  "cells": [
    {
      "cell_type": "markdown",
      "metadata": {
        "id": "b2cfb934-16d2-462d-870c-379581678d79"
      },
      "source": [
        "## Artificial Neural Network:"
      ],
      "id": "b2cfb934-16d2-462d-870c-379581678d79"
    },
    {
      "cell_type": "code",
      "metadata": {
        "colab": {
          "base_uri": "https://localhost:8080/"
        },
        "id": "tsWpmvCor_0b",
        "outputId": "d27a889e-ed3c-4f22-9ff2-1ca73eb73d12"
      },
      "source": [
        "from google.colab import drive\n",
        "drive.mount('/content/drive')"
      ],
      "id": "tsWpmvCor_0b",
      "execution_count": 1,
      "outputs": [
        {
          "output_type": "stream",
          "name": "stdout",
          "text": [
            "Drive already mounted at /content/drive; to attempt to forcibly remount, call drive.mount(\"/content/drive\", force_remount=True).\n"
          ]
        }
      ]
    },
    {
      "cell_type": "code",
      "metadata": {
        "id": "2588307f-587b-4dee-a0d1-d5f900fc27f7"
      },
      "source": [
        "# importing packages\n",
        "import numpy as np\n",
        "import pandas as pd\n",
        "import matplotlib.pyplot as plt\n",
        "import seaborn as sns\n",
        "import scipy.stats as stats\n",
        "from sklearn.preprocessing import MinMaxScaler, StandardScaler\n",
        "from sklearn.model_selection import train_test_split\n",
        "from sklearn.metrics import confusion_matrix, accuracy_score, classification_report\n",
        "\n",
        "# Importing the Keras libraries and packages\n",
        "import keras\n",
        "from keras.models import Sequential\n",
        "from keras.layers import Dense\n",
        "from keras.layers import Dropout\n",
        "import warnings\n",
        "warnings.filterwarnings('ignore')"
      ],
      "id": "2588307f-587b-4dee-a0d1-d5f900fc27f7",
      "execution_count": 2,
      "outputs": []
    },
    {
      "cell_type": "code",
      "metadata": {
        "colab": {
          "base_uri": "https://localhost:8080/",
          "height": 203
        },
        "id": "84316854-3369-4718-b301-12eb74a08052",
        "outputId": "333ad927-485e-4915-ddb0-e983b70f6acf"
      },
      "source": [
        "# reading the dataset\n",
        "df = pd.read_csv(\"/content/drive/MyDrive/Deep Learning/Churn_Modelling.csv\")\n",
        "df.head()"
      ],
      "id": "84316854-3369-4718-b301-12eb74a08052",
      "execution_count": 3,
      "outputs": [
        {
          "output_type": "execute_result",
          "data": {
            "text/html": [
              "<div>\n",
              "<style scoped>\n",
              "    .dataframe tbody tr th:only-of-type {\n",
              "        vertical-align: middle;\n",
              "    }\n",
              "\n",
              "    .dataframe tbody tr th {\n",
              "        vertical-align: top;\n",
              "    }\n",
              "\n",
              "    .dataframe thead th {\n",
              "        text-align: right;\n",
              "    }\n",
              "</style>\n",
              "<table border=\"1\" class=\"dataframe\">\n",
              "  <thead>\n",
              "    <tr style=\"text-align: right;\">\n",
              "      <th></th>\n",
              "      <th>RowNumber</th>\n",
              "      <th>CustomerId</th>\n",
              "      <th>Surname</th>\n",
              "      <th>CreditScore</th>\n",
              "      <th>Geography</th>\n",
              "      <th>Gender</th>\n",
              "      <th>Age</th>\n",
              "      <th>Tenure</th>\n",
              "      <th>Balance</th>\n",
              "      <th>NumOfProducts</th>\n",
              "      <th>HasCrCard</th>\n",
              "      <th>IsActiveMember</th>\n",
              "      <th>EstimatedSalary</th>\n",
              "      <th>Exited</th>\n",
              "    </tr>\n",
              "  </thead>\n",
              "  <tbody>\n",
              "    <tr>\n",
              "      <th>0</th>\n",
              "      <td>1</td>\n",
              "      <td>15634602</td>\n",
              "      <td>Hargrave</td>\n",
              "      <td>619</td>\n",
              "      <td>France</td>\n",
              "      <td>Female</td>\n",
              "      <td>42</td>\n",
              "      <td>2</td>\n",
              "      <td>0.00</td>\n",
              "      <td>1</td>\n",
              "      <td>1</td>\n",
              "      <td>1</td>\n",
              "      <td>101348.88</td>\n",
              "      <td>1</td>\n",
              "    </tr>\n",
              "    <tr>\n",
              "      <th>1</th>\n",
              "      <td>2</td>\n",
              "      <td>15647311</td>\n",
              "      <td>Hill</td>\n",
              "      <td>608</td>\n",
              "      <td>Spain</td>\n",
              "      <td>Female</td>\n",
              "      <td>41</td>\n",
              "      <td>1</td>\n",
              "      <td>83807.86</td>\n",
              "      <td>1</td>\n",
              "      <td>0</td>\n",
              "      <td>1</td>\n",
              "      <td>112542.58</td>\n",
              "      <td>0</td>\n",
              "    </tr>\n",
              "    <tr>\n",
              "      <th>2</th>\n",
              "      <td>3</td>\n",
              "      <td>15619304</td>\n",
              "      <td>Onio</td>\n",
              "      <td>502</td>\n",
              "      <td>France</td>\n",
              "      <td>Female</td>\n",
              "      <td>42</td>\n",
              "      <td>8</td>\n",
              "      <td>159660.80</td>\n",
              "      <td>3</td>\n",
              "      <td>1</td>\n",
              "      <td>0</td>\n",
              "      <td>113931.57</td>\n",
              "      <td>1</td>\n",
              "    </tr>\n",
              "    <tr>\n",
              "      <th>3</th>\n",
              "      <td>4</td>\n",
              "      <td>15701354</td>\n",
              "      <td>Boni</td>\n",
              "      <td>699</td>\n",
              "      <td>France</td>\n",
              "      <td>Female</td>\n",
              "      <td>39</td>\n",
              "      <td>1</td>\n",
              "      <td>0.00</td>\n",
              "      <td>2</td>\n",
              "      <td>0</td>\n",
              "      <td>0</td>\n",
              "      <td>93826.63</td>\n",
              "      <td>0</td>\n",
              "    </tr>\n",
              "    <tr>\n",
              "      <th>4</th>\n",
              "      <td>5</td>\n",
              "      <td>15737888</td>\n",
              "      <td>Mitchell</td>\n",
              "      <td>850</td>\n",
              "      <td>Spain</td>\n",
              "      <td>Female</td>\n",
              "      <td>43</td>\n",
              "      <td>2</td>\n",
              "      <td>125510.82</td>\n",
              "      <td>1</td>\n",
              "      <td>1</td>\n",
              "      <td>1</td>\n",
              "      <td>79084.10</td>\n",
              "      <td>0</td>\n",
              "    </tr>\n",
              "  </tbody>\n",
              "</table>\n",
              "</div>"
            ],
            "text/plain": [
              "   RowNumber  CustomerId   Surname  ...  IsActiveMember EstimatedSalary Exited\n",
              "0          1    15634602  Hargrave  ...               1       101348.88      1\n",
              "1          2    15647311      Hill  ...               1       112542.58      0\n",
              "2          3    15619304      Onio  ...               0       113931.57      1\n",
              "3          4    15701354      Boni  ...               0        93826.63      0\n",
              "4          5    15737888  Mitchell  ...               1        79084.10      0\n",
              "\n",
              "[5 rows x 14 columns]"
            ]
          },
          "metadata": {},
          "execution_count": 3
        }
      ]
    },
    {
      "cell_type": "code",
      "metadata": {
        "id": "a7a27250-f458-4efc-86c1-1333f995672f",
        "colab": {
          "base_uri": "https://localhost:8080/"
        },
        "outputId": "7fc70a02-632d-4637-8d06-b7ab891ad4ff"
      },
      "source": [
        "# check if there is any null value\n",
        "df.isnull().sum().sum()"
      ],
      "id": "a7a27250-f458-4efc-86c1-1333f995672f",
      "execution_count": 4,
      "outputs": [
        {
          "output_type": "execute_result",
          "data": {
            "text/plain": [
              "0"
            ]
          },
          "metadata": {},
          "execution_count": 4
        }
      ]
    },
    {
      "cell_type": "markdown",
      "metadata": {
        "id": "a26683e6-62e9-4186-b035-0cce16b640e3"
      },
      "source": [
        "### Data preprocessing:"
      ],
      "id": "a26683e6-62e9-4186-b035-0cce16b640e3"
    },
    {
      "cell_type": "code",
      "metadata": {
        "id": "d992d132-4d47-4f71-a4ba-90726cf94f85",
        "colab": {
          "base_uri": "https://localhost:8080/"
        },
        "outputId": "fde6127d-25d1-4e96-c9a1-b205391e5694"
      },
      "source": [
        "# checking how many unique value in that columnn for replacing\n",
        "df.Geography.unique()"
      ],
      "id": "d992d132-4d47-4f71-a4ba-90726cf94f85",
      "execution_count": 5,
      "outputs": [
        {
          "output_type": "execute_result",
          "data": {
            "text/plain": [
              "array(['France', 'Spain', 'Germany'], dtype=object)"
            ]
          },
          "metadata": {},
          "execution_count": 5
        }
      ]
    },
    {
      "cell_type": "code",
      "metadata": {
        "id": "491dd6b7-3a5c-471f-9c1e-d2c6cce8b703"
      },
      "source": [
        "# replacing categorical value with numerical values\n",
        "df['Geography'] = df['Geography'].replace(['France', 'Spain', 'Germany'], [0,1,2])\n",
        "df['Gender'] = df['Gender'].replace(['Male', 'Female'], [0, 1])"
      ],
      "id": "491dd6b7-3a5c-471f-9c1e-d2c6cce8b703",
      "execution_count": 6,
      "outputs": []
    },
    {
      "cell_type": "code",
      "metadata": {
        "id": "c4d989d9-da7d-44fa-8be7-935051ee8f92"
      },
      "source": [
        "# drop unwanted columns\n",
        "df = df.drop(['RowNumber', 'CustomerId', 'Surname'], axis=1)"
      ],
      "id": "c4d989d9-da7d-44fa-8be7-935051ee8f92",
      "execution_count": 7,
      "outputs": []
    },
    {
      "cell_type": "code",
      "metadata": {
        "id": "736c8c08-fcd5-4021-a5a2-ae404c6d2fa1",
        "colab": {
          "base_uri": "https://localhost:8080/"
        },
        "outputId": "86ca059f-c2b9-4b42-8db5-0dae229e1966"
      },
      "source": [
        "df.Exited.value_counts()"
      ],
      "id": "736c8c08-fcd5-4021-a5a2-ae404c6d2fa1",
      "execution_count": 8,
      "outputs": [
        {
          "output_type": "execute_result",
          "data": {
            "text/plain": [
              "0    7963\n",
              "1    2037\n",
              "Name: Exited, dtype: int64"
            ]
          },
          "metadata": {},
          "execution_count": 8
        }
      ]
    },
    {
      "cell_type": "code",
      "metadata": {
        "id": "05794edc-f7c2-4df4-91a3-588469518eb7",
        "colab": {
          "base_uri": "https://localhost:8080/",
          "height": 203
        },
        "outputId": "05ac49ab-ad64-4631-bf57-8d8b86ddfb5b"
      },
      "source": [
        "df.head()"
      ],
      "id": "05794edc-f7c2-4df4-91a3-588469518eb7",
      "execution_count": 9,
      "outputs": [
        {
          "output_type": "execute_result",
          "data": {
            "text/html": [
              "<div>\n",
              "<style scoped>\n",
              "    .dataframe tbody tr th:only-of-type {\n",
              "        vertical-align: middle;\n",
              "    }\n",
              "\n",
              "    .dataframe tbody tr th {\n",
              "        vertical-align: top;\n",
              "    }\n",
              "\n",
              "    .dataframe thead th {\n",
              "        text-align: right;\n",
              "    }\n",
              "</style>\n",
              "<table border=\"1\" class=\"dataframe\">\n",
              "  <thead>\n",
              "    <tr style=\"text-align: right;\">\n",
              "      <th></th>\n",
              "      <th>CreditScore</th>\n",
              "      <th>Geography</th>\n",
              "      <th>Gender</th>\n",
              "      <th>Age</th>\n",
              "      <th>Tenure</th>\n",
              "      <th>Balance</th>\n",
              "      <th>NumOfProducts</th>\n",
              "      <th>HasCrCard</th>\n",
              "      <th>IsActiveMember</th>\n",
              "      <th>EstimatedSalary</th>\n",
              "      <th>Exited</th>\n",
              "    </tr>\n",
              "  </thead>\n",
              "  <tbody>\n",
              "    <tr>\n",
              "      <th>0</th>\n",
              "      <td>619</td>\n",
              "      <td>0</td>\n",
              "      <td>1</td>\n",
              "      <td>42</td>\n",
              "      <td>2</td>\n",
              "      <td>0.00</td>\n",
              "      <td>1</td>\n",
              "      <td>1</td>\n",
              "      <td>1</td>\n",
              "      <td>101348.88</td>\n",
              "      <td>1</td>\n",
              "    </tr>\n",
              "    <tr>\n",
              "      <th>1</th>\n",
              "      <td>608</td>\n",
              "      <td>1</td>\n",
              "      <td>1</td>\n",
              "      <td>41</td>\n",
              "      <td>1</td>\n",
              "      <td>83807.86</td>\n",
              "      <td>1</td>\n",
              "      <td>0</td>\n",
              "      <td>1</td>\n",
              "      <td>112542.58</td>\n",
              "      <td>0</td>\n",
              "    </tr>\n",
              "    <tr>\n",
              "      <th>2</th>\n",
              "      <td>502</td>\n",
              "      <td>0</td>\n",
              "      <td>1</td>\n",
              "      <td>42</td>\n",
              "      <td>8</td>\n",
              "      <td>159660.80</td>\n",
              "      <td>3</td>\n",
              "      <td>1</td>\n",
              "      <td>0</td>\n",
              "      <td>113931.57</td>\n",
              "      <td>1</td>\n",
              "    </tr>\n",
              "    <tr>\n",
              "      <th>3</th>\n",
              "      <td>699</td>\n",
              "      <td>0</td>\n",
              "      <td>1</td>\n",
              "      <td>39</td>\n",
              "      <td>1</td>\n",
              "      <td>0.00</td>\n",
              "      <td>2</td>\n",
              "      <td>0</td>\n",
              "      <td>0</td>\n",
              "      <td>93826.63</td>\n",
              "      <td>0</td>\n",
              "    </tr>\n",
              "    <tr>\n",
              "      <th>4</th>\n",
              "      <td>850</td>\n",
              "      <td>1</td>\n",
              "      <td>1</td>\n",
              "      <td>43</td>\n",
              "      <td>2</td>\n",
              "      <td>125510.82</td>\n",
              "      <td>1</td>\n",
              "      <td>1</td>\n",
              "      <td>1</td>\n",
              "      <td>79084.10</td>\n",
              "      <td>0</td>\n",
              "    </tr>\n",
              "  </tbody>\n",
              "</table>\n",
              "</div>"
            ],
            "text/plain": [
              "   CreditScore  Geography  Gender  ...  IsActiveMember  EstimatedSalary  Exited\n",
              "0          619          0       1  ...               1        101348.88       1\n",
              "1          608          1       1  ...               1        112542.58       0\n",
              "2          502          0       1  ...               0        113931.57       1\n",
              "3          699          0       1  ...               0         93826.63       0\n",
              "4          850          1       1  ...               1         79084.10       0\n",
              "\n",
              "[5 rows x 11 columns]"
            ]
          },
          "metadata": {},
          "execution_count": 9
        }
      ]
    },
    {
      "cell_type": "code",
      "metadata": {
        "id": "e22eaa8b-b6e7-4e34-86ec-dfc1c367833a"
      },
      "source": [
        "X = df.drop(columns='Exited')\n",
        "y = df['Exited']"
      ],
      "id": "e22eaa8b-b6e7-4e34-86ec-dfc1c367833a",
      "execution_count": 10,
      "outputs": []
    },
    {
      "cell_type": "code",
      "metadata": {
        "id": "7cdbe688-7fa0-4f2b-8216-51ef9a24ab75"
      },
      "source": [
        "# split dataset into train and test dataset\n",
        "X_train, X_test, y_train, y_test = train_test_split(X, y, test_size=0.2, random_state=0)"
      ],
      "id": "7cdbe688-7fa0-4f2b-8216-51ef9a24ab75",
      "execution_count": 11,
      "outputs": []
    },
    {
      "cell_type": "markdown",
      "metadata": {
        "id": "e89bdd39-404d-4542-a9a6-2137bbe2e7e4"
      },
      "source": [
        "### Feature scaling:"
      ],
      "id": "e89bdd39-404d-4542-a9a6-2137bbe2e7e4"
    },
    {
      "cell_type": "code",
      "metadata": {
        "id": "1bdad7eb-5629-4757-bc5b-ce1ed1f799b2"
      },
      "source": [
        "scaler = MinMaxScaler()\n",
        "X_train = scaler.fit_transform(X_train)\n",
        "X_test = scaler.fit_transform(X_test)"
      ],
      "id": "1bdad7eb-5629-4757-bc5b-ce1ed1f799b2",
      "execution_count": 12,
      "outputs": []
    },
    {
      "cell_type": "markdown",
      "metadata": {
        "id": "204d227a-b6d4-42bf-b06c-74dd35a33ba2"
      },
      "source": [
        "### Initialising the ANN:"
      ],
      "id": "204d227a-b6d4-42bf-b06c-74dd35a33ba2"
    },
    {
      "cell_type": "code",
      "metadata": {
        "id": "80a543c5-e82d-472f-9a55-d2a21399a0c5"
      },
      "source": [
        "# initialising the model\n",
        "model = Sequential()"
      ],
      "id": "80a543c5-e82d-472f-9a55-d2a21399a0c5",
      "execution_count": 13,
      "outputs": []
    },
    {
      "cell_type": "code",
      "metadata": {
        "id": "a9e941df-4ca3-41fb-a437-be78751a331c"
      },
      "source": [
        "# Adding the input layer (first hidden layer)\n",
        "model.add(Dense(units=10, kernel_initializer='he_uniform', activation='relu', input_dim = 10))"
      ],
      "id": "a9e941df-4ca3-41fb-a437-be78751a331c",
      "execution_count": 14,
      "outputs": []
    },
    {
      "cell_type": "code",
      "metadata": {
        "id": "59a8a5f5-f455-4848-82da-35f3349a7141"
      },
      "source": [
        "# Adding the another input layer (second hidden layer)\n",
        "model.add(Dense(units=20, kernel_initializer='he_uniform', activation='relu')) # for 2nd hidden layer dont use input_dim"
      ],
      "id": "59a8a5f5-f455-4848-82da-35f3349a7141",
      "execution_count": 15,
      "outputs": []
    },
    {
      "cell_type": "code",
      "metadata": {
        "id": "824e9a3a-ecb4-4833-ba72-95c8941b1522"
      },
      "source": [
        "# Adding the another input layer (third hidden layer)\n",
        "model.add(Dense(units=10, kernel_initializer='he_uniform', activation='relu')) # for 3rd hidden layer dont use input_dim"
      ],
      "id": "824e9a3a-ecb4-4833-ba72-95c8941b1522",
      "execution_count": 16,
      "outputs": []
    },
    {
      "cell_type": "code",
      "metadata": {
        "id": "68aa5ca5-3f86-42f1-b554-2ba3575ccf75"
      },
      "source": [
        "# Adding the output layer\n",
        "model.add(Dense(units = 1, kernel_initializer = 'glorot_uniform', activation = 'sigmoid'))"
      ],
      "id": "68aa5ca5-3f86-42f1-b554-2ba3575ccf75",
      "execution_count": 17,
      "outputs": []
    },
    {
      "cell_type": "code",
      "metadata": {
        "id": "cf4c5df0-45c7-469e-a8f3-f54f0354d41e"
      },
      "source": [
        "# compile the ANN \n",
        "model.compile(optimizer='adam', loss='binary_crossentropy', metrics=['accuracy'])"
      ],
      "id": "cf4c5df0-45c7-469e-a8f3-f54f0354d41e",
      "execution_count": 18,
      "outputs": []
    },
    {
      "cell_type": "code",
      "metadata": {
        "id": "70bc416c-53e3-4b19-9633-484ebfc1cf16",
        "colab": {
          "base_uri": "https://localhost:8080/"
        },
        "outputId": "9f9d5421-d356-4958-fc21-cf6fd7519b88"
      },
      "source": [
        "# Fitting the ANN to the Training set\n",
        "Model = model.fit(X_train, y_train, validation_split=0.1, epochs=10, batch_size=100, )"
      ],
      "id": "70bc416c-53e3-4b19-9633-484ebfc1cf16",
      "execution_count": 19,
      "outputs": [
        {
          "output_type": "stream",
          "name": "stdout",
          "text": [
            "Epoch 1/10\n",
            "72/72 [==============================] - 1s 6ms/step - loss: 0.5586 - accuracy: 0.7774 - val_loss: 0.5255 - val_accuracy: 0.7950\n",
            "Epoch 2/10\n",
            "72/72 [==============================] - 0s 3ms/step - loss: 0.5099 - accuracy: 0.7961 - val_loss: 0.5110 - val_accuracy: 0.7950\n",
            "Epoch 3/10\n",
            "72/72 [==============================] - 0s 2ms/step - loss: 0.5010 - accuracy: 0.7961 - val_loss: 0.5005 - val_accuracy: 0.7950\n",
            "Epoch 4/10\n",
            "72/72 [==============================] - 0s 2ms/step - loss: 0.4917 - accuracy: 0.7961 - val_loss: 0.4862 - val_accuracy: 0.7950\n",
            "Epoch 5/10\n",
            "72/72 [==============================] - 0s 2ms/step - loss: 0.4815 - accuracy: 0.7960 - val_loss: 0.4722 - val_accuracy: 0.8000\n",
            "Epoch 6/10\n",
            "72/72 [==============================] - 0s 3ms/step - loss: 0.4735 - accuracy: 0.7979 - val_loss: 0.4644 - val_accuracy: 0.8087\n",
            "Epoch 7/10\n",
            "72/72 [==============================] - 0s 2ms/step - loss: 0.4670 - accuracy: 0.8028 - val_loss: 0.4551 - val_accuracy: 0.8112\n",
            "Epoch 8/10\n",
            "72/72 [==============================] - 0s 2ms/step - loss: 0.4610 - accuracy: 0.8032 - val_loss: 0.4459 - val_accuracy: 0.8138\n",
            "Epoch 9/10\n",
            "72/72 [==============================] - 0s 2ms/step - loss: 0.4549 - accuracy: 0.8057 - val_loss: 0.4375 - val_accuracy: 0.8175\n",
            "Epoch 10/10\n",
            "72/72 [==============================] - 0s 2ms/step - loss: 0.4483 - accuracy: 0.8085 - val_loss: 0.4265 - val_accuracy: 0.8225\n"
          ]
        }
      ]
    },
    {
      "cell_type": "code",
      "metadata": {
        "id": "b36a3e9a-3ecb-4eda-a26e-98b9705ae425",
        "colab": {
          "base_uri": "https://localhost:8080/"
        },
        "outputId": "71c33e30-a2af-4b06-ebe1-fe46c01131bd"
      },
      "source": [
        "# list all data in history\n",
        "print(Model.history.keys())"
      ],
      "id": "b36a3e9a-3ecb-4eda-a26e-98b9705ae425",
      "execution_count": 20,
      "outputs": [
        {
          "output_type": "stream",
          "name": "stdout",
          "text": [
            "dict_keys(['loss', 'accuracy', 'val_loss', 'val_accuracy'])\n"
          ]
        }
      ]
    },
    {
      "cell_type": "code",
      "metadata": {
        "id": "eb7c600e-0f93-4e28-bd85-18330d69db64",
        "colab": {
          "base_uri": "https://localhost:8080/",
          "height": 295
        },
        "outputId": "156f7514-0b98-4f44-96bf-c0945d1ba156"
      },
      "source": [
        "# summarize history for accuracy\n",
        "plt.plot(Model.history['accuracy'])\n",
        "plt.plot(Model.history['val_accuracy'])\n",
        "plt.title('model accuracy')\n",
        "plt.ylabel('accuracy')\n",
        "plt.xlabel('epoch')\n",
        "plt.legend(['train', 'test'], loc='lower right')\n",
        "plt.show()"
      ],
      "id": "eb7c600e-0f93-4e28-bd85-18330d69db64",
      "execution_count": 21,
      "outputs": [
        {
          "output_type": "display_data",
          "data": {
            "image/png": "[encoded data removed]",
            "text/plain": [
              "<Figure size 432x288 with 1 Axes>"
            ]
          },
          "metadata": {
            "needs_background": "light"
          }
        }
      ]
    },
    {
      "cell_type": "code",
      "metadata": {
        "id": "4f941242-229a-41d5-b8c3-92d822381810",
        "colab": {
          "base_uri": "https://localhost:8080/",
          "height": 295
        },
        "outputId": "3c68154b-5c0b-4896-8f28-0edfa4b36de9"
      },
      "source": [
        "# summarize history for loss\n",
        "plt.plot(Model.history['loss'])\n",
        "plt.plot(Model.history['val_loss'])\n",
        "plt.title('model loss')\n",
        "plt.ylabel('loss')\n",
        "plt.xlabel('epoch')\n",
        "plt.legend(['train', 'test'], loc='upper right')\n",
        "plt.show()"
      ],
      "id": "4f941242-229a-41d5-b8c3-92d822381810",
      "execution_count": 22,
      "outputs": [
        {
          "output_type": "display_data",
          "data": {
            "image/png": "[encoded data removed]",
            "text/plain": [
              "<Figure size 432x288 with 1 Axes>"
            ]
          },
          "metadata": {
            "needs_background": "light"
          }
        }
      ]
    },
    {
      "cell_type": "code",
      "metadata": {
        "id": "dbb2dab3-8fe0-4ba7-9ef2-114c3c2c73ec"
      },
      "source": [
        "# fitting the test dataset\n",
        "y_pred = model.predict(X_test)\n",
        "y_pred = y_pred > 0.5"
      ],
      "id": "dbb2dab3-8fe0-4ba7-9ef2-114c3c2c73ec",
      "execution_count": 23,
      "outputs": []
    },
    {
      "cell_type": "code",
      "metadata": {
        "id": "497a1162-fb25-4638-8ef9-51799c4080ba",
        "colab": {
          "base_uri": "https://localhost:8080/"
        },
        "outputId": "3acf9c6f-6423-47e6-f1af-514a27b80a72"
      },
      "source": [
        "# confusion matrix\n",
        "print(f\"Confusion matrix:\\n {confusion_matrix(y_pred, y_test)}\")\n",
        "\n",
        "# classification report\n",
        "print(f\"Classification report:\\n {classification_report(y_pred, y_test)}\")"
      ],
      "id": "497a1162-fb25-4638-8ef9-51799c4080ba",
      "execution_count": 24,
      "outputs": [
        {
          "output_type": "stream",
          "name": "stdout",
          "text": [
            "Confusion matrix:\n",
            " [[1563  320]\n",
            " [  32   85]]\n",
            "Classification report:\n",
            "               precision    recall  f1-score   support\n",
            "\n",
            "       False       0.98      0.83      0.90      1883\n",
            "        True       0.21      0.73      0.33       117\n",
            "\n",
            "    accuracy                           0.82      2000\n",
            "   macro avg       0.59      0.78      0.61      2000\n",
            "weighted avg       0.93      0.82      0.87      2000\n",
            "\n"
          ]
        }
      ]
    },
    {
      "cell_type": "markdown",
      "metadata": {
        "id": "96d88de8-59ff-47ae-9a0c-b2aa9ca68947"
      },
      "source": [
        "### HyperParameter tunning:"
      ],
      "id": "96d88de8-59ff-47ae-9a0c-b2aa9ca68947"
    },
    {
      "cell_type": "code",
      "metadata": {
        "id": "9f33ac1c-f055-446d-b4be-42caf7bbe742"
      },
      "source": [
        "from keras.wrappers.scikit_learn import KerasClassifier\n",
        "from sklearn.model_selection import GridSearchCV\n",
        "\n",
        "from keras.models import Sequential\n",
        "from keras.layers import Dense, Activation, Embedding, Flatten, LeakyReLU, BatchNormalization, Dropout\n",
        "from keras.activations import relu, sigmoid"
      ],
      "id": "9f33ac1c-f055-446d-b4be-42caf7bbe742",
      "execution_count": 25,
      "outputs": []
    },
    {
      "cell_type": "code",
      "metadata": {
        "id": "8bc1867a-0c0f-4645-98ca-4c7830ad68a4"
      },
      "source": [
        "def create_model(layer, activation, kernel):\n",
        "    model = Sequential()\n",
        "    for i, nodes in enumerate(layer):\n",
        "        if i == 0:\n",
        "            model.add(Dense(nodes, input_dim=X_train.shape[1]))\n",
        "            model.add(Activation(activation))\n",
        "        else:\n",
        "            model.add(Dense(nodes), kernel_initializer=kernel)\n",
        "            model.add(Activation(activation))\n",
        "            \n",
        "    model.add(Dense(units=1, activation='sigmoid', kernel_initializer=\"glorot_uniform\"))   # this one is output layer so we use sigmoid af\n",
        "    model.compile(optimizer='adam', loss=\"binary_crossentropy\", metrics=['accuracy'])\n",
        "    return model"
      ],
      "id": "8bc1867a-0c0f-4645-98ca-4c7830ad68a4",
      "execution_count": 26,
      "outputs": []
    },
    {
      "cell_type": "code",
      "metadata": {
        "id": "1ca60311-f192-495b-a2eb-2f7ee519ca8e"
      },
      "source": [
        "# creating an object for previous function\n",
        "model = KerasClassifier(build_fn=create_model)"
      ],
      "id": "1ca60311-f192-495b-a2eb-2f7ee519ca8e",
      "execution_count": 27,
      "outputs": []
    },
    {
      "cell_type": "code",
      "metadata": {
        "id": "e157d359-283c-412b-8ac0-611ec4bf566a"
      },
      "source": [
        "layers = [[20], [40, 20], [40, 20, 10]]\n",
        "activations = ['relu', 'sigmoid']\n",
        "kernel = [['he_uniform', 'he_normal'], ['glorot_uniform', 'glorot_normal']]\n",
        "para_grid = dict(layer=layers, activation=activations, kernel=kernel)\n",
        "grid = GridSearchCV(model, para_grid, cv=5)"
      ],
      "id": "e157d359-283c-412b-8ac0-611ec4bf566a",
      "execution_count": 28,
      "outputs": []
    },
    {
      "cell_type": "code",
      "metadata": {
        "id": "decfe152-2275-45c2-ac72-b0aa3c379500",
        "colab": {
          "base_uri": "https://localhost:8080/"
        },
        "outputId": "c303b790-8c2d-4f2b-d821-ce4969dcff2f"
      },
      "source": [
        "# fitting dataset with created model \n",
        "grid.fit(X_train, y_train, validation_split=0.3, validation_data=(X_test, y_test), epochs=10)"
      ],
      "id": "decfe152-2275-45c2-ac72-b0aa3c379500",
      "execution_count": 29,
      "outputs": [
        {
          "output_type": "stream",
          "name": "stdout",
          "text": [
            "Epoch 1/10\n",
            "140/140 [==============================] - 1s 3ms/step - loss: 0.5431 - accuracy: 0.7917 - val_loss: 0.5025 - val_accuracy: 0.7995\n",
            "Epoch 2/10\n",
            "140/140 [==============================] - 0s 2ms/step - loss: 0.4957 - accuracy: 0.7973 - val_loss: 0.4832 - val_accuracy: 0.7995\n",
            "Epoch 3/10\n",
            "140/140 [==============================] - 0s 2ms/step - loss: 0.4776 - accuracy: 0.7973 - val_loss: 0.4729 - val_accuracy: 0.7995\n",
            "Epoch 4/10\n",
            "140/140 [==============================] - 0s 2ms/step - loss: 0.4671 - accuracy: 0.7973 - val_loss: 0.4663 - val_accuracy: 0.7995\n",
            "Epoch 5/10\n",
            "140/140 [==============================] - 0s 2ms/step - loss: 0.4599 - accuracy: 0.7973 - val_loss: 0.4617 - val_accuracy: 0.7995\n",
            "Epoch 6/10\n",
            "140/140 [==============================] - 0s 2ms/step - loss: 0.4536 - accuracy: 0.7973 - val_loss: 0.4553 - val_accuracy: 0.8005\n",
            "Epoch 7/10\n",
            "140/140 [==============================] - 0s 2ms/step - loss: 0.4480 - accuracy: 0.8000 - val_loss: 0.4506 - val_accuracy: 0.8016\n",
            "Epoch 8/10\n",
            "140/140 [==============================] - 0s 2ms/step - loss: 0.4430 - accuracy: 0.8045 - val_loss: 0.4465 - val_accuracy: 0.8073\n",
            "Epoch 9/10\n",
            "140/140 [==============================] - 0s 2ms/step - loss: 0.4384 - accuracy: 0.8083 - val_loss: 0.4426 - val_accuracy: 0.8094\n",
            "Epoch 10/10\n",
            "140/140 [==============================] - 0s 2ms/step - loss: 0.4340 - accuracy: 0.8136 - val_loss: 0.4394 - val_accuracy: 0.8104\n",
            "50/50 [==============================] - 0s 1ms/step - loss: 0.4469 - accuracy: 0.8037\n",
            "Epoch 1/10\n",
            "140/140 [==============================] - 1s 3ms/step - loss: 0.5423 - accuracy: 0.7652 - val_loss: 0.5000 - val_accuracy: 0.7995\n",
            "Epoch 2/10\n",
            "140/140 [==============================] - 0s 2ms/step - loss: 0.4900 - accuracy: 0.7962 - val_loss: 0.4849 - val_accuracy: 0.7995\n",
            "Epoch 3/10\n",
            "140/140 [==============================] - 0s 2ms/step - loss: 0.4753 - accuracy: 0.7982 - val_loss: 0.4744 - val_accuracy: 0.8021\n",
            "Epoch 4/10\n",
            "140/140 [==============================] - 0s 2ms/step - loss: 0.4654 - accuracy: 0.7984 - val_loss: 0.4684 - val_accuracy: 0.8016\n",
            "Epoch 5/10\n",
            "140/140 [==============================] - 0s 2ms/step - loss: 0.4592 - accuracy: 0.8029 - val_loss: 0.4627 - val_accuracy: 0.8026\n",
            "Epoch 6/10\n",
            "140/140 [==============================] - 0s 2ms/step - loss: 0.4532 - accuracy: 0.8062 - val_loss: 0.4583 - val_accuracy: 0.8026\n",
            "Epoch 7/10\n",
            "140/140 [==============================] - 0s 2ms/step - loss: 0.4491 - accuracy: 0.8069 - val_loss: 0.4544 - val_accuracy: 0.8062\n",
            "Epoch 8/10\n",
            "140/140 [==============================] - 0s 2ms/step - loss: 0.4447 - accuracy: 0.8087 - val_loss: 0.4511 - val_accuracy: 0.8047\n",
            "Epoch 9/10\n",
            "140/140 [==============================] - 0s 2ms/step - loss: 0.4415 - accuracy: 0.8100 - val_loss: 0.4482 - val_accuracy: 0.8089\n",
            "Epoch 10/10\n",
            "140/140 [==============================] - 0s 2ms/step - loss: 0.4385 - accuracy: 0.8112 - val_loss: 0.4450 - val_accuracy: 0.8089\n",
            "50/50 [==============================] - 0s 1ms/step - loss: 0.4514 - accuracy: 0.8044\n",
            "Epoch 1/10\n",
            "140/140 [==============================] - 1s 3ms/step - loss: 0.5370 - accuracy: 0.7875 - val_loss: 0.5025 - val_accuracy: 0.7995\n",
            "Epoch 2/10\n",
            "140/140 [==============================] - 0s 2ms/step - loss: 0.5017 - accuracy: 0.7884 - val_loss: 0.4823 - val_accuracy: 0.7995\n",
            "Epoch 3/10\n",
            "140/140 [==============================] - 0s 2ms/step - loss: 0.4854 - accuracy: 0.7884 - val_loss: 0.4709 - val_accuracy: 0.7995\n",
            "Epoch 4/10\n",
            "140/140 [==============================] - 0s 2ms/step - loss: 0.4747 - accuracy: 0.7895 - val_loss: 0.4637 - val_accuracy: 0.8016\n",
            "Epoch 5/10\n",
            "140/140 [==============================] - 0s 2ms/step - loss: 0.4658 - accuracy: 0.7946 - val_loss: 0.4580 - val_accuracy: 0.8042\n",
            "Epoch 6/10\n",
            "140/140 [==============================] - 0s 2ms/step - loss: 0.4578 - accuracy: 0.8004 - val_loss: 0.4510 - val_accuracy: 0.8068\n",
            "Epoch 7/10\n",
            "140/140 [==============================] - 0s 2ms/step - loss: 0.4504 - accuracy: 0.8047 - val_loss: 0.4437 - val_accuracy: 0.8094\n",
            "Epoch 8/10\n",
            "140/140 [==============================] - 0s 2ms/step - loss: 0.4429 - accuracy: 0.8069 - val_loss: 0.4367 - val_accuracy: 0.8104\n",
            "Epoch 9/10\n",
            "140/140 [==============================] - 0s 2ms/step - loss: 0.4370 - accuracy: 0.8085 - val_loss: 0.4316 - val_accuracy: 0.8115\n",
            "Epoch 10/10\n",
            "140/140 [==============================] - 0s 2ms/step - loss: 0.4314 - accuracy: 0.8116 - val_loss: 0.4271 - val_accuracy: 0.8182\n",
            "50/50 [==============================] - 0s 1ms/step - loss: 0.4000 - accuracy: 0.8306\n",
            "Epoch 1/10\n",
            "140/140 [==============================] - 1s 3ms/step - loss: 0.6370 - accuracy: 0.6326 - val_loss: 0.5162 - val_accuracy: 0.7922\n",
            "Epoch 2/10\n",
            "140/140 [==============================] - 0s 2ms/step - loss: 0.4967 - accuracy: 0.7996 - val_loss: 0.4995 - val_accuracy: 0.7922\n",
            "Epoch 3/10\n",
            "140/140 [==============================] - 0s 2ms/step - loss: 0.4842 - accuracy: 0.7996 - val_loss: 0.4894 - val_accuracy: 0.7922\n",
            "Epoch 4/10\n",
            "140/140 [==============================] - 0s 2ms/step - loss: 0.4740 - accuracy: 0.8004 - val_loss: 0.4817 - val_accuracy: 0.7917\n",
            "Epoch 5/10\n",
            "140/140 [==============================] - 0s 2ms/step - loss: 0.4654 - accuracy: 0.8036 - val_loss: 0.4730 - val_accuracy: 0.7953\n",
            "Epoch 6/10\n",
            "140/140 [==============================] - 0s 2ms/step - loss: 0.4586 - accuracy: 0.8045 - val_loss: 0.4674 - val_accuracy: 0.7964\n",
            "Epoch 7/10\n",
            "140/140 [==============================] - 0s 2ms/step - loss: 0.4526 - accuracy: 0.8067 - val_loss: 0.4621 - val_accuracy: 0.7969\n",
            "Epoch 8/10\n",
            "140/140 [==============================] - 0s 2ms/step - loss: 0.4485 - accuracy: 0.8098 - val_loss: 0.4578 - val_accuracy: 0.7995\n",
            "Epoch 9/10\n",
            "140/140 [==============================] - 0s 2ms/step - loss: 0.4435 - accuracy: 0.8118 - val_loss: 0.4544 - val_accuracy: 0.8016\n",
            "Epoch 10/10\n",
            "140/140 [==============================] - 0s 2ms/step - loss: 0.4392 - accuracy: 0.8121 - val_loss: 0.4510 - val_accuracy: 0.8031\n",
            "50/50 [==============================] - 0s 1ms/step - loss: 0.4506 - accuracy: 0.8056\n",
            "Epoch 1/10\n",
            "140/140 [==============================] - 1s 3ms/step - loss: 0.5143 - accuracy: 0.7953 - val_loss: 0.5119 - val_accuracy: 0.7870\n",
            "Epoch 2/10\n",
            "140/140 [==============================] - 0s 2ms/step - loss: 0.4813 - accuracy: 0.8013 - val_loss: 0.4895 - val_accuracy: 0.7896\n",
            "Epoch 3/10\n",
            "140/140 [==============================] - 0s 2ms/step - loss: 0.4655 - accuracy: 0.8047 - val_loss: 0.4790 - val_accuracy: 0.7906\n",
            "Epoch 4/10\n",
            "140/140 [==============================] - 0s 2ms/step - loss: 0.4547 - accuracy: 0.8058 - val_loss: 0.4692 - val_accuracy: 0.7974\n",
            "Epoch 5/10\n",
            "140/140 [==============================] - 0s 2ms/step - loss: 0.4477 - accuracy: 0.8089 - val_loss: 0.4624 - val_accuracy: 0.8000\n",
            "Epoch 6/10\n",
            "140/140 [==============================] - 0s 2ms/step - loss: 0.4425 - accuracy: 0.8112 - val_loss: 0.4576 - val_accuracy: 0.7995\n",
            "Epoch 7/10\n",
            "140/140 [==============================] - 0s 2ms/step - loss: 0.4386 - accuracy: 0.8121 - val_loss: 0.4540 - val_accuracy: 0.8021\n",
            "Epoch 8/10\n",
            "140/140 [==============================] - 0s 2ms/step - loss: 0.4356 - accuracy: 0.8138 - val_loss: 0.4513 - val_accuracy: 0.8021\n",
            "Epoch 9/10\n",
            "140/140 [==============================] - 0s 2ms/step - loss: 0.4323 - accuracy: 0.8143 - val_loss: 0.4495 - val_accuracy: 0.8057\n",
            "Epoch 10/10\n",
            "140/140 [==============================] - 0s 2ms/step - loss: 0.4295 - accuracy: 0.8154 - val_loss: 0.4514 - val_accuracy: 0.8052\n",
            "50/50 [==============================] - 0s 2ms/step - loss: 0.4436 - accuracy: 0.8100\n",
            "Epoch 1/10\n",
            "140/140 [==============================] - 1s 3ms/step - loss: 0.5310 - accuracy: 0.7942 - val_loss: 0.4936 - val_accuracy: 0.7995\n",
            "Epoch 2/10\n",
            "140/140 [==============================] - 0s 2ms/step - loss: 0.4831 - accuracy: 0.7973 - val_loss: 0.4769 - val_accuracy: 0.7995\n",
            "Epoch 3/10\n",
            "140/140 [==============================] - 0s 2ms/step - loss: 0.4667 - accuracy: 0.7984 - val_loss: 0.4664 - val_accuracy: 0.8016\n",
            "Epoch 4/10\n",
            "140/140 [==============================] - 0s 2ms/step - loss: 0.4568 - accuracy: 0.8009 - val_loss: 0.4590 - val_accuracy: 0.8036\n",
            "Epoch 5/10\n",
            "140/140 [==============================] - 0s 2ms/step - loss: 0.4503 - accuracy: 0.8029 - val_loss: 0.4538 - val_accuracy: 0.8073\n",
            "Epoch 6/10\n",
            "140/140 [==============================] - 0s 2ms/step - loss: 0.4451 - accuracy: 0.8067 - val_loss: 0.4501 - val_accuracy: 0.8073\n",
            "Epoch 7/10\n",
            "140/140 [==============================] - 0s 2ms/step - loss: 0.4407 - accuracy: 0.8085 - val_loss: 0.4463 - val_accuracy: 0.8089\n",
            "Epoch 8/10\n",
            "140/140 [==============================] - 0s 2ms/step - loss: 0.4366 - accuracy: 0.8136 - val_loss: 0.4415 - val_accuracy: 0.8073\n",
            "Epoch 9/10\n",
            "140/140 [==============================] - 0s 2ms/step - loss: 0.4320 - accuracy: 0.8132 - val_loss: 0.4375 - val_accuracy: 0.8109\n",
            "Epoch 10/10\n",
            "140/140 [==============================] - 0s 2ms/step - loss: 0.4276 - accuracy: 0.8145 - val_loss: 0.4344 - val_accuracy: 0.8109\n",
            "50/50 [==============================] - 0s 1ms/step - loss: 0.4408 - accuracy: 0.8044\n",
            "Epoch 1/10\n",
            "140/140 [==============================] - 1s 3ms/step - loss: 0.5799 - accuracy: 0.7379 - val_loss: 0.5140 - val_accuracy: 0.7995\n",
            "Epoch 2/10\n",
            "140/140 [==============================] - 0s 2ms/step - loss: 0.5030 - accuracy: 0.7962 - val_loss: 0.4934 - val_accuracy: 0.7995\n",
            "Epoch 3/10\n",
            "140/140 [==============================] - 0s 2ms/step - loss: 0.4832 - accuracy: 0.7962 - val_loss: 0.4804 - val_accuracy: 0.7995\n",
            "Epoch 4/10\n",
            "140/140 [==============================] - 0s 2ms/step - loss: 0.4703 - accuracy: 0.7982 - val_loss: 0.4711 - val_accuracy: 0.7995\n",
            "Epoch 5/10\n",
            "140/140 [==============================] - 0s 2ms/step - loss: 0.4618 - accuracy: 0.7998 - val_loss: 0.4645 - val_accuracy: 0.8047\n",
            "Epoch 6/10\n",
            "140/140 [==============================] - 0s 2ms/step - loss: 0.4553 - accuracy: 0.8018 - val_loss: 0.4591 - val_accuracy: 0.8052\n",
            "Epoch 7/10\n",
            "140/140 [==============================] - 0s 2ms/step - loss: 0.4494 - accuracy: 0.8049 - val_loss: 0.4542 - val_accuracy: 0.8068\n",
            "Epoch 8/10\n",
            "140/140 [==============================] - 0s 2ms/step - loss: 0.4448 - accuracy: 0.8089 - val_loss: 0.4497 - val_accuracy: 0.8078\n",
            "Epoch 9/10\n",
            "140/140 [==============================] - 0s 2ms/step - loss: 0.4392 - accuracy: 0.8141 - val_loss: 0.4464 - val_accuracy: 0.8094\n",
            "Epoch 10/10\n",
            "140/140 [==============================] - 0s 2ms/step - loss: 0.4348 - accuracy: 0.8143 - val_loss: 0.4436 - val_accuracy: 0.8109\n",
            "50/50 [==============================] - 0s 1ms/step - loss: 0.4504 - accuracy: 0.8019\n",
            "Epoch 1/10\n",
            "140/140 [==============================] - 1s 3ms/step - loss: 0.5357 - accuracy: 0.7826 - val_loss: 0.4946 - val_accuracy: 0.7995\n",
            "Epoch 2/10\n",
            "140/140 [==============================] - 0s 2ms/step - loss: 0.4957 - accuracy: 0.7888 - val_loss: 0.4764 - val_accuracy: 0.7990\n",
            "Epoch 3/10\n",
            "140/140 [==============================] - 0s 2ms/step - loss: 0.4821 - accuracy: 0.7917 - val_loss: 0.4692 - val_accuracy: 0.7995\n",
            "Epoch 4/10\n",
            "140/140 [==============================] - 0s 2ms/step - loss: 0.4746 - accuracy: 0.7940 - val_loss: 0.4642 - val_accuracy: 0.7995\n",
            "Epoch 5/10\n",
            "140/140 [==============================] - 0s 2ms/step - loss: 0.4691 - accuracy: 0.7967 - val_loss: 0.4594 - val_accuracy: 0.8047\n",
            "Epoch 6/10\n",
            "140/140 [==============================] - 0s 2ms/step - loss: 0.4636 - accuracy: 0.7980 - val_loss: 0.4552 - val_accuracy: 0.8062\n",
            "Epoch 7/10\n",
            "140/140 [==============================] - 0s 2ms/step - loss: 0.4589 - accuracy: 0.8016 - val_loss: 0.4517 - val_accuracy: 0.8068\n",
            "Epoch 8/10\n",
            "140/140 [==============================] - 0s 2ms/step - loss: 0.4551 - accuracy: 0.7996 - val_loss: 0.4485 - val_accuracy: 0.8089\n",
            "Epoch 9/10\n",
            "140/140 [==============================] - 0s 2ms/step - loss: 0.4513 - accuracy: 0.8049 - val_loss: 0.4458 - val_accuracy: 0.8083\n",
            "Epoch 10/10\n",
            "140/140 [==============================] - 0s 2ms/step - loss: 0.4468 - accuracy: 0.8074 - val_loss: 0.4427 - val_accuracy: 0.8094\n",
            "50/50 [==============================] - 0s 1ms/step - loss: 0.4123 - accuracy: 0.8263\n",
            "Epoch 1/10\n",
            "140/140 [==============================] - 1s 3ms/step - loss: 0.5641 - accuracy: 0.7411 - val_loss: 0.5187 - val_accuracy: 0.7922\n",
            "Epoch 2/10\n",
            "140/140 [==============================] - 0s 2ms/step - loss: 0.4959 - accuracy: 0.7996 - val_loss: 0.4984 - val_accuracy: 0.7922\n",
            "Epoch 3/10\n",
            "140/140 [==============================] - 0s 2ms/step - loss: 0.4787 - accuracy: 0.7996 - val_loss: 0.4857 - val_accuracy: 0.7922\n",
            "Epoch 4/10\n",
            "140/140 [==============================] - 0s 2ms/step - loss: 0.4654 - accuracy: 0.7998 - val_loss: 0.4720 - val_accuracy: 0.7937\n",
            "Epoch 5/10\n",
            "140/140 [==============================] - 0s 2ms/step - loss: 0.4540 - accuracy: 0.8045 - val_loss: 0.4628 - val_accuracy: 0.7974\n",
            "Epoch 6/10\n",
            "140/140 [==============================] - 0s 2ms/step - loss: 0.4476 - accuracy: 0.8085 - val_loss: 0.4577 - val_accuracy: 0.8042\n",
            "Epoch 7/10\n",
            "140/140 [==============================] - 0s 2ms/step - loss: 0.4412 - accuracy: 0.8100 - val_loss: 0.4536 - val_accuracy: 0.8042\n",
            "Epoch 8/10\n",
            "140/140 [==============================] - 0s 2ms/step - loss: 0.4364 - accuracy: 0.8125 - val_loss: 0.4515 - val_accuracy: 0.8073\n",
            "Epoch 9/10\n",
            "140/140 [==============================] - 0s 2ms/step - loss: 0.4323 - accuracy: 0.8125 - val_loss: 0.4470 - val_accuracy: 0.8052\n",
            "Epoch 10/10\n",
            "140/140 [==============================] - 0s 2ms/step - loss: 0.4291 - accuracy: 0.8141 - val_loss: 0.4462 - val_accuracy: 0.8099\n",
            "50/50 [==============================] - 0s 1ms/step - loss: 0.4431 - accuracy: 0.8112\n",
            "Epoch 1/10\n",
            "140/140 [==============================] - 1s 3ms/step - loss: 0.7119 - accuracy: 0.5321 - val_loss: 0.5285 - val_accuracy: 0.7870\n",
            "Epoch 2/10\n",
            "140/140 [==============================] - 0s 2ms/step - loss: 0.4987 - accuracy: 0.7996 - val_loss: 0.5028 - val_accuracy: 0.7870\n",
            "Epoch 3/10\n",
            "140/140 [==============================] - 0s 2ms/step - loss: 0.4808 - accuracy: 0.7996 - val_loss: 0.4890 - val_accuracy: 0.7870\n",
            "Epoch 4/10\n",
            "140/140 [==============================] - 0s 2ms/step - loss: 0.4695 - accuracy: 0.8013 - val_loss: 0.4799 - val_accuracy: 0.7901\n",
            "Epoch 5/10\n",
            "140/140 [==============================] - 0s 2ms/step - loss: 0.4616 - accuracy: 0.8038 - val_loss: 0.4744 - val_accuracy: 0.7922\n",
            "Epoch 6/10\n",
            "140/140 [==============================] - 0s 2ms/step - loss: 0.4556 - accuracy: 0.8049 - val_loss: 0.4690 - val_accuracy: 0.7984\n",
            "Epoch 7/10\n",
            "140/140 [==============================] - 0s 2ms/step - loss: 0.4510 - accuracy: 0.8062 - val_loss: 0.4631 - val_accuracy: 0.7974\n",
            "Epoch 8/10\n",
            "140/140 [==============================] - 0s 2ms/step - loss: 0.4467 - accuracy: 0.8103 - val_loss: 0.4593 - val_accuracy: 0.7995\n",
            "Epoch 9/10\n",
            "140/140 [==============================] - 0s 2ms/step - loss: 0.4421 - accuracy: 0.8118 - val_loss: 0.4564 - val_accuracy: 0.8010\n",
            "Epoch 10/10\n",
            "140/140 [==============================] - 0s 2ms/step - loss: 0.4384 - accuracy: 0.8123 - val_loss: 0.4529 - val_accuracy: 0.8021\n",
            "50/50 [==============================] - 0s 1ms/step - loss: 0.4463 - accuracy: 0.8081\n",
            "Epoch 1/10\n",
            "140/140 [==============================] - 1s 3ms/step - loss: 0.5549 - accuracy: 0.7696 - val_loss: 0.5026 - val_accuracy: 0.7995\n",
            "Epoch 2/10\n",
            "140/140 [==============================] - 0s 2ms/step - loss: 0.5010 - accuracy: 0.7973 - val_loss: 0.4944 - val_accuracy: 0.7995\n",
            "Epoch 3/10\n",
            "140/140 [==============================] - 0s 2ms/step - loss: 0.4933 - accuracy: 0.7973 - val_loss: 0.4881 - val_accuracy: 0.7995\n",
            "Epoch 4/10\n",
            "140/140 [==============================] - 0s 2ms/step - loss: 0.4860 - accuracy: 0.7973 - val_loss: 0.4818 - val_accuracy: 0.7995\n",
            "Epoch 5/10\n",
            "140/140 [==============================] - 0s 2ms/step - loss: 0.4793 - accuracy: 0.7973 - val_loss: 0.4765 - val_accuracy: 0.7995\n",
            "Epoch 6/10\n",
            "140/140 [==============================] - 0s 2ms/step - loss: 0.4736 - accuracy: 0.7973 - val_loss: 0.4718 - val_accuracy: 0.7995\n",
            "Epoch 7/10\n",
            "140/140 [==============================] - 0s 2ms/step - loss: 0.4685 - accuracy: 0.7973 - val_loss: 0.4677 - val_accuracy: 0.7995\n",
            "Epoch 8/10\n",
            "140/140 [==============================] - 0s 2ms/step - loss: 0.4640 - accuracy: 0.7973 - val_loss: 0.4643 - val_accuracy: 0.7995\n",
            "Epoch 9/10\n",
            "140/140 [==============================] - 0s 2ms/step - loss: 0.4599 - accuracy: 0.7975 - val_loss: 0.4616 - val_accuracy: 0.7995\n",
            "Epoch 10/10\n",
            "140/140 [==============================] - 0s 2ms/step - loss: 0.4567 - accuracy: 0.7989 - val_loss: 0.4589 - val_accuracy: 0.7995\n",
            "50/50 [==============================] - 0s 1ms/step - loss: 0.4676 - accuracy: 0.7894\n",
            "Epoch 1/10\n",
            "140/140 [==============================] - 1s 2ms/step - loss: 0.5155 - accuracy: 0.7962 - val_loss: 0.4971 - val_accuracy: 0.7995\n",
            "Epoch 2/10\n",
            "140/140 [==============================] - 0s 2ms/step - loss: 0.4962 - accuracy: 0.7962 - val_loss: 0.4891 - val_accuracy: 0.7995\n",
            "Epoch 3/10\n",
            "140/140 [==============================] - 0s 2ms/step - loss: 0.4877 - accuracy: 0.7962 - val_loss: 0.4827 - val_accuracy: 0.7995\n",
            "Epoch 4/10\n",
            "140/140 [==============================] - 0s 2ms/step - loss: 0.4802 - accuracy: 0.7962 - val_loss: 0.4767 - val_accuracy: 0.7995\n",
            "Epoch 5/10\n",
            "140/140 [==============================] - 0s 2ms/step - loss: 0.4736 - accuracy: 0.7962 - val_loss: 0.4724 - val_accuracy: 0.7995\n",
            "Epoch 6/10\n",
            "140/140 [==============================] - 0s 2ms/step - loss: 0.4681 - accuracy: 0.7962 - val_loss: 0.4676 - val_accuracy: 0.7995\n",
            "Epoch 7/10\n",
            "140/140 [==============================] - 0s 2ms/step - loss: 0.4632 - accuracy: 0.7962 - val_loss: 0.4640 - val_accuracy: 0.7995\n",
            "Epoch 8/10\n",
            "140/140 [==============================] - 0s 2ms/step - loss: 0.4592 - accuracy: 0.7962 - val_loss: 0.4610 - val_accuracy: 0.7995\n",
            "Epoch 9/10\n",
            "140/140 [==============================] - 0s 2ms/step - loss: 0.4558 - accuracy: 0.7980 - val_loss: 0.4585 - val_accuracy: 0.8005\n",
            "Epoch 10/10\n",
            "140/140 [==============================] - 0s 2ms/step - loss: 0.4528 - accuracy: 0.7998 - val_loss: 0.4567 - val_accuracy: 0.8005\n",
            "50/50 [==============================] - 0s 1ms/step - loss: 0.4661 - accuracy: 0.7956\n",
            "Epoch 1/10\n",
            "140/140 [==============================] - 1s 3ms/step - loss: 0.5704 - accuracy: 0.7404 - val_loss: 0.5004 - val_accuracy: 0.7995\n",
            "Epoch 2/10\n",
            "140/140 [==============================] - 0s 2ms/step - loss: 0.5099 - accuracy: 0.7884 - val_loss: 0.4933 - val_accuracy: 0.7995\n",
            "Epoch 3/10\n",
            "140/140 [==============================] - 0s 2ms/step - loss: 0.5037 - accuracy: 0.7884 - val_loss: 0.4876 - val_accuracy: 0.7995\n",
            "Epoch 4/10\n",
            "140/140 [==============================] - 0s 2ms/step - loss: 0.4981 - accuracy: 0.7884 - val_loss: 0.4828 - val_accuracy: 0.7995\n",
            "Epoch 5/10\n",
            "140/140 [==============================] - 0s 2ms/step - loss: 0.4924 - accuracy: 0.7884 - val_loss: 0.4779 - val_accuracy: 0.7995\n",
            "Epoch 6/10\n",
            "140/140 [==============================] - 0s 2ms/step - loss: 0.4871 - accuracy: 0.7884 - val_loss: 0.4732 - val_accuracy: 0.7995\n",
            "Epoch 7/10\n",
            "140/140 [==============================] - 0s 2ms/step - loss: 0.4821 - accuracy: 0.7884 - val_loss: 0.4694 - val_accuracy: 0.7995\n",
            "Epoch 8/10\n",
            "140/140 [==============================] - 0s 2ms/step - loss: 0.4777 - accuracy: 0.7884 - val_loss: 0.4668 - val_accuracy: 0.7995\n",
            "Epoch 9/10\n",
            "140/140 [==============================] - 0s 2ms/step - loss: 0.4742 - accuracy: 0.7884 - val_loss: 0.4639 - val_accuracy: 0.7995\n",
            "Epoch 10/10\n",
            "140/140 [==============================] - 0s 2ms/step - loss: 0.4706 - accuracy: 0.7891 - val_loss: 0.4607 - val_accuracy: 0.8005\n",
            "50/50 [==============================] - 0s 1ms/step - loss: 0.4368 - accuracy: 0.8138\n",
            "Epoch 1/10\n",
            "140/140 [==============================] - 1s 3ms/step - loss: 1.0115 - accuracy: 0.2732 - val_loss: 0.6508 - val_accuracy: 0.6750\n",
            "Epoch 2/10\n",
            "140/140 [==============================] - 0s 2ms/step - loss: 0.5667 - accuracy: 0.7868 - val_loss: 0.5297 - val_accuracy: 0.7922\n",
            "Epoch 3/10\n",
            "140/140 [==============================] - 0s 2ms/step - loss: 0.5122 - accuracy: 0.7996 - val_loss: 0.5162 - val_accuracy: 0.7922\n",
            "Epoch 4/10\n",
            "140/140 [==============================] - 0s 2ms/step - loss: 0.5035 - accuracy: 0.7996 - val_loss: 0.5124 - val_accuracy: 0.7922\n",
            "Epoch 5/10\n",
            "140/140 [==============================] - 0s 2ms/step - loss: 0.4995 - accuracy: 0.7996 - val_loss: 0.5089 - val_accuracy: 0.7922\n",
            "Epoch 6/10\n",
            "140/140 [==============================] - 0s 2ms/step - loss: 0.4958 - accuracy: 0.7996 - val_loss: 0.5050 - val_accuracy: 0.7922\n",
            "Epoch 7/10\n",
            "140/140 [==============================] - 0s 2ms/step - loss: 0.4919 - accuracy: 0.7996 - val_loss: 0.5011 - val_accuracy: 0.7922\n",
            "Epoch 8/10\n",
            "140/140 [==============================] - 0s 2ms/step - loss: 0.4879 - accuracy: 0.7996 - val_loss: 0.4970 - val_accuracy: 0.7922\n",
            "Epoch 9/10\n",
            "140/140 [==============================] - 0s 2ms/step - loss: 0.4838 - accuracy: 0.7996 - val_loss: 0.4928 - val_accuracy: 0.7922\n",
            "Epoch 10/10\n",
            "140/140 [==============================] - 0s 2ms/step - loss: 0.4797 - accuracy: 0.7996 - val_loss: 0.4887 - val_accuracy: 0.7922\n",
            "50/50 [==============================] - 0s 1ms/step - loss: 0.4908 - accuracy: 0.7906\n",
            "Epoch 1/10\n",
            "140/140 [==============================] - 1s 3ms/step - loss: 0.7650 - accuracy: 0.4815 - val_loss: 0.5667 - val_accuracy: 0.7870\n",
            "Epoch 2/10\n",
            "140/140 [==============================] - 0s 2ms/step - loss: 0.5259 - accuracy: 0.7996 - val_loss: 0.5306 - val_accuracy: 0.7870\n",
            "Epoch 3/10\n",
            "140/140 [==============================] - 0s 2ms/step - loss: 0.5100 - accuracy: 0.7996 - val_loss: 0.5251 - val_accuracy: 0.7870\n",
            "Epoch 4/10\n",
            "140/140 [==============================] - 0s 2ms/step - loss: 0.5043 - accuracy: 0.7996 - val_loss: 0.5197 - val_accuracy: 0.7870\n",
            "Epoch 5/10\n",
            "140/140 [==============================] - 0s 2ms/step - loss: 0.4986 - accuracy: 0.7996 - val_loss: 0.5140 - val_accuracy: 0.7870\n",
            "Epoch 6/10\n",
            "140/140 [==============================] - 0s 2ms/step - loss: 0.4928 - accuracy: 0.7996 - val_loss: 0.5076 - val_accuracy: 0.7870\n",
            "Epoch 7/10\n",
            "140/140 [==============================] - 0s 2ms/step - loss: 0.4869 - accuracy: 0.7996 - val_loss: 0.5015 - val_accuracy: 0.7870\n",
            "Epoch 8/10\n",
            "140/140 [==============================] - 0s 2ms/step - loss: 0.4811 - accuracy: 0.7996 - val_loss: 0.4962 - val_accuracy: 0.7870\n",
            "Epoch 9/10\n",
            "140/140 [==============================] - 0s 2ms/step - loss: 0.4758 - accuracy: 0.7996 - val_loss: 0.4897 - val_accuracy: 0.7870\n",
            "Epoch 10/10\n",
            "140/140 [==============================] - 0s 2ms/step - loss: 0.4709 - accuracy: 0.7996 - val_loss: 0.4855 - val_accuracy: 0.7870\n",
            "50/50 [==============================] - 0s 1ms/step - loss: 0.4738 - accuracy: 0.7969\n",
            "Epoch 1/10\n",
            "140/140 [==============================] - 1s 3ms/step - loss: 0.5304 - accuracy: 0.7962 - val_loss: 0.4985 - val_accuracy: 0.7995\n",
            "Epoch 2/10\n",
            "140/140 [==============================] - 0s 2ms/step - loss: 0.4975 - accuracy: 0.7973 - val_loss: 0.4912 - val_accuracy: 0.7995\n",
            "Epoch 3/10\n",
            "140/140 [==============================] - 0s 2ms/step - loss: 0.4897 - accuracy: 0.7973 - val_loss: 0.4852 - val_accuracy: 0.7995\n",
            "Epoch 4/10\n",
            "140/140 [==============================] - 0s 2ms/step - loss: 0.4822 - accuracy: 0.7973 - val_loss: 0.4785 - val_accuracy: 0.7995\n",
            "Epoch 5/10\n",
            "140/140 [==============================] - 0s 2ms/step - loss: 0.4756 - accuracy: 0.7973 - val_loss: 0.4735 - val_accuracy: 0.7995\n",
            "Epoch 6/10\n",
            "140/140 [==============================] - 0s 2ms/step - loss: 0.4701 - accuracy: 0.7973 - val_loss: 0.4688 - val_accuracy: 0.7995\n",
            "Epoch 7/10\n",
            "140/140 [==============================] - 0s 2ms/step - loss: 0.4654 - accuracy: 0.7973 - val_loss: 0.4650 - val_accuracy: 0.7995\n",
            "Epoch 8/10\n",
            "140/140 [==============================] - 0s 2ms/step - loss: 0.4613 - accuracy: 0.7973 - val_loss: 0.4623 - val_accuracy: 0.7995\n",
            "Epoch 9/10\n",
            "140/140 [==============================] - 0s 2ms/step - loss: 0.4579 - accuracy: 0.7980 - val_loss: 0.4593 - val_accuracy: 0.8000\n",
            "Epoch 10/10\n",
            "140/140 [==============================] - 0s 2ms/step - loss: 0.4550 - accuracy: 0.7996 - val_loss: 0.4571 - val_accuracy: 0.8016\n",
            "50/50 [==============================] - 0s 1ms/step - loss: 0.4642 - accuracy: 0.7950\n",
            "Epoch 1/10\n",
            "140/140 [==============================] - 1s 3ms/step - loss: 0.7269 - accuracy: 0.5181 - val_loss: 0.5421 - val_accuracy: 0.7995\n",
            "Epoch 2/10\n",
            "140/140 [==============================] - 0s 2ms/step - loss: 0.5230 - accuracy: 0.7962 - val_loss: 0.5090 - val_accuracy: 0.7995\n",
            "Epoch 3/10\n",
            "140/140 [==============================] - 0s 2ms/step - loss: 0.5100 - accuracy: 0.7962 - val_loss: 0.5031 - val_accuracy: 0.7995\n",
            "Epoch 4/10\n",
            "140/140 [==============================] - 0s 2ms/step - loss: 0.5040 - accuracy: 0.7962 - val_loss: 0.4982 - val_accuracy: 0.7995\n",
            "Epoch 5/10\n",
            "140/140 [==============================] - 0s 2ms/step - loss: 0.4981 - accuracy: 0.7962 - val_loss: 0.4928 - val_accuracy: 0.7995\n",
            "Epoch 6/10\n",
            "140/140 [==============================] - 0s 2ms/step - loss: 0.4917 - accuracy: 0.7962 - val_loss: 0.4875 - val_accuracy: 0.7995\n",
            "Epoch 7/10\n",
            "140/140 [==============================] - 0s 2ms/step - loss: 0.4854 - accuracy: 0.7962 - val_loss: 0.4822 - val_accuracy: 0.7995\n",
            "Epoch 8/10\n",
            "140/140 [==============================] - 0s 2ms/step - loss: 0.4795 - accuracy: 0.7962 - val_loss: 0.4771 - val_accuracy: 0.7995\n",
            "Epoch 9/10\n",
            "140/140 [==============================] - 0s 2ms/step - loss: 0.4736 - accuracy: 0.7962 - val_loss: 0.4725 - val_accuracy: 0.7995\n",
            "Epoch 10/10\n",
            "140/140 [==============================] - 0s 2ms/step - loss: 0.4683 - accuracy: 0.7962 - val_loss: 0.4685 - val_accuracy: 0.7995\n",
            "50/50 [==============================] - 0s 2ms/step - loss: 0.4784 - accuracy: 0.7912\n",
            "Epoch 1/10\n",
            "140/140 [==============================] - 1s 3ms/step - loss: 0.5427 - accuracy: 0.7879 - val_loss: 0.4989 - val_accuracy: 0.7995\n",
            "Epoch 2/10\n",
            "140/140 [==============================] - 0s 2ms/step - loss: 0.5077 - accuracy: 0.7884 - val_loss: 0.4912 - val_accuracy: 0.7995\n",
            "Epoch 3/10\n",
            "140/140 [==============================] - 0s 2ms/step - loss: 0.5001 - accuracy: 0.7884 - val_loss: 0.4844 - val_accuracy: 0.7995\n",
            "Epoch 4/10\n",
            "140/140 [==============================] - 0s 2ms/step - loss: 0.4928 - accuracy: 0.7884 - val_loss: 0.4785 - val_accuracy: 0.7995\n",
            "Epoch 5/10\n",
            "140/140 [==============================] - 0s 2ms/step - loss: 0.4865 - accuracy: 0.7884 - val_loss: 0.4736 - val_accuracy: 0.7995\n",
            "Epoch 6/10\n",
            "140/140 [==============================] - 0s 2ms/step - loss: 0.4807 - accuracy: 0.7884 - val_loss: 0.4703 - val_accuracy: 0.7995\n",
            "Epoch 7/10\n",
            "140/140 [==============================] - 0s 2ms/step - loss: 0.4761 - accuracy: 0.7884 - val_loss: 0.4653 - val_accuracy: 0.7995\n",
            "Epoch 8/10\n",
            "140/140 [==============================] - 0s 2ms/step - loss: 0.4718 - accuracy: 0.7888 - val_loss: 0.4618 - val_accuracy: 0.7995\n",
            "Epoch 9/10\n",
            "140/140 [==============================] - 0s 2ms/step - loss: 0.4685 - accuracy: 0.7902 - val_loss: 0.4593 - val_accuracy: 0.8010\n",
            "Epoch 10/10\n",
            "140/140 [==============================] - 0s 2ms/step - loss: 0.4655 - accuracy: 0.7913 - val_loss: 0.4587 - val_accuracy: 0.8062\n",
            "50/50 [==============================] - 0s 1ms/step - loss: 0.4346 - accuracy: 0.8188\n",
            "Epoch 1/10\n",
            "140/140 [==============================] - 1s 3ms/step - loss: 0.5159 - accuracy: 0.7996 - val_loss: 0.5116 - val_accuracy: 0.7922\n",
            "Epoch 2/10\n",
            "140/140 [==============================] - 0s 2ms/step - loss: 0.4966 - accuracy: 0.7996 - val_loss: 0.5026 - val_accuracy: 0.7922\n",
            "Epoch 3/10\n",
            "140/140 [==============================] - 0s 2ms/step - loss: 0.4883 - accuracy: 0.7996 - val_loss: 0.4954 - val_accuracy: 0.7922\n",
            "Epoch 4/10\n",
            "140/140 [==============================] - 0s 2ms/step - loss: 0.4811 - accuracy: 0.7996 - val_loss: 0.4888 - val_accuracy: 0.7922\n",
            "Epoch 5/10\n",
            "140/140 [==============================] - 0s 2ms/step - loss: 0.4741 - accuracy: 0.7996 - val_loss: 0.4816 - val_accuracy: 0.7922\n",
            "Epoch 6/10\n",
            "140/140 [==============================] - 0s 2ms/step - loss: 0.4684 - accuracy: 0.7996 - val_loss: 0.4764 - val_accuracy: 0.7922\n",
            "Epoch 7/10\n",
            "140/140 [==============================] - 0s 2ms/step - loss: 0.4629 - accuracy: 0.7996 - val_loss: 0.4720 - val_accuracy: 0.7922\n",
            "Epoch 8/10\n",
            "140/140 [==============================] - 0s 2ms/step - loss: 0.4592 - accuracy: 0.7996 - val_loss: 0.4682 - val_accuracy: 0.7922\n",
            "Epoch 9/10\n",
            "140/140 [==============================] - 0s 2ms/step - loss: 0.4554 - accuracy: 0.7993 - val_loss: 0.4655 - val_accuracy: 0.7922\n",
            "Epoch 10/10\n",
            "140/140 [==============================] - 0s 2ms/step - loss: 0.4523 - accuracy: 0.8011 - val_loss: 0.4630 - val_accuracy: 0.7927\n",
            "50/50 [==============================] - 0s 1ms/step - loss: 0.4645 - accuracy: 0.7912\n",
            "Epoch 1/10\n",
            "140/140 [==============================] - 1s 3ms/step - loss: 0.5037 - accuracy: 0.7996 - val_loss: 0.5123 - val_accuracy: 0.7870\n",
            "Epoch 2/10\n",
            "140/140 [==============================] - 0s 2ms/step - loss: 0.4907 - accuracy: 0.7996 - val_loss: 0.5036 - val_accuracy: 0.7870\n",
            "Epoch 3/10\n",
            "140/140 [==============================] - 0s 2ms/step - loss: 0.4827 - accuracy: 0.7996 - val_loss: 0.4954 - val_accuracy: 0.7870\n",
            "Epoch 4/10\n",
            "140/140 [==============================] - 0s 2ms/step - loss: 0.4749 - accuracy: 0.7996 - val_loss: 0.4873 - val_accuracy: 0.7870\n",
            "Epoch 5/10\n",
            "140/140 [==============================] - 0s 2ms/step - loss: 0.4684 - accuracy: 0.7996 - val_loss: 0.4830 - val_accuracy: 0.7870\n",
            "Epoch 6/10\n",
            "140/140 [==============================] - 0s 2ms/step - loss: 0.4634 - accuracy: 0.7996 - val_loss: 0.4785 - val_accuracy: 0.7870\n",
            "Epoch 7/10\n",
            "140/140 [==============================] - 0s 2ms/step - loss: 0.4589 - accuracy: 0.7996 - val_loss: 0.4726 - val_accuracy: 0.7870\n",
            "Epoch 8/10\n",
            "140/140 [==============================] - 0s 2ms/step - loss: 0.4554 - accuracy: 0.7996 - val_loss: 0.4709 - val_accuracy: 0.7870\n",
            "Epoch 9/10\n",
            "140/140 [==============================] - 0s 2ms/step - loss: 0.4523 - accuracy: 0.8002 - val_loss: 0.4687 - val_accuracy: 0.7870\n",
            "Epoch 10/10\n",
            "140/140 [==============================] - 0s 2ms/step - loss: 0.4497 - accuracy: 0.8009 - val_loss: 0.4648 - val_accuracy: 0.7896\n",
            "50/50 [==============================] - 0s 1ms/step - loss: 0.4556 - accuracy: 0.7987\n",
            "Epoch 1/10\n",
            "175/175 [==============================] - 1s 4ms/step - loss: 0.5651 - accuracy: 0.7321 - val_loss: 0.5012 - val_accuracy: 0.7958\n",
            "Epoch 2/10\n",
            "175/175 [==============================] - 0s 2ms/step - loss: 0.4901 - accuracy: 0.7961 - val_loss: 0.4837 - val_accuracy: 0.7958\n",
            "Epoch 3/10\n",
            "175/175 [==============================] - 0s 3ms/step - loss: 0.4713 - accuracy: 0.7993 - val_loss: 0.4713 - val_accuracy: 0.8000\n",
            "Epoch 4/10\n",
            "175/175 [==============================] - 0s 2ms/step - loss: 0.4592 - accuracy: 0.8025 - val_loss: 0.4638 - val_accuracy: 0.8025\n",
            "Epoch 5/10\n",
            "175/175 [==============================] - 0s 2ms/step - loss: 0.4503 - accuracy: 0.8075 - val_loss: 0.4567 - val_accuracy: 0.8025\n",
            "Epoch 6/10\n",
            "175/175 [==============================] - 0s 2ms/step - loss: 0.4416 - accuracy: 0.8095 - val_loss: 0.4510 - val_accuracy: 0.8037\n",
            "Epoch 7/10\n",
            "175/175 [==============================] - 0s 2ms/step - loss: 0.4356 - accuracy: 0.8143 - val_loss: 0.4474 - val_accuracy: 0.8075\n",
            "Epoch 8/10\n",
            "175/175 [==============================] - 0s 2ms/step - loss: 0.4302 - accuracy: 0.8154 - val_loss: 0.4439 - val_accuracy: 0.8079\n",
            "Epoch 9/10\n",
            "175/175 [==============================] - 0s 2ms/step - loss: 0.4259 - accuracy: 0.8184 - val_loss: 0.4397 - val_accuracy: 0.8112\n",
            "Epoch 10/10\n",
            "175/175 [==============================] - 0s 2ms/step - loss: 0.4229 - accuracy: 0.8186 - val_loss: 0.4372 - val_accuracy: 0.8117\n"
          ]
        },
        {
          "output_type": "execute_result",
          "data": {
            "text/plain": [
              "GridSearchCV(cv=5, error_score=nan,\n",
              "             estimator=<keras.wrappers.scikit_learn.KerasClassifier object at 0x7f14b96a9810>,\n",
              "             iid='deprecated', n_jobs=None,\n",
              "             param_grid={'activation': ['relu', 'sigmoid'],\n",
              "                         'kernel': [['he_uniform', 'he_normal'],\n",
              "                                    ['glorot_uniform', 'glorot_normal']],\n",
              "                         'layer': [[20], [40, 20], [40, 20, 10]]},\n",
              "             pre_dispatch='2*n_jobs', refit=True, return_train_score=False,\n",
              "             scoring=None, verbose=0)"
            ]
          },
          "metadata": {},
          "execution_count": 29
        }
      ]
    },
    {
      "cell_type": "code",
      "metadata": {
        "id": "d8f49757-4c7a-4b35-bcba-a827c352eb02",
        "colab": {
          "base_uri": "https://localhost:8080/"
        },
        "outputId": "26737218-b366-422e-f996-12ecb430856b"
      },
      "source": [
        "print(grid.best_params_, grid.best_score_)"
      ],
      "id": "d8f49757-4c7a-4b35-bcba-a827c352eb02",
      "execution_count": 30,
      "outputs": [
        {
          "output_type": "stream",
          "name": "stdout",
          "text": [
            "{'activation': 'relu', 'kernel': ['he_uniform', 'he_normal'], 'layer': [20]} 0.8108749985694885\n"
          ]
        }
      ]
    },
    {
      "cell_type": "markdown",
      "metadata": {
        "id": "be4ec82b-2a34-48aa-9301-918db617ab1a"
      },
      "source": [
        "### HyperParameter Tunnig using KerasTunner:"
      ],
      "id": "be4ec82b-2a34-48aa-9301-918db617ab1a"
    },
    {
      "cell_type": "code",
      "metadata": {
        "id": "ed49839f-3e3a-4a51-8695-dc751dc2bf72"
      },
      "source": [
        "# !pip install keras_tuner\n",
        "from tensorflow import keras\n",
        "from keras import Sequential\n",
        "from keras.layers import Dense, Activation\n",
        "from keras_tuner import RandomSearch"
      ],
      "id": "ed49839f-3e3a-4a51-8695-dc751dc2bf72",
      "execution_count": 31,
      "outputs": []
    },
    {
      "cell_type": "code",
      "metadata": {
        "id": "5cc6d254-f1d4-4166-bf29-7084520fe0c4"
      },
      "source": [
        "def create_model(hp):\n",
        "    model = Sequential()\n",
        "    for i in range(hp.Int(\"num_layer\", 2, 20)):\n",
        "        model.add(Dense(units= hp.Int(\"units_\" + str(i), min_value=32, max_value=512, step=32),\n",
        "                        activation='ELU', kernel_initializer='he_uniform', \n",
        "                        input_dim=X_train.shape[1]))\n",
        "    model.add(Dense(units=1, activation=\"sigmoid\"))\n",
        "    model.compile(optimizer=keras.optimizers.Adam(hp.Choice('learning_rate', [1e-2, 1e-3, 1e-4])),\n",
        "                  loss='binary_crossentropy', metrics=['accuracy'])\n",
        "    return model"
      ],
      "id": "5cc6d254-f1d4-4166-bf29-7084520fe0c4",
      "execution_count": 32,
      "outputs": []
    },
    {
      "cell_type": "code",
      "metadata": {
        "id": "5e02656a-4aea-447d-bc43-34b330327e83",
        "colab": {
          "base_uri": "https://localhost:8080/"
        },
        "outputId": "56e7dae0-99f8-4e99-9aeb-197296f55e66"
      },
      "source": [
        "tuner = RandomSearch(hypermodel=create_model,\n",
        "                      objective=\"val_accuracy\",\n",
        "                      max_trials=5,\n",
        "                      executions_per_trial=3,\n",
        "                      directory='Log',\n",
        "                      project_name='HyperTuning')"
      ],
      "id": "5e02656a-4aea-447d-bc43-34b330327e83",
      "execution_count": 33,
      "outputs": [
        {
          "output_type": "stream",
          "name": "stdout",
          "text": [
            "INFO:tensorflow:Reloading Oracle from existing project Log/HyperTuning/oracle.json\n",
            "INFO:tensorflow:Reloading Tuner from Log/HyperTuning/tuner0.json\n"
          ]
        }
      ]
    },
    {
      "cell_type": "code",
      "metadata": {
        "id": "dca58625-3dff-4869-a05f-2db0698bf521",
        "colab": {
          "base_uri": "https://localhost:8080/"
        },
        "outputId": "e944e254-2eb2-404a-d2ff-d4f11a074a02"
      },
      "source": [
        "tuner.search(X_train, y_train, epochs=10, validation_split=0.3)"
      ],
      "id": "dca58625-3dff-4869-a05f-2db0698bf521",
      "execution_count": 34,
      "outputs": [
        {
          "output_type": "stream",
          "name": "stdout",
          "text": [
            "INFO:tensorflow:Oracle triggered exit\n"
          ]
        }
      ]
    },
    {
      "cell_type": "code",
      "metadata": {
        "id": "b0fd60e6-016c-43b7-b8e0-f5af9f50a008"
      },
      "source": [
        "model = tuner.get_best_models(num_models=1)[0]"
      ],
      "id": "b0fd60e6-016c-43b7-b8e0-f5af9f50a008",
      "execution_count": 35,
      "outputs": []
    },
    {
      "cell_type": "code",
      "metadata": {
        "id": "798b35ab-d485-4739-b624-c22bdaa1f63d",
        "colab": {
          "base_uri": "https://localhost:8080/"
        },
        "outputId": "628800c8-67d9-4a05-d9c2-59c6979d51be"
      },
      "source": [
        "model.summary()"
      ],
      "id": "798b35ab-d485-4739-b624-c22bdaa1f63d",
      "execution_count": 36,
      "outputs": [
        {
          "output_type": "stream",
          "name": "stdout",
          "text": [
            "Model: \"sequential\"\n",
            "_________________________________________________________________\n",
            "Layer (type)                 Output Shape              Param #   \n",
            "=================================================================\n",
            "dense (Dense)                (None, 288)               3168      \n",
            "_________________________________________________________________\n",
            "dense_1 (Dense)              (None, 352)               101728    \n",
            "_________________________________________________________________\n",
            "dense_2 (Dense)              (None, 32)                11296     \n",
            "_________________________________________________________________\n",
            "dense_3 (Dense)              (None, 256)               8448      \n",
            "_________________________________________________________________\n",
            "dense_4 (Dense)              (None, 96)                24672     \n",
            "_________________________________________________________________\n",
            "dense_5 (Dense)              (None, 320)               31040     \n",
            "_________________________________________________________________\n",
            "dense_6 (Dense)              (None, 256)               82176     \n",
            "_________________________________________________________________\n",
            "dense_7 (Dense)              (None, 32)                8224      \n",
            "_________________________________________________________________\n",
            "dense_8 (Dense)              (None, 1)                 33        \n",
            "=================================================================\n",
            "Total params: 270,785\n",
            "Trainable params: 270,785\n",
            "Non-trainable params: 0\n",
            "_________________________________________________________________\n"
          ]
        }
      ]
    },
    {
      "cell_type": "code",
      "metadata": {
        "id": "d23a76cd-32c0-4984-a98f-94e97dea29df",
        "colab": {
          "base_uri": "https://localhost:8080/"
        },
        "outputId": "0c064727-26f6-4aa5-cfe4-588e4ec01d2e"
      },
      "source": [
        "Model = model.fit(X_train, y_train, epochs=10, validation_split=0.3, validation_data=(X_test, y_test))"
      ],
      "id": "d23a76cd-32c0-4984-a98f-94e97dea29df",
      "execution_count": 37,
      "outputs": [
        {
          "output_type": "stream",
          "name": "stdout",
          "text": [
            "Epoch 1/10\n",
            "175/175 [==============================] - 2s 9ms/step - loss: 0.3296 - accuracy: 0.8596 - val_loss: 0.3787 - val_accuracy: 0.8388\n",
            "Epoch 2/10\n",
            "175/175 [==============================] - 1s 8ms/step - loss: 0.3308 - accuracy: 0.8605 - val_loss: 0.3702 - val_accuracy: 0.8454\n",
            "Epoch 3/10\n",
            "175/175 [==============================] - 1s 7ms/step - loss: 0.3233 - accuracy: 0.8652 - val_loss: 0.3821 - val_accuracy: 0.8404\n",
            "Epoch 4/10\n",
            "175/175 [==============================] - 1s 8ms/step - loss: 0.3253 - accuracy: 0.8646 - val_loss: 0.3813 - val_accuracy: 0.8487\n",
            "Epoch 5/10\n",
            "175/175 [==============================] - 1s 8ms/step - loss: 0.3225 - accuracy: 0.8614 - val_loss: 0.3835 - val_accuracy: 0.8388\n",
            "Epoch 6/10\n",
            "175/175 [==============================] - 1s 7ms/step - loss: 0.3162 - accuracy: 0.8666 - val_loss: 0.3846 - val_accuracy: 0.8438\n",
            "Epoch 7/10\n",
            "175/175 [==============================] - 1s 8ms/step - loss: 0.3184 - accuracy: 0.8679 - val_loss: 0.3783 - val_accuracy: 0.8567\n",
            "Epoch 8/10\n",
            "175/175 [==============================] - 1s 7ms/step - loss: 0.3157 - accuracy: 0.8650 - val_loss: 0.3759 - val_accuracy: 0.8438\n",
            "Epoch 9/10\n",
            "175/175 [==============================] - 1s 7ms/step - loss: 0.3150 - accuracy: 0.8700 - val_loss: 0.3848 - val_accuracy: 0.8458\n",
            "Epoch 10/10\n",
            "175/175 [==============================] - 1s 7ms/step - loss: 0.3116 - accuracy: 0.8704 - val_loss: 0.3711 - val_accuracy: 0.8492\n"
          ]
        }
      ]
    },
    {
      "cell_type": "code",
      "metadata": {
        "colab": {
          "base_uri": "https://localhost:8080/"
        },
        "id": "QXYRrf6EchDS",
        "outputId": "2c9f5e62-df55-42d0-e26a-b480a6eb46df"
      },
      "source": [
        "print(Model.history.keys())"
      ],
      "id": "QXYRrf6EchDS",
      "execution_count": 38,
      "outputs": [
        {
          "output_type": "stream",
          "name": "stdout",
          "text": [
            "dict_keys(['loss', 'accuracy', 'val_loss', 'val_accuracy'])\n"
          ]
        }
      ]
    },
    {
      "cell_type": "code",
      "metadata": {
        "colab": {
          "base_uri": "https://localhost:8080/",
          "height": 295
        },
        "id": "jfVnjepjcfna",
        "outputId": "43cd36eb-1182-43fd-bbba-ab2ee38bbd60"
      },
      "source": [
        "# summarize history for accuracy\n",
        "plt.plot(Model.history['accuracy'])\n",
        "plt.plot(Model.history['val_accuracy'])\n",
        "plt.title('model accuracy')\n",
        "plt.ylabel('accuracy')\n",
        "plt.xlabel('epoch')\n",
        "plt.legend(['train', 'test'], loc='lower right')\n",
        "plt.show()"
      ],
      "id": "jfVnjepjcfna",
      "execution_count": 39,
      "outputs": [
        {
          "output_type": "display_data",
          "data": {
            "image/png": "[encoded data removed]",
            "text/plain": [
              "<Figure size 432x288 with 1 Axes>"
            ]
          },
          "metadata": {
            "needs_background": "light"
          }
        }
      ]
    },
    {
      "cell_type": "code",
      "metadata": {
        "colab": {
          "base_uri": "https://localhost:8080/",
          "height": 295
        },
        "id": "tCRVVg3Ccla7",
        "outputId": "3a2218e4-68f0-441f-9d75-25f5d98b94b8"
      },
      "source": [
        "# summarize history for loss\n",
        "plt.plot(Model.history['loss'])\n",
        "plt.plot(Model.history['val_loss'])\n",
        "plt.title('model loss')\n",
        "plt.ylabel('loss')\n",
        "plt.xlabel('epoch')\n",
        "plt.legend(['train', 'test'], loc='upper right')\n",
        "plt.show()"
      ],
      "id": "tCRVVg3Ccla7",
      "execution_count": 40,
      "outputs": [
        {
          "output_type": "display_data",
          "data": {
            "image/png": "[encoded data removed]",
            "text/plain": [
              "<Figure size 432x288 with 1 Axes>"
            ]
          },
          "metadata": {
            "needs_background": "light"
          }
        }
      ]
    },
    {
      "cell_type": "code",
      "metadata": {
        "id": "6OJHWs3JclGr"
      },
      "source": [
        "# fitting the test dataset\n",
        "y_pred = model.predict(X_test)\n",
        "y_pred = y_pred > 0.5"
      ],
      "id": "6OJHWs3JclGr",
      "execution_count": 41,
      "outputs": []
    },
    {
      "cell_type": "code",
      "metadata": {
        "colab": {
          "base_uri": "https://localhost:8080/"
        },
        "id": "ChWWaOgadp8u",
        "outputId": "cbf204a3-02da-4b47-e8e2-e8a61a11b24d"
      },
      "source": [
        "# confusion matrix\n",
        "print(f\"Confusion matrix:\\n {confusion_matrix(y_pred, y_test)}\")\n",
        "\n",
        "# classification report\n",
        "print(f\"Classification report:\\n {classification_report(y_pred, y_test)}\")"
      ],
      "id": "ChWWaOgadp8u",
      "execution_count": 42,
      "outputs": [
        {
          "output_type": "stream",
          "name": "stdout",
          "text": [
            "Confusion matrix:\n",
            " [[1533  224]\n",
            " [  62  181]]\n",
            "Classification report:\n",
            "               precision    recall  f1-score   support\n",
            "\n",
            "       False       0.96      0.87      0.91      1757\n",
            "        True       0.45      0.74      0.56       243\n",
            "\n",
            "    accuracy                           0.86      2000\n",
            "   macro avg       0.70      0.81      0.74      2000\n",
            "weighted avg       0.90      0.86      0.87      2000\n",
            "\n"
          ]
        }
      ]
    },
    {
      "cell_type": "markdown",
      "metadata": {
        "id": "370faaa1-c25d-4aad-9e8b-b06363133534"
      },
      "source": [
        "### Sample Code from the documentation"
      ],
      "id": "370faaa1-c25d-4aad-9e8b-b06363133534"
    },
    {
      "cell_type": "code",
      "metadata": {
        "id": "7cbec061-9c52-483b-98b8-624c37e1d439"
      },
      "source": [
        "from tensorflow import keras\n",
        "import numpy as np\n",
        "\n",
        "(x, y), (x_test, y_test) = keras.datasets.mnist.load_data()\n",
        "\n",
        "x_train = x[:-10000]\n",
        "x_val = x[-10000:]\n",
        "y_train = y[:-10000]\n",
        "y_val = y[-10000:]\n",
        "\n",
        "x_train = np.expand_dims(x_train, -1).astype(\"float32\") / 255.0\n",
        "x_val = np.expand_dims(x_val, -1).astype(\"float32\") / 255.0\n",
        "x_test = np.expand_dims(x_test, -1).astype(\"float32\") / 255.0\n",
        "\n",
        "num_classes = 10\n",
        "y_train = keras.utils.to_categorical(y_train, num_classes)\n",
        "y_val = keras.utils.to_categorical(y_val, num_classes)\n",
        "y_test = keras.utils.to_categorical(y_test, num_classes)"
      ],
      "id": "7cbec061-9c52-483b-98b8-624c37e1d439",
      "execution_count": 43,
      "outputs": []
    },
    {
      "cell_type": "code",
      "metadata": {
        "id": "ad879e5a-3a28-41b0-b3f1-66051504b0a7"
      },
      "source": [
        "from tensorflow.keras import layers\n",
        "from keras_tuner import RandomSearch\n",
        "\n",
        "\n",
        "def build_model(hp):\n",
        "    model = keras.Sequential()\n",
        "    model.add(layers.Flatten())\n",
        "    model.add(\n",
        "        layers.Dense(\n",
        "            units=hp.Int(\"units\", min_value=32, max_value=512, step=32),\n",
        "            activation=\"relu\",\n",
        "        )\n",
        "    )\n",
        "    model.add(layers.Dense(10, activation=\"softmax\"))\n",
        "    model.compile(\n",
        "        optimizer=keras.optimizers.Adam(\n",
        "            hp.Choice(\"learning_rate\", values=[1e-2, 1e-3, 1e-4])\n",
        "        ),\n",
        "        loss=\"categorical_crossentropy\",\n",
        "        metrics=[\"accuracy\"],\n",
        "    )\n",
        "    return model"
      ],
      "id": "ad879e5a-3a28-41b0-b3f1-66051504b0a7",
      "execution_count": 44,
      "outputs": []
    },
    {
      "cell_type": "code",
      "metadata": {
        "id": "efb8c519-5e1d-435e-a720-83c94797b042"
      },
      "source": [
        "tuner = RandomSearch(\n",
        "    build_model,\n",
        "    objective=\"val_accuracy\",\n",
        "    max_trials=3,\n",
        "    executions_per_trial=2,\n",
        "    overwrite=True,\n",
        "    directory=\"my_dir\",\n",
        "    project_name=\"helloworld\",\n",
        ")"
      ],
      "id": "efb8c519-5e1d-435e-a720-83c94797b042",
      "execution_count": 45,
      "outputs": []
    },
    {
      "cell_type": "code",
      "metadata": {
        "id": "f21159a3-5939-44d3-abb0-b1710eb0e892",
        "colab": {
          "base_uri": "https://localhost:8080/"
        },
        "outputId": "bbc40c4d-a041-4914-ecaf-dc30dbb127e8"
      },
      "source": [
        "tuner.search_space_summary()"
      ],
      "id": "f21159a3-5939-44d3-abb0-b1710eb0e892",
      "execution_count": 46,
      "outputs": [
        {
          "output_type": "stream",
          "name": "stdout",
          "text": [
            "Search space summary\n",
            "Default search space size: 2\n",
            "units (Int)\n",
            "{'default': None, 'conditions': [], 'min_value': 32, 'max_value': 512, 'step': 32, 'sampling': None}\n",
            "learning_rate (Choice)\n",
            "{'default': 0.01, 'conditions': [], 'values': [0.01, 0.001, 0.0001], 'ordered': True}\n"
          ]
        }
      ]
    },
    {
      "cell_type": "code",
      "metadata": {
        "id": "902ff586-fbe5-4c7f-8c6e-9acfdb13f4b9",
        "colab": {
          "base_uri": "https://localhost:8080/"
        },
        "outputId": "0ffc113e-65ae-4678-a76d-81c5b87413a1"
      },
      "source": [
        "tuner.search(x_train, y_train, epochs=2, validation_data=(x_val, y_val))"
      ],
      "id": "902ff586-fbe5-4c7f-8c6e-9acfdb13f4b9",
      "execution_count": 47,
      "outputs": [
        {
          "output_type": "stream",
          "name": "stdout",
          "text": [
            "Trial 3 Complete [00h 00m 20s]\n",
            "val_accuracy: 0.9303500056266785\n",
            "\n",
            "Best val_accuracy So Far: 0.9659500122070312\n",
            "Total elapsed time: 00h 01m 01s\n",
            "INFO:tensorflow:Oracle triggered exit\n"
          ]
        }
      ]
    },
    {
      "cell_type": "code",
      "metadata": {
        "id": "4521b27e-e1e9-416a-b757-79013e1b4a5f"
      },
      "source": [
        "model = tuner.get_best_models(num_models=1)[0]"
      ],
      "id": "4521b27e-e1e9-416a-b757-79013e1b4a5f",
      "execution_count": 48,
      "outputs": []
    },
    {
      "cell_type": "code",
      "metadata": {
        "colab": {
          "base_uri": "https://localhost:8080/"
        },
        "id": "Iq2ue4Gnd_Sw",
        "outputId": "38b6366e-e62f-45d0-9de8-c9870e799551"
      },
      "source": [
        "Model = model.fit(x_train, y_train, epochs=10, validation_data=(x_val, y_val))"
      ],
      "id": "Iq2ue4Gnd_Sw",
      "execution_count": 49,
      "outputs": [
        {
          "output_type": "stream",
          "name": "stdout",
          "text": [
            "Epoch 1/10\n",
            "1563/1563 [==============================] - 5s 3ms/step - loss: 0.0960 - accuracy: 0.9711 - val_loss: 0.1074 - val_accuracy: 0.9681\n",
            "Epoch 2/10\n",
            "1563/1563 [==============================] - 4s 3ms/step - loss: 0.0736 - accuracy: 0.9781 - val_loss: 0.0912 - val_accuracy: 0.9720\n",
            "Epoch 3/10\n",
            "1563/1563 [==============================] - 4s 3ms/step - loss: 0.0572 - accuracy: 0.9827 - val_loss: 0.0861 - val_accuracy: 0.9747\n",
            "Epoch 4/10\n",
            "1563/1563 [==============================] - 4s 3ms/step - loss: 0.0458 - accuracy: 0.9864 - val_loss: 0.0873 - val_accuracy: 0.9734\n",
            "Epoch 5/10\n",
            "1563/1563 [==============================] - 4s 3ms/step - loss: 0.0371 - accuracy: 0.9887 - val_loss: 0.0982 - val_accuracy: 0.9711\n",
            "Epoch 6/10\n",
            "1563/1563 [==============================] - 4s 2ms/step - loss: 0.0305 - accuracy: 0.9907 - val_loss: 0.0887 - val_accuracy: 0.9744\n",
            "Epoch 7/10\n",
            "1563/1563 [==============================] - 4s 3ms/step - loss: 0.0261 - accuracy: 0.9920 - val_loss: 0.0817 - val_accuracy: 0.9765\n",
            "Epoch 8/10\n",
            "1563/1563 [==============================] - 4s 3ms/step - loss: 0.0206 - accuracy: 0.9935 - val_loss: 0.0797 - val_accuracy: 0.9786\n",
            "Epoch 9/10\n",
            "1563/1563 [==============================] - 4s 3ms/step - loss: 0.0176 - accuracy: 0.9948 - val_loss: 0.0897 - val_accuracy: 0.9762\n",
            "Epoch 10/10\n",
            "1563/1563 [==============================] - 4s 3ms/step - loss: 0.0157 - accuracy: 0.9956 - val_loss: 0.0933 - val_accuracy: 0.9761\n"
          ]
        }
      ]
    },
    {
      "cell_type": "code",
      "metadata": {
        "colab": {
          "base_uri": "https://localhost:8080/"
        },
        "id": "9yTRstEaeS0e",
        "outputId": "17de9f60-88c6-4490-925f-a34ddf3bcc0d"
      },
      "source": [
        "Model.history.keys()"
      ],
      "id": "9yTRstEaeS0e",
      "execution_count": 50,
      "outputs": [
        {
          "output_type": "execute_result",
          "data": {
            "text/plain": [
              "dict_keys(['loss', 'accuracy', 'val_loss', 'val_accuracy'])"
            ]
          },
          "metadata": {},
          "execution_count": 50
        }
      ]
    },
    {
      "cell_type": "code",
      "metadata": {
        "colab": {
          "base_uri": "https://localhost:8080/",
          "height": 295
        },
        "id": "MjpKx1yJeWQG",
        "outputId": "56f470e5-1ae3-463d-e73b-4d8fa46fd5eb"
      },
      "source": [
        "# summarize history for accuracy\n",
        "plt.plot(Model.history['accuracy'])\n",
        "plt.plot(Model.history['val_accuracy'])\n",
        "plt.title('model accuracy')\n",
        "plt.ylabel('accuracy')\n",
        "plt.xlabel('epoch')\n",
        "plt.legend(['train', 'test'], loc='lower right')\n",
        "plt.show()"
      ],
      "id": "MjpKx1yJeWQG",
      "execution_count": 51,
      "outputs": [
        {
          "output_type": "display_data",
          "data": {
            "image/png": "[encoded data removed]",
            "text/plain": [
              "<Figure size 432x288 with 1 Axes>"
            ]
          },
          "metadata": {
            "needs_background": "light"
          }
        }
      ]
    },
    {
      "cell_type": "code",
      "metadata": {
        "colab": {
          "base_uri": "https://localhost:8080/",
          "height": 295
        },
        "id": "CZY6sSGkhVRi",
        "outputId": "539fe29e-221d-4bea-fd8b-3668c9ee5d11"
      },
      "source": [
        "# summarize history for loss\n",
        "plt.plot(Model.history['loss'])\n",
        "plt.plot(Model.history['val_loss'])\n",
        "plt.title('model loss')\n",
        "plt.ylabel('loss')\n",
        "plt.xlabel('epoch')\n",
        "plt.legend(['train', 'test'], loc='upper right')\n",
        "plt.show()"
      ],
      "id": "CZY6sSGkhVRi",
      "execution_count": 52,
      "outputs": [
        {
          "output_type": "display_data",
          "data": {
            "image/png": "[encoded data removed]",
            "text/plain": [
              "<Figure size 432x288 with 1 Axes>"
            ]
          },
          "metadata": {
            "needs_background": "light"
          }
        }
      ]
    },
    {
      "cell_type": "code",
      "metadata": {
        "id": "RVd7Fj2_l87L"
      },
      "source": [
        ""
      ],
      "id": "RVd7Fj2_l87L",
      "execution_count": 52,
      "outputs": []
    }
  ]
}