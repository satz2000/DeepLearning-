{
  "nbformat": 4,
  "nbformat_minor": 5,
  "metadata": {
    "kernelspec": {
      "display_name": "Python 3 (ipykernel)",
      "language": "python",
      "name": "python3"
    },
    "language_info": {
      "codemirror_mode": {
        "name": "ipython",
        "version": 3
      },
      "file_extension": ".py",
      "mimetype": "text/x-python",
      "name": "python",
      "nbconvert_exporter": "python",
      "pygments_lexer": "ipython3",
      "version": "3.9.7"
    },
    "colab": {
      "name": "ANN.ipynb",
      "provenance": [],
      "collapsed_sections": []
    },
    "accelerator": "TPU"
  },
  "cells": [
    {
      "cell_type": "markdown",
      "metadata": {
        "id": "b2cfb934-16d2-462d-870c-379581678d79"
      },
      "source": [
        "## Artificial Neural Network:"
      ],
      "id": "b2cfb934-16d2-462d-870c-379581678d79"
    },
    {
      "cell_type": "code",
      "metadata": {
        "colab": {
          "base_uri": "https://localhost:8080/"
        },
        "id": "tsWpmvCor_0b",
        "outputId": "8007935d-1490-4351-e89e-1ce07f12abd7"
      },
      "source": [
        "from google.colab import drive\n",
        "drive.mount('/content/drive')"
      ],
      "id": "tsWpmvCor_0b",
      "execution_count": 1,
      "outputs": [
        {
          "output_type": "stream",
          "name": "stdout",
          "text": [
            "Drive already mounted at /content/drive; to attempt to forcibly remount, call drive.mount(\"/content/drive\", force_remount=True).\n"
          ]
        }
      ]
    },
    {
      "cell_type": "code",
      "metadata": {
        "id": "2588307f-587b-4dee-a0d1-d5f900fc27f7"
      },
      "source": [
        "# importing packages\n",
        "import numpy as np\n",
        "import pandas as pd\n",
        "import matplotlib.pyplot as plt\n",
        "import seaborn as sns\n",
        "import scipy.stats as stats\n",
        "from sklearn.preprocessing import MinMaxScaler, StandardScaler\n",
        "from sklearn.model_selection import train_test_split\n",
        "from sklearn.metrics import confusion_matrix, accuracy_score, classification_report\n",
        "\n",
        "# Importing the Keras libraries and packages\n",
        "import keras\n",
        "from keras.models import Sequential\n",
        "from keras.layers import Dense\n",
        "from keras.layers import Dropout\n",
        "import warnings\n",
        "warnings.filterwarnings('ignore')"
      ],
      "id": "2588307f-587b-4dee-a0d1-d5f900fc27f7",
      "execution_count": 2,
      "outputs": []
    },
    {
      "cell_type": "code",
      "metadata": {
        "colab": {
          "base_uri": "https://localhost:8080/",
          "height": 203
        },
        "id": "84316854-3369-4718-b301-12eb74a08052",
        "outputId": "e46d85b6-2f7f-46cc-9656-6ecbf5f0061f"
      },
      "source": [
        "# reading the dataset\n",
        "df = pd.read_csv(\"/content/drive/MyDrive/Churn_Modelling.csv\")\n",
        "df.head()"
      ],
      "id": "84316854-3369-4718-b301-12eb74a08052",
      "execution_count": 3,
      "outputs": [
        {
          "output_type": "execute_result",
          "data": {
            "text/html": [
              "<div>\n",
              "<style scoped>\n",
              "    .dataframe tbody tr th:only-of-type {\n",
              "        vertical-align: middle;\n",
              "    }\n",
              "\n",
              "    .dataframe tbody tr th {\n",
              "        vertical-align: top;\n",
              "    }\n",
              "\n",
              "    .dataframe thead th {\n",
              "        text-align: right;\n",
              "    }\n",
              "</style>\n",
              "<table border=\"1\" class=\"dataframe\">\n",
              "  <thead>\n",
              "    <tr style=\"text-align: right;\">\n",
              "      <th></th>\n",
              "      <th>RowNumber</th>\n",
              "      <th>CustomerId</th>\n",
              "      <th>Surname</th>\n",
              "      <th>CreditScore</th>\n",
              "      <th>Geography</th>\n",
              "      <th>Gender</th>\n",
              "      <th>Age</th>\n",
              "      <th>Tenure</th>\n",
              "      <th>Balance</th>\n",
              "      <th>NumOfProducts</th>\n",
              "      <th>HasCrCard</th>\n",
              "      <th>IsActiveMember</th>\n",
              "      <th>EstimatedSalary</th>\n",
              "      <th>Exited</th>\n",
              "    </tr>\n",
              "  </thead>\n",
              "  <tbody>\n",
              "    <tr>\n",
              "      <th>0</th>\n",
              "      <td>1</td>\n",
              "      <td>15634602</td>\n",
              "      <td>Hargrave</td>\n",
              "      <td>619</td>\n",
              "      <td>France</td>\n",
              "      <td>Female</td>\n",
              "      <td>42</td>\n",
              "      <td>2</td>\n",
              "      <td>0.00</td>\n",
              "      <td>1</td>\n",
              "      <td>1</td>\n",
              "      <td>1</td>\n",
              "      <td>101348.88</td>\n",
              "      <td>1</td>\n",
              "    </tr>\n",
              "    <tr>\n",
              "      <th>1</th>\n",
              "      <td>2</td>\n",
              "      <td>15647311</td>\n",
              "      <td>Hill</td>\n",
              "      <td>608</td>\n",
              "      <td>Spain</td>\n",
              "      <td>Female</td>\n",
              "      <td>41</td>\n",
              "      <td>1</td>\n",
              "      <td>83807.86</td>\n",
              "      <td>1</td>\n",
              "      <td>0</td>\n",
              "      <td>1</td>\n",
              "      <td>112542.58</td>\n",
              "      <td>0</td>\n",
              "    </tr>\n",
              "    <tr>\n",
              "      <th>2</th>\n",
              "      <td>3</td>\n",
              "      <td>15619304</td>\n",
              "      <td>Onio</td>\n",
              "      <td>502</td>\n",
              "      <td>France</td>\n",
              "      <td>Female</td>\n",
              "      <td>42</td>\n",
              "      <td>8</td>\n",
              "      <td>159660.80</td>\n",
              "      <td>3</td>\n",
              "      <td>1</td>\n",
              "      <td>0</td>\n",
              "      <td>113931.57</td>\n",
              "      <td>1</td>\n",
              "    </tr>\n",
              "    <tr>\n",
              "      <th>3</th>\n",
              "      <td>4</td>\n",
              "      <td>15701354</td>\n",
              "      <td>Boni</td>\n",
              "      <td>699</td>\n",
              "      <td>France</td>\n",
              "      <td>Female</td>\n",
              "      <td>39</td>\n",
              "      <td>1</td>\n",
              "      <td>0.00</td>\n",
              "      <td>2</td>\n",
              "      <td>0</td>\n",
              "      <td>0</td>\n",
              "      <td>93826.63</td>\n",
              "      <td>0</td>\n",
              "    </tr>\n",
              "    <tr>\n",
              "      <th>4</th>\n",
              "      <td>5</td>\n",
              "      <td>15737888</td>\n",
              "      <td>Mitchell</td>\n",
              "      <td>850</td>\n",
              "      <td>Spain</td>\n",
              "      <td>Female</td>\n",
              "      <td>43</td>\n",
              "      <td>2</td>\n",
              "      <td>125510.82</td>\n",
              "      <td>1</td>\n",
              "      <td>1</td>\n",
              "      <td>1</td>\n",
              "      <td>79084.10</td>\n",
              "      <td>0</td>\n",
              "    </tr>\n",
              "  </tbody>\n",
              "</table>\n",
              "</div>"
            ],
            "text/plain": [
              "   RowNumber  CustomerId   Surname  ...  IsActiveMember EstimatedSalary Exited\n",
              "0          1    15634602  Hargrave  ...               1       101348.88      1\n",
              "1          2    15647311      Hill  ...               1       112542.58      0\n",
              "2          3    15619304      Onio  ...               0       113931.57      1\n",
              "3          4    15701354      Boni  ...               0        93826.63      0\n",
              "4          5    15737888  Mitchell  ...               1        79084.10      0\n",
              "\n",
              "[5 rows x 14 columns]"
            ]
          },
          "metadata": {},
          "execution_count": 3
        }
      ]
    },
    {
      "cell_type": "code",
      "metadata": {
        "id": "a7a27250-f458-4efc-86c1-1333f995672f",
        "colab": {
          "base_uri": "https://localhost:8080/"
        },
        "outputId": "924dd429-9f66-4e74-b112-cf013c7a9cb9"
      },
      "source": [
        "# check if there is any null value\n",
        "df.isnull().sum().sum()"
      ],
      "id": "a7a27250-f458-4efc-86c1-1333f995672f",
      "execution_count": 4,
      "outputs": [
        {
          "output_type": "execute_result",
          "data": {
            "text/plain": [
              "0"
            ]
          },
          "metadata": {},
          "execution_count": 4
        }
      ]
    },
    {
      "cell_type": "markdown",
      "metadata": {
        "id": "a26683e6-62e9-4186-b035-0cce16b640e3"
      },
      "source": [
        "### Data preprocessing:"
      ],
      "id": "a26683e6-62e9-4186-b035-0cce16b640e3"
    },
    {
      "cell_type": "code",
      "metadata": {
        "id": "d992d132-4d47-4f71-a4ba-90726cf94f85",
        "colab": {
          "base_uri": "https://localhost:8080/"
        },
        "outputId": "cf23ac68-068f-48d0-d5c5-04402a153825"
      },
      "source": [
        "# checking how many unique value in that columnn for replacing\n",
        "df.Geography.unique()"
      ],
      "id": "d992d132-4d47-4f71-a4ba-90726cf94f85",
      "execution_count": 5,
      "outputs": [
        {
          "output_type": "execute_result",
          "data": {
            "text/plain": [
              "array(['France', 'Spain', 'Germany'], dtype=object)"
            ]
          },
          "metadata": {},
          "execution_count": 5
        }
      ]
    },
    {
      "cell_type": "code",
      "metadata": {
        "id": "491dd6b7-3a5c-471f-9c1e-d2c6cce8b703"
      },
      "source": [
        "# replacing categorical value with numerical values\n",
        "df['Geography'] = df['Geography'].replace(['France', 'Spain', 'Germany'], [0,1,2])\n",
        "df['Gender'] = df['Gender'].replace(['Male', 'Female'], [0, 1])"
      ],
      "id": "491dd6b7-3a5c-471f-9c1e-d2c6cce8b703",
      "execution_count": 6,
      "outputs": []
    },
    {
      "cell_type": "code",
      "metadata": {
        "id": "c4d989d9-da7d-44fa-8be7-935051ee8f92"
      },
      "source": [
        "# drop unwanted columns\n",
        "df = df.drop(['RowNumber', 'CustomerId', 'Surname'], axis=1)"
      ],
      "id": "c4d989d9-da7d-44fa-8be7-935051ee8f92",
      "execution_count": 7,
      "outputs": []
    },
    {
      "cell_type": "code",
      "metadata": {
        "id": "736c8c08-fcd5-4021-a5a2-ae404c6d2fa1",
        "colab": {
          "base_uri": "https://localhost:8080/"
        },
        "outputId": "a6466776-32ab-448d-cd76-c083a3edb56e"
      },
      "source": [
        "df.Exited.value_counts()"
      ],
      "id": "736c8c08-fcd5-4021-a5a2-ae404c6d2fa1",
      "execution_count": 8,
      "outputs": [
        {
          "output_type": "execute_result",
          "data": {
            "text/plain": [
              "0    7963\n",
              "1    2037\n",
              "Name: Exited, dtype: int64"
            ]
          },
          "metadata": {},
          "execution_count": 8
        }
      ]
    },
    {
      "cell_type": "code",
      "metadata": {
        "id": "05794edc-f7c2-4df4-91a3-588469518eb7",
        "colab": {
          "base_uri": "https://localhost:8080/",
          "height": 203
        },
        "outputId": "33a33e07-b710-4331-b6bb-097a48a5585d"
      },
      "source": [
        "df.head()"
      ],
      "id": "05794edc-f7c2-4df4-91a3-588469518eb7",
      "execution_count": 9,
      "outputs": [
        {
          "output_type": "execute_result",
          "data": {
            "text/html": [
              "<div>\n",
              "<style scoped>\n",
              "    .dataframe tbody tr th:only-of-type {\n",
              "        vertical-align: middle;\n",
              "    }\n",
              "\n",
              "    .dataframe tbody tr th {\n",
              "        vertical-align: top;\n",
              "    }\n",
              "\n",
              "    .dataframe thead th {\n",
              "        text-align: right;\n",
              "    }\n",
              "</style>\n",
              "<table border=\"1\" class=\"dataframe\">\n",
              "  <thead>\n",
              "    <tr style=\"text-align: right;\">\n",
              "      <th></th>\n",
              "      <th>CreditScore</th>\n",
              "      <th>Geography</th>\n",
              "      <th>Gender</th>\n",
              "      <th>Age</th>\n",
              "      <th>Tenure</th>\n",
              "      <th>Balance</th>\n",
              "      <th>NumOfProducts</th>\n",
              "      <th>HasCrCard</th>\n",
              "      <th>IsActiveMember</th>\n",
              "      <th>EstimatedSalary</th>\n",
              "      <th>Exited</th>\n",
              "    </tr>\n",
              "  </thead>\n",
              "  <tbody>\n",
              "    <tr>\n",
              "      <th>0</th>\n",
              "      <td>619</td>\n",
              "      <td>0</td>\n",
              "      <td>1</td>\n",
              "      <td>42</td>\n",
              "      <td>2</td>\n",
              "      <td>0.00</td>\n",
              "      <td>1</td>\n",
              "      <td>1</td>\n",
              "      <td>1</td>\n",
              "      <td>101348.88</td>\n",
              "      <td>1</td>\n",
              "    </tr>\n",
              "    <tr>\n",
              "      <th>1</th>\n",
              "      <td>608</td>\n",
              "      <td>1</td>\n",
              "      <td>1</td>\n",
              "      <td>41</td>\n",
              "      <td>1</td>\n",
              "      <td>83807.86</td>\n",
              "      <td>1</td>\n",
              "      <td>0</td>\n",
              "      <td>1</td>\n",
              "      <td>112542.58</td>\n",
              "      <td>0</td>\n",
              "    </tr>\n",
              "    <tr>\n",
              "      <th>2</th>\n",
              "      <td>502</td>\n",
              "      <td>0</td>\n",
              "      <td>1</td>\n",
              "      <td>42</td>\n",
              "      <td>8</td>\n",
              "      <td>159660.80</td>\n",
              "      <td>3</td>\n",
              "      <td>1</td>\n",
              "      <td>0</td>\n",
              "      <td>113931.57</td>\n",
              "      <td>1</td>\n",
              "    </tr>\n",
              "    <tr>\n",
              "      <th>3</th>\n",
              "      <td>699</td>\n",
              "      <td>0</td>\n",
              "      <td>1</td>\n",
              "      <td>39</td>\n",
              "      <td>1</td>\n",
              "      <td>0.00</td>\n",
              "      <td>2</td>\n",
              "      <td>0</td>\n",
              "      <td>0</td>\n",
              "      <td>93826.63</td>\n",
              "      <td>0</td>\n",
              "    </tr>\n",
              "    <tr>\n",
              "      <th>4</th>\n",
              "      <td>850</td>\n",
              "      <td>1</td>\n",
              "      <td>1</td>\n",
              "      <td>43</td>\n",
              "      <td>2</td>\n",
              "      <td>125510.82</td>\n",
              "      <td>1</td>\n",
              "      <td>1</td>\n",
              "      <td>1</td>\n",
              "      <td>79084.10</td>\n",
              "      <td>0</td>\n",
              "    </tr>\n",
              "  </tbody>\n",
              "</table>\n",
              "</div>"
            ],
            "text/plain": [
              "   CreditScore  Geography  Gender  ...  IsActiveMember  EstimatedSalary  Exited\n",
              "0          619          0       1  ...               1        101348.88       1\n",
              "1          608          1       1  ...               1        112542.58       0\n",
              "2          502          0       1  ...               0        113931.57       1\n",
              "3          699          0       1  ...               0         93826.63       0\n",
              "4          850          1       1  ...               1         79084.10       0\n",
              "\n",
              "[5 rows x 11 columns]"
            ]
          },
          "metadata": {},
          "execution_count": 9
        }
      ]
    },
    {
      "cell_type": "code",
      "metadata": {
        "id": "e22eaa8b-b6e7-4e34-86ec-dfc1c367833a"
      },
      "source": [
        "X = df.drop(columns='Exited')\n",
        "y = df['Exited']"
      ],
      "id": "e22eaa8b-b6e7-4e34-86ec-dfc1c367833a",
      "execution_count": 10,
      "outputs": []
    },
    {
      "cell_type": "code",
      "metadata": {
        "id": "7cdbe688-7fa0-4f2b-8216-51ef9a24ab75"
      },
      "source": [
        "# split dataset into train and test dataset\n",
        "X_train, X_test, y_train, y_test = train_test_split(X, y, test_size=0.2, random_state=0)"
      ],
      "id": "7cdbe688-7fa0-4f2b-8216-51ef9a24ab75",
      "execution_count": 11,
      "outputs": []
    },
    {
      "cell_type": "markdown",
      "metadata": {
        "id": "e89bdd39-404d-4542-a9a6-2137bbe2e7e4"
      },
      "source": [
        "### Feature scaling:"
      ],
      "id": "e89bdd39-404d-4542-a9a6-2137bbe2e7e4"
    },
    {
      "cell_type": "code",
      "metadata": {
        "id": "1bdad7eb-5629-4757-bc5b-ce1ed1f799b2"
      },
      "source": [
        "scaler = MinMaxScaler()\n",
        "X_train = scaler.fit_transform(X_train)\n",
        "X_test = scaler.fit_transform(X_test)"
      ],
      "id": "1bdad7eb-5629-4757-bc5b-ce1ed1f799b2",
      "execution_count": 12,
      "outputs": []
    },
    {
      "cell_type": "markdown",
      "metadata": {
        "id": "204d227a-b6d4-42bf-b06c-74dd35a33ba2"
      },
      "source": [
        "### Initialising the ANN:"
      ],
      "id": "204d227a-b6d4-42bf-b06c-74dd35a33ba2"
    },
    {
      "cell_type": "code",
      "metadata": {
        "id": "80a543c5-e82d-472f-9a55-d2a21399a0c5"
      },
      "source": [
        "# initialising the model\n",
        "model = Sequential()"
      ],
      "id": "80a543c5-e82d-472f-9a55-d2a21399a0c5",
      "execution_count": 13,
      "outputs": []
    },
    {
      "cell_type": "code",
      "metadata": {
        "id": "a9e941df-4ca3-41fb-a437-be78751a331c"
      },
      "source": [
        "# Adding the input layer (first hidden layer)\n",
        "model.add(Dense(units=10, kernel_initializer='he_uniform', activation='relu', input_dim = 10))"
      ],
      "id": "a9e941df-4ca3-41fb-a437-be78751a331c",
      "execution_count": 14,
      "outputs": []
    },
    {
      "cell_type": "code",
      "metadata": {
        "id": "59a8a5f5-f455-4848-82da-35f3349a7141"
      },
      "source": [
        "# Adding the another input layer (second hidden layer)\n",
        "model.add(Dense(units=20, kernel_initializer='he_uniform', activation='relu')) # for 2nd hidden layer dont use input_dim"
      ],
      "id": "59a8a5f5-f455-4848-82da-35f3349a7141",
      "execution_count": 15,
      "outputs": []
    },
    {
      "cell_type": "code",
      "metadata": {
        "id": "824e9a3a-ecb4-4833-ba72-95c8941b1522"
      },
      "source": [
        "# Adding the another input layer (third hidden layer)\n",
        "model.add(Dense(units=10, kernel_initializer='he_uniform', activation='relu')) # for 3rd hidden layer dont use input_dim"
      ],
      "id": "824e9a3a-ecb4-4833-ba72-95c8941b1522",
      "execution_count": 16,
      "outputs": []
    },
    {
      "cell_type": "code",
      "metadata": {
        "id": "68aa5ca5-3f86-42f1-b554-2ba3575ccf75"
      },
      "source": [
        "# Adding the output layer\n",
        "model.add(Dense(units = 1, kernel_initializer = 'glorot_uniform', activation = 'sigmoid'))"
      ],
      "id": "68aa5ca5-3f86-42f1-b554-2ba3575ccf75",
      "execution_count": 17,
      "outputs": []
    },
    {
      "cell_type": "code",
      "metadata": {
        "id": "cf4c5df0-45c7-469e-a8f3-f54f0354d41e"
      },
      "source": [
        "# compile the ANN \n",
        "model.compile(optimizer='adam', loss='binary_crossentropy', metrics=['accuracy'])"
      ],
      "id": "cf4c5df0-45c7-469e-a8f3-f54f0354d41e",
      "execution_count": 18,
      "outputs": []
    },
    {
      "cell_type": "code",
      "metadata": {
        "id": "70bc416c-53e3-4b19-9633-484ebfc1cf16",
        "colab": {
          "base_uri": "https://localhost:8080/"
        },
        "outputId": "cf3e3e23-02dc-4af6-a058-6c2fe77ffa7e"
      },
      "source": [
        "# Fitting the ANN to the Training set\n",
        "Model = model.fit(X_train, y_train, validation_split=0.1, epochs=10, batch_size=100, )"
      ],
      "id": "70bc416c-53e3-4b19-9633-484ebfc1cf16",
      "execution_count": 19,
      "outputs": [
        {
          "output_type": "stream",
          "name": "stdout",
          "text": [
            "Epoch 1/10\n",
            "72/72 [==============================] - 1s 4ms/step - loss: 0.6411 - accuracy: 0.6432 - val_loss: 0.5152 - val_accuracy: 0.7962\n",
            "Epoch 2/10\n",
            "72/72 [==============================] - 0s 2ms/step - loss: 0.5040 - accuracy: 0.7969 - val_loss: 0.4895 - val_accuracy: 0.7962\n",
            "Epoch 3/10\n",
            "72/72 [==============================] - 0s 2ms/step - loss: 0.4874 - accuracy: 0.7971 - val_loss: 0.4731 - val_accuracy: 0.7950\n",
            "Epoch 4/10\n",
            "72/72 [==============================] - 0s 2ms/step - loss: 0.4760 - accuracy: 0.7969 - val_loss: 0.4584 - val_accuracy: 0.7962\n",
            "Epoch 5/10\n",
            "72/72 [==============================] - 0s 2ms/step - loss: 0.4658 - accuracy: 0.7994 - val_loss: 0.4433 - val_accuracy: 0.8062\n",
            "Epoch 6/10\n",
            "72/72 [==============================] - 0s 4ms/step - loss: 0.4555 - accuracy: 0.8071 - val_loss: 0.4302 - val_accuracy: 0.8238\n",
            "Epoch 7/10\n",
            "72/72 [==============================] - 0s 2ms/step - loss: 0.4484 - accuracy: 0.8147 - val_loss: 0.4233 - val_accuracy: 0.8175\n",
            "Epoch 8/10\n",
            "72/72 [==============================] - 0s 2ms/step - loss: 0.4435 - accuracy: 0.8158 - val_loss: 0.4169 - val_accuracy: 0.8325\n",
            "Epoch 9/10\n",
            "72/72 [==============================] - 0s 2ms/step - loss: 0.4387 - accuracy: 0.8197 - val_loss: 0.4130 - val_accuracy: 0.8313\n",
            "Epoch 10/10\n",
            "72/72 [==============================] - 0s 2ms/step - loss: 0.4352 - accuracy: 0.8206 - val_loss: 0.4107 - val_accuracy: 0.8288\n"
          ]
        }
      ]
    },
    {
      "cell_type": "code",
      "metadata": {
        "id": "b36a3e9a-3ecb-4eda-a26e-98b9705ae425",
        "colab": {
          "base_uri": "https://localhost:8080/"
        },
        "outputId": "052f6cb9-cdf7-4114-dbe5-52760b0fe1f4"
      },
      "source": [
        "# list all data in history\n",
        "print(Model.history.keys())"
      ],
      "id": "b36a3e9a-3ecb-4eda-a26e-98b9705ae425",
      "execution_count": 20,
      "outputs": [
        {
          "output_type": "stream",
          "name": "stdout",
          "text": [
            "dict_keys(['loss', 'accuracy', 'val_loss', 'val_accuracy'])\n"
          ]
        }
      ]
    },
    {
      "cell_type": "code",
      "metadata": {
        "id": "eb7c600e-0f93-4e28-bd85-18330d69db64",
        "colab": {
          "base_uri": "https://localhost:8080/",
          "height": 295
        },
        "outputId": "7fbb5d7d-7fdd-4eb9-cc8f-ddc7aac71130"
      },
      "source": [
        "# summarize history for accuracy\n",
        "plt.plot(Model.history['accuracy'])\n",
        "plt.plot(Model.history['val_accuracy'])\n",
        "plt.title('model accuracy')\n",
        "plt.ylabel('accuracy')\n",
        "plt.xlabel('epoch')\n",
        "plt.legend(['train', 'test'], loc='lower right')\n",
        "plt.show()"
      ],
      "id": "eb7c600e-0f93-4e28-bd85-18330d69db64",
      "execution_count": 21,
      "outputs": [
        {
          "output_type": "display_data",
          "data": {
            "image/png": "[encoded data removed]",
            "text/plain": [
              "<Figure size 432x288 with 1 Axes>"
            ]
          },
          "metadata": {
            "needs_background": "light"
          }
        }
      ]
    },
    {
      "cell_type": "code",
      "metadata": {
        "id": "4f941242-229a-41d5-b8c3-92d822381810",
        "colab": {
          "base_uri": "https://localhost:8080/",
          "height": 295
        },
        "outputId": "e565e86d-98d7-466c-c7af-6db399b066ce"
      },
      "source": [
        "# summarize history for loss\n",
        "plt.plot(Model.history['loss'])\n",
        "plt.plot(Model.history['val_loss'])\n",
        "plt.title('model loss')\n",
        "plt.ylabel('loss')\n",
        "plt.xlabel('epoch')\n",
        "plt.legend(['train', 'test'], loc='upper right')\n",
        "plt.show()"
      ],
      "id": "4f941242-229a-41d5-b8c3-92d822381810",
      "execution_count": 22,
      "outputs": [
        {
          "output_type": "display_data",
          "data": {
            "image/png": "[encoded data removed]",
            "text/plain": [
              "<Figure size 432x288 with 1 Axes>"
            ]
          },
          "metadata": {
            "needs_background": "light"
          }
        }
      ]
    },
    {
      "cell_type": "code",
      "metadata": {
        "id": "dbb2dab3-8fe0-4ba7-9ef2-114c3c2c73ec"
      },
      "source": [
        "# fitting the test dataset\n",
        "y_pred = model.predict(X_test)\n",
        "y_pred = y_pred > 0.5"
      ],
      "id": "dbb2dab3-8fe0-4ba7-9ef2-114c3c2c73ec",
      "execution_count": 23,
      "outputs": []
    },
    {
      "cell_type": "code",
      "metadata": {
        "id": "497a1162-fb25-4638-8ef9-51799c4080ba",
        "colab": {
          "base_uri": "https://localhost:8080/"
        },
        "outputId": "ddcead4d-b283-453c-9af8-330c442a0835"
      },
      "source": [
        "# confusion matrix\n",
        "print(f\"Confusion matrix:\\n {confusion_matrix(y_pred, y_test)}\")\n",
        "\n",
        "# classification report\n",
        "print(f\"Classification report:\\n {classification_report(y_pred, y_test)}\")"
      ],
      "id": "497a1162-fb25-4638-8ef9-51799c4080ba",
      "execution_count": 24,
      "outputs": [
        {
          "output_type": "stream",
          "name": "stdout",
          "text": [
            "Confusion matrix:\n",
            " [[1577  342]\n",
            " [  18   63]]\n",
            "Classification report:\n",
            "               precision    recall  f1-score   support\n",
            "\n",
            "       False       0.99      0.82      0.90      1919\n",
            "        True       0.16      0.78      0.26        81\n",
            "\n",
            "    accuracy                           0.82      2000\n",
            "   macro avg       0.57      0.80      0.58      2000\n",
            "weighted avg       0.95      0.82      0.87      2000\n",
            "\n"
          ]
        }
      ]
    },
    {
      "cell_type": "markdown",
      "metadata": {
        "id": "96d88de8-59ff-47ae-9a0c-b2aa9ca68947"
      },
      "source": [
        "### HyperParameter tunning:"
      ],
      "id": "96d88de8-59ff-47ae-9a0c-b2aa9ca68947"
    },
    {
      "cell_type": "code",
      "metadata": {
        "id": "9f33ac1c-f055-446d-b4be-42caf7bbe742"
      },
      "source": [
        "from keras.wrappers.scikit_learn import KerasClassifier\n",
        "from sklearn.model_selection import GridSearchCV\n",
        "\n",
        "from keras.models import Sequential\n",
        "from keras.layers import Dense, Activation, Embedding, Flatten, LeakyReLU, BatchNormalization, Dropout\n",
        "from keras.activations import relu, sigmoid"
      ],
      "id": "9f33ac1c-f055-446d-b4be-42caf7bbe742",
      "execution_count": 25,
      "outputs": []
    },
    {
      "cell_type": "code",
      "metadata": {
        "id": "8bc1867a-0c0f-4645-98ca-4c7830ad68a4"
      },
      "source": [
        "def create_model(layer, activation, kernel):\n",
        "    model = Sequential()\n",
        "    for i, nodes in enumerate(layer):\n",
        "        if i == 0:\n",
        "            model.add(Dense(nodes, input_dim=X_train.shape[1]))\n",
        "            model.add(Activation(activation))\n",
        "        else:\n",
        "            model.add(Dense(nodes), kernel_initializer=kernel)\n",
        "            model.add(Activation(activation))\n",
        "            \n",
        "    model.add(Dense(units=1, activation='sigmoid', kernel_initializer=\"glorot_uniform\"))   # this one is output layer so we use sigmoid af\n",
        "    model.compile(optimizer='adam', loss=\"binary_crossentropy\", metrics=['accuracy'])\n",
        "    return model"
      ],
      "id": "8bc1867a-0c0f-4645-98ca-4c7830ad68a4",
      "execution_count": 26,
      "outputs": []
    },
    {
      "cell_type": "code",
      "metadata": {
        "id": "1ca60311-f192-495b-a2eb-2f7ee519ca8e"
      },
      "source": [
        "# creating an object for previous function\n",
        "model = KerasClassifier(build_fn=create_model)"
      ],
      "id": "1ca60311-f192-495b-a2eb-2f7ee519ca8e",
      "execution_count": 27,
      "outputs": []
    },
    {
      "cell_type": "code",
      "metadata": {
        "id": "e157d359-283c-412b-8ac0-611ec4bf566a"
      },
      "source": [
        "layers = [[20], [40, 20], [40, 20, 10]]\n",
        "activations = ['relu', 'sigmoid']\n",
        "kernel = [['he_uniform', 'he_normal'], ['glorot_uniform', 'glorot_normal']]\n",
        "para_grid = dict(layer=layers, activation=activations, kernel=kernel)\n",
        "grid = GridSearchCV(model, para_grid, cv=5)"
      ],
      "id": "e157d359-283c-412b-8ac0-611ec4bf566a",
      "execution_count": 28,
      "outputs": []
    },
    {
      "cell_type": "code",
      "metadata": {
        "id": "decfe152-2275-45c2-ac72-b0aa3c379500",
        "colab": {
          "base_uri": "https://localhost:8080/"
        },
        "outputId": "1476010e-7481-4cf4-e2e2-c379e53e4e0c"
      },
      "source": [
        "# fitting dataset with created model \n",
        "grid.fit(X_train, y_train, validation_split=0.3, validation_data=(X_test, y_test), epochs=10)"
      ],
      "id": "decfe152-2275-45c2-ac72-b0aa3c379500",
      "execution_count": 29,
      "outputs": [
        {
          "output_type": "stream",
          "name": "stdout",
          "text": [
            "Epoch 1/10\n",
            "140/140 [==============================] - 1s 3ms/step - loss: 0.5631 - accuracy: 0.7667 - val_loss: 0.5037 - val_accuracy: 0.7995\n",
            "Epoch 2/10\n",
            "140/140 [==============================] - 0s 2ms/step - loss: 0.4945 - accuracy: 0.7973 - val_loss: 0.4850 - val_accuracy: 0.7995\n",
            "Epoch 3/10\n",
            "140/140 [==============================] - 0s 2ms/step - loss: 0.4767 - accuracy: 0.7978 - val_loss: 0.4727 - val_accuracy: 0.8005\n",
            "Epoch 4/10\n",
            "140/140 [==============================] - 0s 2ms/step - loss: 0.4642 - accuracy: 0.8009 - val_loss: 0.4648 - val_accuracy: 0.8052\n",
            "Epoch 5/10\n",
            "140/140 [==============================] - 0s 2ms/step - loss: 0.4572 - accuracy: 0.8045 - val_loss: 0.4604 - val_accuracy: 0.8068\n",
            "Epoch 6/10\n",
            "140/140 [==============================] - 0s 2ms/step - loss: 0.4513 - accuracy: 0.8058 - val_loss: 0.4558 - val_accuracy: 0.8078\n",
            "Epoch 7/10\n",
            "140/140 [==============================] - 0s 2ms/step - loss: 0.4474 - accuracy: 0.8080 - val_loss: 0.4517 - val_accuracy: 0.8073\n",
            "Epoch 8/10\n",
            "140/140 [==============================] - 0s 2ms/step - loss: 0.4435 - accuracy: 0.8083 - val_loss: 0.4491 - val_accuracy: 0.8094\n",
            "Epoch 9/10\n",
            "140/140 [==============================] - 0s 2ms/step - loss: 0.4402 - accuracy: 0.8096 - val_loss: 0.4462 - val_accuracy: 0.8083\n",
            "Epoch 10/10\n",
            "140/140 [==============================] - 0s 2ms/step - loss: 0.4372 - accuracy: 0.8100 - val_loss: 0.4444 - val_accuracy: 0.8078\n",
            "50/50 [==============================] - 0s 1ms/step - loss: 0.4504 - accuracy: 0.7987\n",
            "Epoch 1/10\n",
            "140/140 [==============================] - 1s 2ms/step - loss: 0.6091 - accuracy: 0.6828 - val_loss: 0.5073 - val_accuracy: 0.7995\n",
            "Epoch 2/10\n",
            "140/140 [==============================] - 0s 2ms/step - loss: 0.4972 - accuracy: 0.7962 - val_loss: 0.4898 - val_accuracy: 0.7995\n",
            "Epoch 3/10\n",
            "140/140 [==============================] - 0s 2ms/step - loss: 0.4812 - accuracy: 0.7962 - val_loss: 0.4785 - val_accuracy: 0.7995\n",
            "Epoch 4/10\n",
            "140/140 [==============================] - 0s 2ms/step - loss: 0.4695 - accuracy: 0.7962 - val_loss: 0.4708 - val_accuracy: 0.7990\n",
            "Epoch 5/10\n",
            "140/140 [==============================] - 0s 2ms/step - loss: 0.4602 - accuracy: 0.8002 - val_loss: 0.4641 - val_accuracy: 0.7984\n",
            "Epoch 6/10\n",
            "140/140 [==============================] - 0s 2ms/step - loss: 0.4532 - accuracy: 0.8047 - val_loss: 0.4593 - val_accuracy: 0.8005\n",
            "Epoch 7/10\n",
            "140/140 [==============================] - 0s 2ms/step - loss: 0.4477 - accuracy: 0.8065 - val_loss: 0.4546 - val_accuracy: 0.8047\n",
            "Epoch 8/10\n",
            "140/140 [==============================] - 0s 2ms/step - loss: 0.4429 - accuracy: 0.8092 - val_loss: 0.4502 - val_accuracy: 0.8057\n",
            "Epoch 9/10\n",
            "140/140 [==============================] - 0s 2ms/step - loss: 0.4392 - accuracy: 0.8098 - val_loss: 0.4468 - val_accuracy: 0.8047\n",
            "Epoch 10/10\n",
            "140/140 [==============================] - 0s 2ms/step - loss: 0.4350 - accuracy: 0.8125 - val_loss: 0.4431 - val_accuracy: 0.8094\n",
            "50/50 [==============================] - 0s 1ms/step - loss: 0.4502 - accuracy: 0.8037\n",
            "Epoch 1/10\n",
            "140/140 [==============================] - 1s 3ms/step - loss: 0.5384 - accuracy: 0.7884 - val_loss: 0.5055 - val_accuracy: 0.7995\n",
            "Epoch 2/10\n",
            "140/140 [==============================] - 0s 2ms/step - loss: 0.5104 - accuracy: 0.7884 - val_loss: 0.4910 - val_accuracy: 0.7995\n",
            "Epoch 3/10\n",
            "140/140 [==============================] - 0s 2ms/step - loss: 0.4960 - accuracy: 0.7884 - val_loss: 0.4802 - val_accuracy: 0.7995\n",
            "Epoch 4/10\n",
            "140/140 [==============================] - 0s 2ms/step - loss: 0.4856 - accuracy: 0.7888 - val_loss: 0.4726 - val_accuracy: 0.7995\n",
            "Epoch 5/10\n",
            "140/140 [==============================] - 0s 2ms/step - loss: 0.4781 - accuracy: 0.7900 - val_loss: 0.4668 - val_accuracy: 0.8016\n",
            "Epoch 6/10\n",
            "140/140 [==============================] - 0s 2ms/step - loss: 0.4718 - accuracy: 0.7922 - val_loss: 0.4613 - val_accuracy: 0.8031\n",
            "Epoch 7/10\n",
            "140/140 [==============================] - 0s 2ms/step - loss: 0.4663 - accuracy: 0.7969 - val_loss: 0.4578 - val_accuracy: 0.8073\n",
            "Epoch 8/10\n",
            "140/140 [==============================] - 0s 2ms/step - loss: 0.4614 - accuracy: 0.7989 - val_loss: 0.4534 - val_accuracy: 0.8078\n",
            "Epoch 9/10\n",
            "140/140 [==============================] - 0s 2ms/step - loss: 0.4568 - accuracy: 0.8033 - val_loss: 0.4496 - val_accuracy: 0.8083\n",
            "Epoch 10/10\n",
            "140/140 [==============================] - 0s 2ms/step - loss: 0.4535 - accuracy: 0.8036 - val_loss: 0.4496 - val_accuracy: 0.8083\n",
            "50/50 [==============================] - 0s 1ms/step - loss: 0.4181 - accuracy: 0.8206\n",
            "Epoch 1/10\n",
            "140/140 [==============================] - 1s 2ms/step - loss: 0.4965 - accuracy: 0.7996 - val_loss: 0.4920 - val_accuracy: 0.7922\n",
            "Epoch 2/10\n",
            "140/140 [==============================] - 0s 2ms/step - loss: 0.4718 - accuracy: 0.7996 - val_loss: 0.4771 - val_accuracy: 0.7922\n",
            "Epoch 3/10\n",
            "140/140 [==============================] - 0s 2ms/step - loss: 0.4612 - accuracy: 0.7996 - val_loss: 0.4691 - val_accuracy: 0.7922\n",
            "Epoch 4/10\n",
            "140/140 [==============================] - 0s 2ms/step - loss: 0.4549 - accuracy: 0.8018 - val_loss: 0.4639 - val_accuracy: 0.7937\n",
            "Epoch 5/10\n",
            "140/140 [==============================] - 0s 2ms/step - loss: 0.4499 - accuracy: 0.8031 - val_loss: 0.4595 - val_accuracy: 0.7964\n",
            "Epoch 6/10\n",
            "140/140 [==============================] - 0s 2ms/step - loss: 0.4451 - accuracy: 0.8047 - val_loss: 0.4547 - val_accuracy: 0.7995\n",
            "Epoch 7/10\n",
            "140/140 [==============================] - 0s 2ms/step - loss: 0.4401 - accuracy: 0.8076 - val_loss: 0.4523 - val_accuracy: 0.7995\n",
            "Epoch 8/10\n",
            "140/140 [==============================] - 0s 2ms/step - loss: 0.4357 - accuracy: 0.8089 - val_loss: 0.4476 - val_accuracy: 0.8010\n",
            "Epoch 9/10\n",
            "140/140 [==============================] - 0s 2ms/step - loss: 0.4321 - accuracy: 0.8100 - val_loss: 0.4450 - val_accuracy: 0.8021\n",
            "Epoch 10/10\n",
            "140/140 [==============================] - 0s 2ms/step - loss: 0.4281 - accuracy: 0.8118 - val_loss: 0.4409 - val_accuracy: 0.8094\n",
            "50/50 [==============================] - 0s 1ms/step - loss: 0.4408 - accuracy: 0.8106\n",
            "Epoch 1/10\n",
            "140/140 [==============================] - 1s 2ms/step - loss: 0.5601 - accuracy: 0.7538 - val_loss: 0.5138 - val_accuracy: 0.7870\n",
            "Epoch 2/10\n",
            "140/140 [==============================] - 0s 2ms/step - loss: 0.4862 - accuracy: 0.7996 - val_loss: 0.4900 - val_accuracy: 0.7870\n",
            "Epoch 3/10\n",
            "140/140 [==============================] - 0s 2ms/step - loss: 0.4679 - accuracy: 0.7996 - val_loss: 0.4782 - val_accuracy: 0.7870\n",
            "Epoch 4/10\n",
            "140/140 [==============================] - 0s 2ms/step - loss: 0.4585 - accuracy: 0.8016 - val_loss: 0.4682 - val_accuracy: 0.7948\n",
            "Epoch 5/10\n",
            "140/140 [==============================] - 0s 2ms/step - loss: 0.4514 - accuracy: 0.8058 - val_loss: 0.4624 - val_accuracy: 0.7995\n",
            "Epoch 6/10\n",
            "140/140 [==============================] - 0s 2ms/step - loss: 0.4465 - accuracy: 0.8083 - val_loss: 0.4574 - val_accuracy: 0.8016\n",
            "Epoch 7/10\n",
            "140/140 [==============================] - 0s 2ms/step - loss: 0.4410 - accuracy: 0.8134 - val_loss: 0.4534 - val_accuracy: 0.8036\n",
            "Epoch 8/10\n",
            "140/140 [==============================] - 0s 2ms/step - loss: 0.4363 - accuracy: 0.8143 - val_loss: 0.4495 - val_accuracy: 0.8078\n",
            "Epoch 9/10\n",
            "140/140 [==============================] - 0s 2ms/step - loss: 0.4330 - accuracy: 0.8172 - val_loss: 0.4470 - val_accuracy: 0.8083\n",
            "Epoch 10/10\n",
            "140/140 [==============================] - 0s 2ms/step - loss: 0.4295 - accuracy: 0.8179 - val_loss: 0.4434 - val_accuracy: 0.8099\n",
            "50/50 [==============================] - 0s 1ms/step - loss: 0.4368 - accuracy: 0.8112\n",
            "Epoch 1/10\n",
            "140/140 [==============================] - 1s 3ms/step - loss: 0.5676 - accuracy: 0.7317 - val_loss: 0.4907 - val_accuracy: 0.7995\n",
            "Epoch 2/10\n",
            "140/140 [==============================] - 0s 2ms/step - loss: 0.4837 - accuracy: 0.7975 - val_loss: 0.4764 - val_accuracy: 0.7995\n",
            "Epoch 3/10\n",
            "140/140 [==============================] - 0s 2ms/step - loss: 0.4696 - accuracy: 0.8000 - val_loss: 0.4670 - val_accuracy: 0.8005\n",
            "Epoch 4/10\n",
            "140/140 [==============================] - 0s 2ms/step - loss: 0.4605 - accuracy: 0.8022 - val_loss: 0.4624 - val_accuracy: 0.8021\n",
            "Epoch 5/10\n",
            "140/140 [==============================] - 0s 2ms/step - loss: 0.4545 - accuracy: 0.8036 - val_loss: 0.4563 - val_accuracy: 0.8036\n",
            "Epoch 6/10\n",
            "140/140 [==============================] - 0s 2ms/step - loss: 0.4491 - accuracy: 0.8069 - val_loss: 0.4519 - val_accuracy: 0.8083\n",
            "Epoch 7/10\n",
            "140/140 [==============================] - 0s 2ms/step - loss: 0.4449 - accuracy: 0.8087 - val_loss: 0.4481 - val_accuracy: 0.8094\n",
            "Epoch 8/10\n",
            "140/140 [==============================] - 0s 2ms/step - loss: 0.4414 - accuracy: 0.8114 - val_loss: 0.4456 - val_accuracy: 0.8099\n",
            "Epoch 9/10\n",
            "140/140 [==============================] - 0s 2ms/step - loss: 0.4373 - accuracy: 0.8129 - val_loss: 0.4427 - val_accuracy: 0.8099\n",
            "Epoch 10/10\n",
            "140/140 [==============================] - 0s 2ms/step - loss: 0.4345 - accuracy: 0.8129 - val_loss: 0.4403 - val_accuracy: 0.8120\n",
            "50/50 [==============================] - 0s 1ms/step - loss: 0.4451 - accuracy: 0.8044\n",
            "Epoch 1/10\n",
            "140/140 [==============================] - 1s 3ms/step - loss: 0.5484 - accuracy: 0.7676 - val_loss: 0.5011 - val_accuracy: 0.7995\n",
            "Epoch 2/10\n",
            "140/140 [==============================] - 0s 2ms/step - loss: 0.4891 - accuracy: 0.7962 - val_loss: 0.4829 - val_accuracy: 0.7995\n",
            "Epoch 3/10\n",
            "140/140 [==============================] - 0s 2ms/step - loss: 0.4730 - accuracy: 0.7978 - val_loss: 0.4728 - val_accuracy: 0.8000\n",
            "Epoch 4/10\n",
            "140/140 [==============================] - 0s 2ms/step - loss: 0.4625 - accuracy: 0.8036 - val_loss: 0.4670 - val_accuracy: 0.8016\n",
            "Epoch 5/10\n",
            "140/140 [==============================] - 0s 2ms/step - loss: 0.4557 - accuracy: 0.8054 - val_loss: 0.4605 - val_accuracy: 0.8036\n",
            "Epoch 6/10\n",
            "140/140 [==============================] - 0s 2ms/step - loss: 0.4504 - accuracy: 0.8062 - val_loss: 0.4559 - val_accuracy: 0.8036\n",
            "Epoch 7/10\n",
            "140/140 [==============================] - 0s 2ms/step - loss: 0.4459 - accuracy: 0.8078 - val_loss: 0.4523 - val_accuracy: 0.8057\n",
            "Epoch 8/10\n",
            "140/140 [==============================] - 0s 2ms/step - loss: 0.4422 - accuracy: 0.8080 - val_loss: 0.4495 - val_accuracy: 0.8073\n",
            "Epoch 9/10\n",
            "140/140 [==============================] - 0s 2ms/step - loss: 0.4394 - accuracy: 0.8078 - val_loss: 0.4473 - val_accuracy: 0.8089\n",
            "Epoch 10/10\n",
            "140/140 [==============================] - 0s 2ms/step - loss: 0.4365 - accuracy: 0.8096 - val_loss: 0.4453 - val_accuracy: 0.8089\n",
            "50/50 [==============================] - 0s 1ms/step - loss: 0.4531 - accuracy: 0.8100\n",
            "Epoch 1/10\n",
            "140/140 [==============================] - 1s 3ms/step - loss: 0.5680 - accuracy: 0.7455 - val_loss: 0.5075 - val_accuracy: 0.7995\n",
            "Epoch 2/10\n",
            "140/140 [==============================] - 0s 2ms/step - loss: 0.5079 - accuracy: 0.7884 - val_loss: 0.4864 - val_accuracy: 0.7995\n",
            "Epoch 3/10\n",
            "140/140 [==============================] - 0s 2ms/step - loss: 0.4908 - accuracy: 0.7897 - val_loss: 0.4756 - val_accuracy: 0.8010\n",
            "Epoch 4/10\n",
            "140/140 [==============================] - 0s 2ms/step - loss: 0.4804 - accuracy: 0.7917 - val_loss: 0.4683 - val_accuracy: 0.8036\n",
            "Epoch 5/10\n",
            "140/140 [==============================] - 0s 2ms/step - loss: 0.4729 - accuracy: 0.7951 - val_loss: 0.4627 - val_accuracy: 0.8068\n",
            "Epoch 6/10\n",
            "140/140 [==============================] - 0s 2ms/step - loss: 0.4662 - accuracy: 0.7969 - val_loss: 0.4561 - val_accuracy: 0.8089\n",
            "Epoch 7/10\n",
            "140/140 [==============================] - 0s 2ms/step - loss: 0.4593 - accuracy: 0.8009 - val_loss: 0.4516 - val_accuracy: 0.8094\n",
            "Epoch 8/10\n",
            "140/140 [==============================] - 0s 2ms/step - loss: 0.4531 - accuracy: 0.8051 - val_loss: 0.4446 - val_accuracy: 0.8104\n",
            "Epoch 9/10\n",
            "140/140 [==============================] - 0s 2ms/step - loss: 0.4465 - accuracy: 0.8065 - val_loss: 0.4398 - val_accuracy: 0.8104\n",
            "Epoch 10/10\n",
            "140/140 [==============================] - 0s 2ms/step - loss: 0.4413 - accuracy: 0.8096 - val_loss: 0.4360 - val_accuracy: 0.8130\n",
            "50/50 [==============================] - 0s 1ms/step - loss: 0.4064 - accuracy: 0.8281\n",
            "Epoch 1/10\n",
            "140/140 [==============================] - 1s 3ms/step - loss: 0.5547 - accuracy: 0.7692 - val_loss: 0.5141 - val_accuracy: 0.7922\n",
            "Epoch 2/10\n",
            "140/140 [==============================] - 0s 2ms/step - loss: 0.4909 - accuracy: 0.7996 - val_loss: 0.4882 - val_accuracy: 0.7922\n",
            "Epoch 3/10\n",
            "140/140 [==============================] - 0s 2ms/step - loss: 0.4704 - accuracy: 0.7998 - val_loss: 0.4757 - val_accuracy: 0.7922\n",
            "Epoch 4/10\n",
            "140/140 [==============================] - 0s 2ms/step - loss: 0.4600 - accuracy: 0.8025 - val_loss: 0.4673 - val_accuracy: 0.7953\n",
            "Epoch 5/10\n",
            "140/140 [==============================] - 0s 2ms/step - loss: 0.4524 - accuracy: 0.8065 - val_loss: 0.4634 - val_accuracy: 0.7984\n",
            "Epoch 6/10\n",
            "140/140 [==============================] - 0s 2ms/step - loss: 0.4474 - accuracy: 0.8092 - val_loss: 0.4590 - val_accuracy: 0.7990\n",
            "Epoch 7/10\n",
            "140/140 [==============================] - 0s 2ms/step - loss: 0.4418 - accuracy: 0.8076 - val_loss: 0.4542 - val_accuracy: 0.8016\n",
            "Epoch 8/10\n",
            "140/140 [==============================] - 0s 2ms/step - loss: 0.4378 - accuracy: 0.8118 - val_loss: 0.4508 - val_accuracy: 0.8036\n",
            "Epoch 9/10\n",
            "140/140 [==============================] - 0s 2ms/step - loss: 0.4345 - accuracy: 0.8143 - val_loss: 0.4473 - val_accuracy: 0.8052\n",
            "Epoch 10/10\n",
            "140/140 [==============================] - 0s 2ms/step - loss: 0.4309 - accuracy: 0.8141 - val_loss: 0.4468 - val_accuracy: 0.8078\n",
            "50/50 [==============================] - 0s 989us/step - loss: 0.4464 - accuracy: 0.8087\n",
            "Epoch 1/10\n",
            "140/140 [==============================] - 1s 3ms/step - loss: 0.5513 - accuracy: 0.7679 - val_loss: 0.5294 - val_accuracy: 0.7870\n",
            "Epoch 2/10\n",
            "140/140 [==============================] - 0s 2ms/step - loss: 0.4964 - accuracy: 0.7996 - val_loss: 0.5083 - val_accuracy: 0.7870\n",
            "Epoch 3/10\n",
            "140/140 [==============================] - 0s 2ms/step - loss: 0.4815 - accuracy: 0.7996 - val_loss: 0.4955 - val_accuracy: 0.7870\n",
            "Epoch 4/10\n",
            "140/140 [==============================] - 0s 2ms/step - loss: 0.4710 - accuracy: 0.7996 - val_loss: 0.4852 - val_accuracy: 0.7870\n",
            "Epoch 5/10\n",
            "140/140 [==============================] - 0s 2ms/step - loss: 0.4632 - accuracy: 0.7996 - val_loss: 0.4781 - val_accuracy: 0.7875\n",
            "Epoch 6/10\n",
            "140/140 [==============================] - 0s 2ms/step - loss: 0.4571 - accuracy: 0.8016 - val_loss: 0.4721 - val_accuracy: 0.7906\n",
            "Epoch 7/10\n",
            "140/140 [==============================] - 0s 2ms/step - loss: 0.4520 - accuracy: 0.8040 - val_loss: 0.4672 - val_accuracy: 0.7953\n",
            "Epoch 8/10\n",
            "140/140 [==============================] - 0s 2ms/step - loss: 0.4477 - accuracy: 0.8074 - val_loss: 0.4626 - val_accuracy: 0.7995\n",
            "Epoch 9/10\n",
            "140/140 [==============================] - 0s 2ms/step - loss: 0.4433 - accuracy: 0.8105 - val_loss: 0.4594 - val_accuracy: 0.8021\n",
            "Epoch 10/10\n",
            "140/140 [==============================] - 0s 2ms/step - loss: 0.4392 - accuracy: 0.8114 - val_loss: 0.4561 - val_accuracy: 0.8036\n",
            "50/50 [==============================] - 0s 1ms/step - loss: 0.4486 - accuracy: 0.8106\n",
            "Epoch 1/10\n",
            "140/140 [==============================] - 1s 3ms/step - loss: 0.5404 - accuracy: 0.7946 - val_loss: 0.5003 - val_accuracy: 0.7995\n",
            "Epoch 2/10\n",
            "140/140 [==============================] - 0s 2ms/step - loss: 0.4997 - accuracy: 0.7973 - val_loss: 0.4933 - val_accuracy: 0.7995\n",
            "Epoch 3/10\n",
            "140/140 [==============================] - 0s 2ms/step - loss: 0.4921 - accuracy: 0.7973 - val_loss: 0.4870 - val_accuracy: 0.7995\n",
            "Epoch 4/10\n",
            "140/140 [==============================] - 0s 2ms/step - loss: 0.4853 - accuracy: 0.7973 - val_loss: 0.4811 - val_accuracy: 0.7995\n",
            "Epoch 5/10\n",
            "140/140 [==============================] - 0s 2ms/step - loss: 0.4786 - accuracy: 0.7973 - val_loss: 0.4761 - val_accuracy: 0.7995\n",
            "Epoch 6/10\n",
            "140/140 [==============================] - 0s 2ms/step - loss: 0.4732 - accuracy: 0.7973 - val_loss: 0.4714 - val_accuracy: 0.7995\n",
            "Epoch 7/10\n",
            "140/140 [==============================] - 0s 2ms/step - loss: 0.4681 - accuracy: 0.7973 - val_loss: 0.4673 - val_accuracy: 0.7995\n",
            "Epoch 8/10\n",
            "140/140 [==============================] - 0s 2ms/step - loss: 0.4637 - accuracy: 0.7973 - val_loss: 0.4641 - val_accuracy: 0.7995\n",
            "Epoch 9/10\n",
            "140/140 [==============================] - 0s 2ms/step - loss: 0.4602 - accuracy: 0.7973 - val_loss: 0.4613 - val_accuracy: 0.7995\n",
            "Epoch 10/10\n",
            "140/140 [==============================] - 0s 2ms/step - loss: 0.4571 - accuracy: 0.7982 - val_loss: 0.4588 - val_accuracy: 0.8000\n",
            "50/50 [==============================] - 0s 1ms/step - loss: 0.4678 - accuracy: 0.7887\n",
            "Epoch 1/10\n",
            "140/140 [==============================] - 1s 3ms/step - loss: 0.5100 - accuracy: 0.7962 - val_loss: 0.4918 - val_accuracy: 0.7995\n",
            "Epoch 2/10\n",
            "140/140 [==============================] - 0s 2ms/step - loss: 0.4895 - accuracy: 0.7962 - val_loss: 0.4844 - val_accuracy: 0.7995\n",
            "Epoch 3/10\n",
            "140/140 [==============================] - 0s 2ms/step - loss: 0.4814 - accuracy: 0.7962 - val_loss: 0.4782 - val_accuracy: 0.7995\n",
            "Epoch 4/10\n",
            "140/140 [==============================] - 0s 2ms/step - loss: 0.4741 - accuracy: 0.7962 - val_loss: 0.4729 - val_accuracy: 0.7995\n",
            "Epoch 5/10\n",
            "140/140 [==============================] - 0s 2ms/step - loss: 0.4682 - accuracy: 0.7962 - val_loss: 0.4685 - val_accuracy: 0.7995\n",
            "Epoch 6/10\n",
            "140/140 [==============================] - 0s 2ms/step - loss: 0.4635 - accuracy: 0.7964 - val_loss: 0.4650 - val_accuracy: 0.7995\n",
            "Epoch 7/10\n",
            "140/140 [==============================] - 0s 2ms/step - loss: 0.4593 - accuracy: 0.7982 - val_loss: 0.4621 - val_accuracy: 0.8000\n",
            "Epoch 8/10\n",
            "140/140 [==============================] - 0s 2ms/step - loss: 0.4559 - accuracy: 0.7993 - val_loss: 0.4597 - val_accuracy: 0.8021\n",
            "Epoch 9/10\n",
            "140/140 [==============================] - 0s 2ms/step - loss: 0.4530 - accuracy: 0.8027 - val_loss: 0.4575 - val_accuracy: 0.8042\n",
            "Epoch 10/10\n",
            "140/140 [==============================] - 0s 2ms/step - loss: 0.4507 - accuracy: 0.8025 - val_loss: 0.4555 - val_accuracy: 0.8042\n",
            "50/50 [==============================] - 0s 1ms/step - loss: 0.4646 - accuracy: 0.7956\n",
            "Epoch 1/10\n",
            "140/140 [==============================] - 1s 3ms/step - loss: 0.5191 - accuracy: 0.7884 - val_loss: 0.4954 - val_accuracy: 0.7995\n",
            "Epoch 2/10\n",
            "140/140 [==============================] - 0s 2ms/step - loss: 0.5050 - accuracy: 0.7884 - val_loss: 0.4901 - val_accuracy: 0.7995\n",
            "Epoch 3/10\n",
            "140/140 [==============================] - 0s 2ms/step - loss: 0.4974 - accuracy: 0.7884 - val_loss: 0.4828 - val_accuracy: 0.7995\n",
            "Epoch 4/10\n",
            "140/140 [==============================] - 0s 2ms/step - loss: 0.4905 - accuracy: 0.7884 - val_loss: 0.4775 - val_accuracy: 0.7995\n",
            "Epoch 5/10\n",
            "140/140 [==============================] - 0s 2ms/step - loss: 0.4844 - accuracy: 0.7884 - val_loss: 0.4714 - val_accuracy: 0.7995\n",
            "Epoch 6/10\n",
            "140/140 [==============================] - 0s 2ms/step - loss: 0.4790 - accuracy: 0.7884 - val_loss: 0.4674 - val_accuracy: 0.7995\n",
            "Epoch 7/10\n",
            "140/140 [==============================] - 0s 2ms/step - loss: 0.4746 - accuracy: 0.7884 - val_loss: 0.4634 - val_accuracy: 0.7995\n",
            "Epoch 8/10\n",
            "140/140 [==============================] - 0s 2ms/step - loss: 0.4709 - accuracy: 0.7893 - val_loss: 0.4617 - val_accuracy: 0.8010\n",
            "Epoch 9/10\n",
            "140/140 [==============================] - 0s 2ms/step - loss: 0.4675 - accuracy: 0.7888 - val_loss: 0.4583 - val_accuracy: 0.8010\n",
            "Epoch 10/10\n",
            "140/140 [==============================] - 0s 2ms/step - loss: 0.4649 - accuracy: 0.7926 - val_loss: 0.4560 - val_accuracy: 0.8010\n",
            "50/50 [==============================] - 0s 1ms/step - loss: 0.4306 - accuracy: 0.8169\n",
            "Epoch 1/10\n",
            "140/140 [==============================] - 1s 3ms/step - loss: 0.7746 - accuracy: 0.4730 - val_loss: 0.5616 - val_accuracy: 0.7922\n",
            "Epoch 2/10\n",
            "140/140 [==============================] - 0s 2ms/step - loss: 0.5246 - accuracy: 0.7996 - val_loss: 0.5208 - val_accuracy: 0.7922\n",
            "Epoch 3/10\n",
            "140/140 [==============================] - 0s 2ms/step - loss: 0.5079 - accuracy: 0.7996 - val_loss: 0.5148 - val_accuracy: 0.7922\n",
            "Epoch 4/10\n",
            "140/140 [==============================] - 0s 2ms/step - loss: 0.5019 - accuracy: 0.7996 - val_loss: 0.5091 - val_accuracy: 0.7922\n",
            "Epoch 5/10\n",
            "140/140 [==============================] - 0s 2ms/step - loss: 0.4959 - accuracy: 0.7996 - val_loss: 0.5031 - val_accuracy: 0.7922\n",
            "Epoch 6/10\n",
            "140/140 [==============================] - 0s 2ms/step - loss: 0.4901 - accuracy: 0.7996 - val_loss: 0.4973 - val_accuracy: 0.7922\n",
            "Epoch 7/10\n",
            "140/140 [==============================] - 0s 2ms/step - loss: 0.4844 - accuracy: 0.7996 - val_loss: 0.4918 - val_accuracy: 0.7922\n",
            "Epoch 8/10\n",
            "140/140 [==============================] - 0s 2ms/step - loss: 0.4788 - accuracy: 0.7996 - val_loss: 0.4865 - val_accuracy: 0.7922\n",
            "Epoch 9/10\n",
            "140/140 [==============================] - 0s 2ms/step - loss: 0.4737 - accuracy: 0.7996 - val_loss: 0.4817 - val_accuracy: 0.7922\n",
            "Epoch 10/10\n",
            "140/140 [==============================] - 0s 2ms/step - loss: 0.4690 - accuracy: 0.7996 - val_loss: 0.4777 - val_accuracy: 0.7922\n",
            "50/50 [==============================] - 0s 1ms/step - loss: 0.4800 - accuracy: 0.7906\n",
            "Epoch 1/10\n",
            "140/140 [==============================] - 1s 3ms/step - loss: 0.5089 - accuracy: 0.7996 - val_loss: 0.5146 - val_accuracy: 0.7870\n",
            "Epoch 2/10\n",
            "140/140 [==============================] - 0s 2ms/step - loss: 0.4927 - accuracy: 0.7996 - val_loss: 0.5041 - val_accuracy: 0.7870\n",
            "Epoch 3/10\n",
            "140/140 [==============================] - 0s 2ms/step - loss: 0.4841 - accuracy: 0.7996 - val_loss: 0.4968 - val_accuracy: 0.7870\n",
            "Epoch 4/10\n",
            "140/140 [==============================] - 0s 2ms/step - loss: 0.4762 - accuracy: 0.7996 - val_loss: 0.4893 - val_accuracy: 0.7870\n",
            "Epoch 5/10\n",
            "140/140 [==============================] - 0s 2ms/step - loss: 0.4698 - accuracy: 0.7996 - val_loss: 0.4826 - val_accuracy: 0.7870\n",
            "Epoch 6/10\n",
            "140/140 [==============================] - 0s 2ms/step - loss: 0.4641 - accuracy: 0.7996 - val_loss: 0.4773 - val_accuracy: 0.7870\n",
            "Epoch 7/10\n",
            "140/140 [==============================] - 0s 2ms/step - loss: 0.4591 - accuracy: 0.7996 - val_loss: 0.4753 - val_accuracy: 0.7870\n",
            "Epoch 8/10\n",
            "140/140 [==============================] - 0s 2ms/step - loss: 0.4559 - accuracy: 0.7996 - val_loss: 0.4710 - val_accuracy: 0.7875\n",
            "Epoch 9/10\n",
            "140/140 [==============================] - 0s 2ms/step - loss: 0.4528 - accuracy: 0.8016 - val_loss: 0.4669 - val_accuracy: 0.7885\n",
            "Epoch 10/10\n",
            "140/140 [==============================] - 0s 2ms/step - loss: 0.4499 - accuracy: 0.8022 - val_loss: 0.4649 - val_accuracy: 0.7922\n",
            "50/50 [==============================] - 0s 1ms/step - loss: 0.4560 - accuracy: 0.7981\n",
            "Epoch 1/10\n",
            "140/140 [==============================] - 1s 3ms/step - loss: 0.7343 - accuracy: 0.5152 - val_loss: 0.5381 - val_accuracy: 0.7995\n",
            "Epoch 2/10\n",
            "140/140 [==============================] - 0s 2ms/step - loss: 0.5170 - accuracy: 0.7973 - val_loss: 0.5031 - val_accuracy: 0.7995\n",
            "Epoch 3/10\n",
            "140/140 [==============================] - 0s 2ms/step - loss: 0.5038 - accuracy: 0.7973 - val_loss: 0.4970 - val_accuracy: 0.7995\n",
            "Epoch 4/10\n",
            "140/140 [==============================] - 0s 2ms/step - loss: 0.4974 - accuracy: 0.7973 - val_loss: 0.4912 - val_accuracy: 0.7995\n",
            "Epoch 5/10\n",
            "140/140 [==============================] - 0s 2ms/step - loss: 0.4909 - accuracy: 0.7973 - val_loss: 0.4857 - val_accuracy: 0.7995\n",
            "Epoch 6/10\n",
            "140/140 [==============================] - 0s 2ms/step - loss: 0.4848 - accuracy: 0.7973 - val_loss: 0.4806 - val_accuracy: 0.7995\n",
            "Epoch 7/10\n",
            "140/140 [==============================] - 0s 2ms/step - loss: 0.4790 - accuracy: 0.7973 - val_loss: 0.4759 - val_accuracy: 0.7995\n",
            "Epoch 8/10\n",
            "140/140 [==============================] - 0s 2ms/step - loss: 0.4736 - accuracy: 0.7973 - val_loss: 0.4718 - val_accuracy: 0.7995\n",
            "Epoch 9/10\n",
            "140/140 [==============================] - 0s 2ms/step - loss: 0.4690 - accuracy: 0.7973 - val_loss: 0.4681 - val_accuracy: 0.7995\n",
            "Epoch 10/10\n",
            "140/140 [==============================] - 0s 2ms/step - loss: 0.4647 - accuracy: 0.7973 - val_loss: 0.4652 - val_accuracy: 0.7995\n",
            "50/50 [==============================] - 0s 1ms/step - loss: 0.4738 - accuracy: 0.7881\n",
            "Epoch 1/10\n",
            "140/140 [==============================] - 1s 3ms/step - loss: 0.5208 - accuracy: 0.7962 - val_loss: 0.4959 - val_accuracy: 0.7995\n",
            "Epoch 2/10\n",
            "140/140 [==============================] - 0s 3ms/step - loss: 0.4946 - accuracy: 0.7962 - val_loss: 0.4874 - val_accuracy: 0.7995\n",
            "Epoch 3/10\n",
            "140/140 [==============================] - 0s 2ms/step - loss: 0.4851 - accuracy: 0.7962 - val_loss: 0.4803 - val_accuracy: 0.7995\n",
            "Epoch 4/10\n",
            "140/140 [==============================] - 0s 2ms/step - loss: 0.4771 - accuracy: 0.7962 - val_loss: 0.4749 - val_accuracy: 0.7995\n",
            "Epoch 5/10\n",
            "140/140 [==============================] - 0s 3ms/step - loss: 0.4705 - accuracy: 0.7962 - val_loss: 0.4693 - val_accuracy: 0.7995\n",
            "Epoch 6/10\n",
            "140/140 [==============================] - 0s 2ms/step - loss: 0.4652 - accuracy: 0.7962 - val_loss: 0.4650 - val_accuracy: 0.7995\n",
            "Epoch 7/10\n",
            "140/140 [==============================] - 0s 2ms/step - loss: 0.4601 - accuracy: 0.7967 - val_loss: 0.4618 - val_accuracy: 0.7995\n",
            "Epoch 8/10\n",
            "140/140 [==============================] - 0s 2ms/step - loss: 0.4564 - accuracy: 0.7975 - val_loss: 0.4606 - val_accuracy: 0.8042\n",
            "Epoch 9/10\n",
            "140/140 [==============================] - 0s 2ms/step - loss: 0.4533 - accuracy: 0.8011 - val_loss: 0.4565 - val_accuracy: 0.8021\n",
            "Epoch 10/10\n",
            "140/140 [==============================] - 0s 2ms/step - loss: 0.4504 - accuracy: 0.8022 - val_loss: 0.4543 - val_accuracy: 0.8047\n",
            "50/50 [==============================] - 0s 2ms/step - loss: 0.4631 - accuracy: 0.7969\n",
            "Epoch 1/10\n",
            "140/140 [==============================] - 1s 3ms/step - loss: 0.5671 - accuracy: 0.7368 - val_loss: 0.4981 - val_accuracy: 0.7995\n",
            "Epoch 2/10\n",
            "140/140 [==============================] - 0s 2ms/step - loss: 0.5071 - accuracy: 0.7884 - val_loss: 0.4904 - val_accuracy: 0.7995\n",
            "Epoch 3/10\n",
            "140/140 [==============================] - 0s 2ms/step - loss: 0.5002 - accuracy: 0.7884 - val_loss: 0.4846 - val_accuracy: 0.7995\n",
            "Epoch 4/10\n",
            "140/140 [==============================] - 0s 2ms/step - loss: 0.4936 - accuracy: 0.7884 - val_loss: 0.4790 - val_accuracy: 0.7995\n",
            "Epoch 5/10\n",
            "140/140 [==============================] - 0s 2ms/step - loss: 0.4878 - accuracy: 0.7884 - val_loss: 0.4741 - val_accuracy: 0.7995\n",
            "Epoch 6/10\n",
            "140/140 [==============================] - 0s 2ms/step - loss: 0.4825 - accuracy: 0.7884 - val_loss: 0.4698 - val_accuracy: 0.7995\n",
            "Epoch 7/10\n",
            "140/140 [==============================] - 0s 2ms/step - loss: 0.4777 - accuracy: 0.7884 - val_loss: 0.4660 - val_accuracy: 0.7995\n",
            "Epoch 8/10\n",
            "140/140 [==============================] - 0s 2ms/step - loss: 0.4735 - accuracy: 0.7882 - val_loss: 0.4631 - val_accuracy: 0.7995\n",
            "Epoch 9/10\n",
            "140/140 [==============================] - 0s 2ms/step - loss: 0.4703 - accuracy: 0.7897 - val_loss: 0.4604 - val_accuracy: 0.8005\n",
            "Epoch 10/10\n",
            "140/140 [==============================] - 0s 2ms/step - loss: 0.4671 - accuracy: 0.7915 - val_loss: 0.4577 - val_accuracy: 0.8010\n",
            "50/50 [==============================] - 0s 1ms/step - loss: 0.4325 - accuracy: 0.8150\n",
            "Epoch 1/10\n",
            "140/140 [==============================] - 1s 3ms/step - loss: 0.6430 - accuracy: 0.6299 - val_loss: 0.5284 - val_accuracy: 0.7922\n",
            "Epoch 2/10\n",
            "140/140 [==============================] - 0s 2ms/step - loss: 0.5106 - accuracy: 0.7996 - val_loss: 0.5153 - val_accuracy: 0.7922\n",
            "Epoch 3/10\n",
            "140/140 [==============================] - 0s 2ms/step - loss: 0.5020 - accuracy: 0.7996 - val_loss: 0.5081 - val_accuracy: 0.7922\n",
            "Epoch 4/10\n",
            "140/140 [==============================] - 0s 2ms/step - loss: 0.4948 - accuracy: 0.7996 - val_loss: 0.5013 - val_accuracy: 0.7922\n",
            "Epoch 5/10\n",
            "140/140 [==============================] - 0s 3ms/step - loss: 0.4879 - accuracy: 0.7996 - val_loss: 0.4950 - val_accuracy: 0.7922\n",
            "Epoch 6/10\n",
            "140/140 [==============================] - 0s 2ms/step - loss: 0.4814 - accuracy: 0.7996 - val_loss: 0.4892 - val_accuracy: 0.7922\n",
            "Epoch 7/10\n",
            "140/140 [==============================] - 0s 2ms/step - loss: 0.4757 - accuracy: 0.7996 - val_loss: 0.4831 - val_accuracy: 0.7922\n",
            "Epoch 8/10\n",
            "140/140 [==============================] - 0s 2ms/step - loss: 0.4703 - accuracy: 0.7996 - val_loss: 0.4784 - val_accuracy: 0.7922\n",
            "Epoch 9/10\n",
            "140/140 [==============================] - 0s 2ms/step - loss: 0.4658 - accuracy: 0.7998 - val_loss: 0.4751 - val_accuracy: 0.7922\n",
            "Epoch 10/10\n",
            "140/140 [==============================] - 0s 2ms/step - loss: 0.4613 - accuracy: 0.7998 - val_loss: 0.4714 - val_accuracy: 0.7922\n",
            "50/50 [==============================] - 0s 1ms/step - loss: 0.4730 - accuracy: 0.7906\n",
            "Epoch 1/10\n",
            "140/140 [==============================] - 1s 3ms/step - loss: 0.6789 - accuracy: 0.5777 - val_loss: 0.5426 - val_accuracy: 0.7870\n",
            "Epoch 2/10\n",
            "140/140 [==============================] - 0s 2ms/step - loss: 0.5118 - accuracy: 0.7996 - val_loss: 0.5211 - val_accuracy: 0.7870\n",
            "Epoch 3/10\n",
            "140/140 [==============================] - 0s 2ms/step - loss: 0.5016 - accuracy: 0.7996 - val_loss: 0.5169 - val_accuracy: 0.7870\n",
            "Epoch 4/10\n",
            "140/140 [==============================] - 0s 2ms/step - loss: 0.4969 - accuracy: 0.7996 - val_loss: 0.5115 - val_accuracy: 0.7870\n",
            "Epoch 5/10\n",
            "140/140 [==============================] - 0s 2ms/step - loss: 0.4916 - accuracy: 0.7996 - val_loss: 0.5059 - val_accuracy: 0.7870\n",
            "Epoch 6/10\n",
            "140/140 [==============================] - 0s 2ms/step - loss: 0.4862 - accuracy: 0.7996 - val_loss: 0.5006 - val_accuracy: 0.7870\n",
            "Epoch 7/10\n",
            "140/140 [==============================] - 0s 2ms/step - loss: 0.4811 - accuracy: 0.7996 - val_loss: 0.4950 - val_accuracy: 0.7870\n",
            "Epoch 8/10\n",
            "140/140 [==============================] - 0s 2ms/step - loss: 0.4758 - accuracy: 0.7996 - val_loss: 0.4905 - val_accuracy: 0.7870\n",
            "Epoch 9/10\n",
            "140/140 [==============================] - 0s 2ms/step - loss: 0.4713 - accuracy: 0.7996 - val_loss: 0.4865 - val_accuracy: 0.7870\n",
            "Epoch 10/10\n",
            "140/140 [==============================] - 0s 2ms/step - loss: 0.4668 - accuracy: 0.7996 - val_loss: 0.4807 - val_accuracy: 0.7870\n",
            "50/50 [==============================] - 0s 1ms/step - loss: 0.4706 - accuracy: 0.7969\n",
            "Epoch 1/10\n",
            "175/175 [==============================] - 1s 3ms/step - loss: 0.5314 - accuracy: 0.7959 - val_loss: 0.4960 - val_accuracy: 0.7958\n",
            "Epoch 2/10\n",
            "175/175 [==============================] - 0s 2ms/step - loss: 0.4789 - accuracy: 0.7964 - val_loss: 0.4728 - val_accuracy: 0.7967\n",
            "Epoch 3/10\n",
            "175/175 [==============================] - 0s 3ms/step - loss: 0.4595 - accuracy: 0.8011 - val_loss: 0.4636 - val_accuracy: 0.8017\n",
            "Epoch 4/10\n",
            "175/175 [==============================] - 0s 2ms/step - loss: 0.4504 - accuracy: 0.8064 - val_loss: 0.4579 - val_accuracy: 0.8042\n",
            "Epoch 5/10\n",
            "175/175 [==============================] - 0s 2ms/step - loss: 0.4442 - accuracy: 0.8107 - val_loss: 0.4538 - val_accuracy: 0.8033\n",
            "Epoch 6/10\n",
            "175/175 [==============================] - 0s 2ms/step - loss: 0.4393 - accuracy: 0.8129 - val_loss: 0.4507 - val_accuracy: 0.8042\n",
            "Epoch 7/10\n",
            "175/175 [==============================] - 0s 2ms/step - loss: 0.4354 - accuracy: 0.8150 - val_loss: 0.4486 - val_accuracy: 0.8079\n",
            "Epoch 8/10\n",
            "175/175 [==============================] - 0s 2ms/step - loss: 0.4330 - accuracy: 0.8159 - val_loss: 0.4480 - val_accuracy: 0.8079\n",
            "Epoch 9/10\n",
            "175/175 [==============================] - 0s 2ms/step - loss: 0.4305 - accuracy: 0.8157 - val_loss: 0.4466 - val_accuracy: 0.8092\n",
            "Epoch 10/10\n",
            "175/175 [==============================] - 0s 2ms/step - loss: 0.4289 - accuracy: 0.8163 - val_loss: 0.4439 - val_accuracy: 0.8071\n"
          ]
        },
        {
          "output_type": "execute_result",
          "data": {
            "text/plain": [
              "GridSearchCV(cv=5, error_score=nan,\n",
              "             estimator=<keras.wrappers.scikit_learn.KerasClassifier object at 0x7f6142285dd0>,\n",
              "             iid='deprecated', n_jobs=None,\n",
              "             param_grid={'activation': ['relu', 'sigmoid'],\n",
              "                         'kernel': [['he_uniform', 'he_normal'],\n",
              "                                    ['glorot_uniform', 'glorot_normal']],\n",
              "                         'layer': [[20], [40, 20], [40, 20, 10]]},\n",
              "             pre_dispatch='2*n_jobs', refit=True, return_train_score=False,\n",
              "             scoring=None, verbose=0)"
            ]
          },
          "metadata": {},
          "execution_count": 29
        }
      ]
    },
    {
      "cell_type": "code",
      "metadata": {
        "id": "d8f49757-4c7a-4b35-bcba-a827c352eb02",
        "colab": {
          "base_uri": "https://localhost:8080/"
        },
        "outputId": "05d9738b-1b95-4c60-d238-4df75a854fc0"
      },
      "source": [
        "print(grid.best_params_, grid.best_score_)"
      ],
      "id": "d8f49757-4c7a-4b35-bcba-a827c352eb02",
      "execution_count": 30,
      "outputs": [
        {
          "output_type": "stream",
          "name": "stdout",
          "text": [
            "{'activation': 'relu', 'kernel': ['glorot_uniform', 'glorot_normal'], 'layer': [20]} 0.8123749971389771\n"
          ]
        }
      ]
    },
    {
      "cell_type": "markdown",
      "metadata": {
        "id": "be4ec82b-2a34-48aa-9301-918db617ab1a"
      },
      "source": [
        "### HyperParameter Tunnig using KerasTunner:"
      ],
      "id": "be4ec82b-2a34-48aa-9301-918db617ab1a"
    },
    {
      "cell_type": "code",
      "metadata": {
        "id": "ed49839f-3e3a-4a51-8695-dc751dc2bf72"
      },
      "source": [
        "from tensorflow import keras\n",
        "from keras import Sequential\n",
        "from keras.layers import Dense, Activation\n",
        "from kerastuner import RandomSearch"
      ],
      "id": "ed49839f-3e3a-4a51-8695-dc751dc2bf72",
      "execution_count": 31,
      "outputs": []
    },
    {
      "cell_type": "code",
      "metadata": {
        "id": "5cc6d254-f1d4-4166-bf29-7084520fe0c4"
      },
      "source": [
        "def create_model(hp):\n",
        "    model = Sequential()\n",
        "    for i in range(hp.Int(\"num_layer\", 2, 20)):\n",
        "        model.add(Dense(units= hp.Int(\"units_\" + str(i), min_value=32, max_value=512, step=32),\n",
        "                        activation='ELU', kernel_initializer='he_uniform', \n",
        "                        input_dim=X_train.shape[1]))\n",
        "    model.add(Dense(units=1, activation=\"sigmoid\"))\n",
        "    model.compile(optimizer=keras.optimizers.Adam(hp.Choice('learning_rate', [1e-2, 1e-3, 1e-4])),\n",
        "                  loss='binary_crossentropy', metrics=['accuracy'])\n",
        "    return model"
      ],
      "id": "5cc6d254-f1d4-4166-bf29-7084520fe0c4",
      "execution_count": 32,
      "outputs": []
    },
    {
      "cell_type": "code",
      "metadata": {
        "id": "5e02656a-4aea-447d-bc43-34b330327e83"
      },
      "source": [
        "tuner = RandomSearch(hypermodel=create_model,\n",
        "                      objective=\"val_accuracy\",\n",
        "                      max_trials=5,\n",
        "                      executions_per_trial=2,\n",
        "                      directory='Log',\n",
        "                      project_name='HyperTuning')"
      ],
      "id": "5e02656a-4aea-447d-bc43-34b330327e83",
      "execution_count": 33,
      "outputs": []
    },
    {
      "cell_type": "code",
      "metadata": {
        "id": "dca58625-3dff-4869-a05f-2db0698bf521",
        "colab": {
          "base_uri": "https://localhost:8080/"
        },
        "outputId": "beda261b-b521-47ec-9f31-f56620af696c"
      },
      "source": [
        "tuner.search(X_train, y_train, epochs=10, validation_split=0.3)"
      ],
      "id": "dca58625-3dff-4869-a05f-2db0698bf521",
      "execution_count": 34,
      "outputs": [
        {
          "output_type": "stream",
          "name": "stdout",
          "text": [
            "Trial 5 Complete [00h 00m 34s]\n",
            "val_accuracy: 0.8449999988079071\n",
            "\n",
            "Best val_accuracy So Far: 0.8518750071525574\n",
            "Total elapsed time: 00h 04m 41s\n",
            "INFO:tensorflow:Oracle triggered exit\n"
          ]
        }
      ]
    },
    {
      "cell_type": "code",
      "metadata": {
        "id": "b0fd60e6-016c-43b7-b8e0-f5af9f50a008",
        "colab": {
          "base_uri": "https://localhost:8080/"
        },
        "outputId": "eaf274c1-b184-4709-9364-329880c62ece"
      },
      "source": [
        "model = tuner.get_best_models(num_models=2)[0]"
      ],
      "id": "b0fd60e6-016c-43b7-b8e0-f5af9f50a008",
      "execution_count": 35,
      "outputs": [
        {
          "output_type": "stream",
          "name": "stdout",
          "text": [
            "WARNING:tensorflow:Unresolved object in checkpoint: (root).optimizer.iter\n",
            "WARNING:tensorflow:Unresolved object in checkpoint: (root).optimizer.beta_1\n",
            "WARNING:tensorflow:Unresolved object in checkpoint: (root).optimizer.beta_2\n",
            "WARNING:tensorflow:Unresolved object in checkpoint: (root).optimizer.decay\n",
            "WARNING:tensorflow:Unresolved object in checkpoint: (root).optimizer.learning_rate\n",
            "WARNING:tensorflow:A checkpoint was restored (e.g. tf.train.Checkpoint.restore or tf.keras.Model.load_weights) but not all checkpointed values were used. See above for specific issues. Use expect_partial() on the load status object, e.g. tf.train.Checkpoint.restore(...).expect_partial(), to silence these warnings, or use assert_consumed() to make the check explicit. See https://www.tensorflow.org/guide/checkpoint#loading_mechanics for details.\n"
          ]
        }
      ]
    },
    {
      "cell_type": "code",
      "metadata": {
        "id": "798b35ab-d485-4739-b624-c22bdaa1f63d",
        "colab": {
          "base_uri": "https://localhost:8080/"
        },
        "outputId": "df18e0bf-1a14-4797-844b-04bc4c3cacfd"
      },
      "source": [
        "model.summary()"
      ],
      "id": "798b35ab-d485-4739-b624-c22bdaa1f63d",
      "execution_count": 36,
      "outputs": [
        {
          "output_type": "stream",
          "name": "stdout",
          "text": [
            "Model: \"sequential\"\n",
            "_________________________________________________________________\n",
            "Layer (type)                 Output Shape              Param #   \n",
            "=================================================================\n",
            "dense (Dense)                (None, 192)               2112      \n",
            "_________________________________________________________________\n",
            "dense_1 (Dense)              (None, 352)               67936     \n",
            "_________________________________________________________________\n",
            "dense_2 (Dense)              (None, 160)               56480     \n",
            "_________________________________________________________________\n",
            "dense_3 (Dense)              (None, 256)               41216     \n",
            "_________________________________________________________________\n",
            "dense_4 (Dense)              (None, 64)                16448     \n",
            "_________________________________________________________________\n",
            "dense_5 (Dense)              (None, 288)               18720     \n",
            "_________________________________________________________________\n",
            "dense_6 (Dense)              (None, 320)               92480     \n",
            "_________________________________________________________________\n",
            "dense_7 (Dense)              (None, 160)               51360     \n",
            "_________________________________________________________________\n",
            "dense_8 (Dense)              (None, 448)               72128     \n",
            "_________________________________________________________________\n",
            "dense_9 (Dense)              (None, 416)               186784    \n",
            "_________________________________________________________________\n",
            "dense_10 (Dense)             (None, 512)               213504    \n",
            "_________________________________________________________________\n",
            "dense_11 (Dense)             (None, 32)                16416     \n",
            "_________________________________________________________________\n",
            "dense_12 (Dense)             (None, 1)                 33        \n",
            "=================================================================\n",
            "Total params: 835,617\n",
            "Trainable params: 835,617\n",
            "Non-trainable params: 0\n",
            "_________________________________________________________________\n"
          ]
        }
      ]
    },
    {
      "cell_type": "code",
      "metadata": {
        "id": "d23a76cd-32c0-4984-a98f-94e97dea29df",
        "colab": {
          "base_uri": "https://localhost:8080/"
        },
        "outputId": "f6dfc535-847f-414c-d3c1-3e7a84e56b06"
      },
      "source": [
        "model.fit(X_train, y_train, epochs=10, validation_split=0.3, validation_data=(X_test, y_test))"
      ],
      "id": "d23a76cd-32c0-4984-a98f-94e97dea29df",
      "execution_count": 37,
      "outputs": [
        {
          "output_type": "stream",
          "name": "stdout",
          "text": [
            "Epoch 1/10\n",
            "175/175 [==============================] - 4s 18ms/step - loss: 0.3429 - accuracy: 0.8561 - val_loss: 0.3849 - val_accuracy: 0.8500\n",
            "Epoch 2/10\n",
            "175/175 [==============================] - 3s 17ms/step - loss: 0.3311 - accuracy: 0.8611 - val_loss: 0.4076 - val_accuracy: 0.8363\n",
            "Epoch 3/10\n",
            "175/175 [==============================] - 3s 17ms/step - loss: 0.3270 - accuracy: 0.8629 - val_loss: 0.3952 - val_accuracy: 0.8383\n",
            "Epoch 4/10\n",
            "175/175 [==============================] - 3s 16ms/step - loss: 0.3273 - accuracy: 0.8625 - val_loss: 0.3883 - val_accuracy: 0.8450\n",
            "Epoch 5/10\n",
            "175/175 [==============================] - 3s 16ms/step - loss: 0.3189 - accuracy: 0.8645 - val_loss: 0.4073 - val_accuracy: 0.8358\n",
            "Epoch 6/10\n",
            "175/175 [==============================] - 3s 16ms/step - loss: 0.3199 - accuracy: 0.8625 - val_loss: 0.4033 - val_accuracy: 0.8367\n",
            "Epoch 7/10\n",
            "175/175 [==============================] - 3s 17ms/step - loss: 0.3131 - accuracy: 0.8632 - val_loss: 0.3887 - val_accuracy: 0.8433\n",
            "Epoch 8/10\n",
            "175/175 [==============================] - 3s 17ms/step - loss: 0.3088 - accuracy: 0.8671 - val_loss: 0.4184 - val_accuracy: 0.8225\n",
            "Epoch 9/10\n",
            "175/175 [==============================] - 3s 16ms/step - loss: 0.3006 - accuracy: 0.8718 - val_loss: 0.4168 - val_accuracy: 0.8429\n",
            "Epoch 10/10\n",
            "175/175 [==============================] - 3s 16ms/step - loss: 0.3054 - accuracy: 0.8725 - val_loss: 0.3970 - val_accuracy: 0.8508\n"
          ]
        },
        {
          "output_type": "execute_result",
          "data": {
            "text/plain": [
              "<keras.callbacks.History at 0x7f613d84ea10>"
            ]
          },
          "metadata": {},
          "execution_count": 37
        }
      ]
    },
    {
      "cell_type": "markdown",
      "metadata": {
        "id": "370faaa1-c25d-4aad-9e8b-b06363133534"
      },
      "source": [
        "### Sample Code from the documentation"
      ],
      "id": "370faaa1-c25d-4aad-9e8b-b06363133534"
    },
    {
      "cell_type": "code",
      "metadata": {
        "id": "7cbec061-9c52-483b-98b8-624c37e1d439",
        "colab": {
          "base_uri": "https://localhost:8080/"
        },
        "outputId": "655c42a0-cb30-49f7-cf54-5dab140cdf5a"
      },
      "source": [
        "from tensorflow import keras\n",
        "import numpy as np\n",
        "\n",
        "(x, y), (x_test, y_test) = keras.datasets.mnist.load_data()\n",
        "\n",
        "x_train = x[:-10000]\n",
        "x_val = x[-10000:]\n",
        "y_train = y[:-10000]\n",
        "y_val = y[-10000:]\n",
        "\n",
        "x_train = np.expand_dims(x_train, -1).astype(\"float32\") / 255.0\n",
        "x_val = np.expand_dims(x_val, -1).astype(\"float32\") / 255.0\n",
        "x_test = np.expand_dims(x_test, -1).astype(\"float32\") / 255.0\n",
        "\n",
        "num_classes = 10\n",
        "y_train = keras.utils.to_categorical(y_train, num_classes)\n",
        "y_val = keras.utils.to_categorical(y_val, num_classes)\n",
        "y_test = keras.utils.to_categorical(y_test, num_classes)"
      ],
      "id": "7cbec061-9c52-483b-98b8-624c37e1d439",
      "execution_count": 38,
      "outputs": [
        {
          "output_type": "stream",
          "name": "stdout",
          "text": [
            "Downloading data from https://storage.googleapis.com/tensorflow/tf-keras-datasets/mnist.npz\n",
            "11493376/11490434 [==============================] - 0s 0us/step\n",
            "11501568/11490434 [==============================] - 0s 0us/step\n"
          ]
        }
      ]
    },
    {
      "cell_type": "code",
      "metadata": {
        "id": "ad879e5a-3a28-41b0-b3f1-66051504b0a7"
      },
      "source": [
        "from tensorflow.keras import layers\n",
        "from keras_tuner import RandomSearch\n",
        "\n",
        "\n",
        "def build_model(hp):\n",
        "    model = keras.Sequential()\n",
        "    model.add(layers.Flatten())\n",
        "    model.add(\n",
        "        layers.Dense(\n",
        "            units=hp.Int(\"units\", min_value=32, max_value=512, step=32),\n",
        "            activation=\"relu\",\n",
        "        )\n",
        "    )\n",
        "    model.add(layers.Dense(10, activation=\"softmax\"))\n",
        "    model.compile(\n",
        "        optimizer=keras.optimizers.Adam(\n",
        "            hp.Choice(\"learning_rate\", values=[1e-2, 1e-3, 1e-4])\n",
        "        ),\n",
        "        loss=\"categorical_crossentropy\",\n",
        "        metrics=[\"accuracy\"],\n",
        "    )\n",
        "    return model"
      ],
      "id": "ad879e5a-3a28-41b0-b3f1-66051504b0a7",
      "execution_count": 39,
      "outputs": []
    },
    {
      "cell_type": "code",
      "metadata": {
        "id": "efb8c519-5e1d-435e-a720-83c94797b042"
      },
      "source": [
        "tuner = RandomSearch(\n",
        "    build_model,\n",
        "    objective=\"val_accuracy\",\n",
        "    max_trials=3,\n",
        "    executions_per_trial=2,\n",
        "    overwrite=True,\n",
        "    directory=\"my_dir\",\n",
        "    project_name=\"helloworld\",\n",
        ")"
      ],
      "id": "efb8c519-5e1d-435e-a720-83c94797b042",
      "execution_count": 40,
      "outputs": []
    },
    {
      "cell_type": "code",
      "metadata": {
        "id": "f21159a3-5939-44d3-abb0-b1710eb0e892",
        "colab": {
          "base_uri": "https://localhost:8080/"
        },
        "outputId": "d88c470b-9f17-4637-9b34-88a60377ede3"
      },
      "source": [
        "tuner.search_space_summary()"
      ],
      "id": "f21159a3-5939-44d3-abb0-b1710eb0e892",
      "execution_count": 41,
      "outputs": [
        {
          "output_type": "stream",
          "name": "stdout",
          "text": [
            "Search space summary\n",
            "Default search space size: 2\n",
            "units (Int)\n",
            "{'default': None, 'conditions': [], 'min_value': 32, 'max_value': 512, 'step': 32, 'sampling': None}\n",
            "learning_rate (Choice)\n",
            "{'default': 0.01, 'conditions': [], 'values': [0.01, 0.001, 0.0001], 'ordered': True}\n"
          ]
        }
      ]
    },
    {
      "cell_type": "code",
      "metadata": {
        "id": "902ff586-fbe5-4c7f-8c6e-9acfdb13f4b9",
        "colab": {
          "base_uri": "https://localhost:8080/"
        },
        "outputId": "54e8c91a-d032-44c3-fb08-e40ed84e90ed"
      },
      "source": [
        "tuner.search(x_train, y_train, epochs=2, validation_data=(x_val, y_val))"
      ],
      "id": "902ff586-fbe5-4c7f-8c6e-9acfdb13f4b9",
      "execution_count": 42,
      "outputs": [
        {
          "output_type": "stream",
          "name": "stdout",
          "text": [
            "Trial 3 Complete [00h 00m 21s]\n",
            "val_accuracy: 0.9649499952793121\n",
            "\n",
            "Best val_accuracy So Far: 0.9686999917030334\n",
            "Total elapsed time: 00h 01m 24s\n",
            "INFO:tensorflow:Oracle triggered exit\n"
          ]
        }
      ]
    },
    {
      "cell_type": "code",
      "metadata": {
        "id": "4521b27e-e1e9-416a-b757-79013e1b4a5f",
        "colab": {
          "base_uri": "https://localhost:8080/"
        },
        "outputId": "113e70c8-f504-45b6-9dc7-cf9184b0a2d2"
      },
      "source": [
        "tuner.results_summary()"
      ],
      "id": "4521b27e-e1e9-416a-b757-79013e1b4a5f",
      "execution_count": 43,
      "outputs": [
        {
          "output_type": "stream",
          "name": "stdout",
          "text": [
            "Results summary\n",
            "Results in my_dir/helloworld\n",
            "Showing 10 best trials\n",
            "Objective(name='val_accuracy', direction='max')\n",
            "Trial summary\n",
            "Hyperparameters:\n",
            "units: 128\n",
            "learning_rate: 0.001\n",
            "Score: 0.9686999917030334\n",
            "Trial summary\n",
            "Hyperparameters:\n",
            "units: 96\n",
            "learning_rate: 0.001\n",
            "Score: 0.9649499952793121\n",
            "Trial summary\n",
            "Hyperparameters:\n",
            "units: 256\n",
            "learning_rate: 0.01\n",
            "Score: 0.9581999778747559\n"
          ]
        }
      ]
    },
    {
      "cell_type": "code",
      "metadata": {
        "id": "fW_svnLd05i0"
      },
      "source": [
        ""
      ],
      "id": "fW_svnLd05i0",
      "execution_count": null,
      "outputs": []
    }
  ]
}