{
  "nbformat": 4,
  "nbformat_minor": 0,
  "metadata": {
    "colab": {
      "name": "CNN.ipynb",
      "provenance": []
    },
    "kernelspec": {
      "name": "python3",
      "display_name": "Python 3"
    },
    "language_info": {
      "name": "python"
    },
    "accelerator": "GPU"
  },
  "cells": [
    {
      "cell_type": "markdown",
      "metadata": {
        "id": "xXzzJPBNHpPT"
      },
      "source": [
        "### Imporitng Libraries:"
      ]
    },
    {
      "cell_type": "code",
      "metadata": {
        "id": "D3etqFHYBzT3"
      },
      "source": [
        "import numpy as np\n",
        "import tensorflow as tf\n",
        "from tensorflow import keras\n",
        "from keras import Sequential\n",
        "from keras.layers import Dense, Conv2D, Flatten\n",
        "from kerastuner import RandomSearch"
      ],
      "execution_count": 13,
      "outputs": []
    },
    {
      "cell_type": "code",
      "metadata": {
        "id": "ljHILWSdHw47"
      },
      "source": [
        "data = keras.datasets.fashion_mnist"
      ],
      "execution_count": 14,
      "outputs": []
    },
    {
      "cell_type": "code",
      "metadata": {
        "id": "bb_YH6gFJTuR"
      },
      "source": [
        "(X_train, y_train), (X_test, y_test) = data.load_data()"
      ],
      "execution_count": 15,
      "outputs": []
    },
    {
      "cell_type": "code",
      "metadata": {
        "colab": {
          "base_uri": "https://localhost:8080/"
        },
        "id": "ot48pHYQJYPD",
        "outputId": "a666892c-0bf4-419e-bc7c-a767d335513d"
      },
      "source": [
        "X_train.shape"
      ],
      "execution_count": 16,
      "outputs": [
        {
          "output_type": "execute_result",
          "data": {
            "text/plain": [
              "(60000, 28, 28)"
            ]
          },
          "metadata": {},
          "execution_count": 16
        }
      ]
    },
    {
      "cell_type": "code",
      "metadata": {
        "id": "fElw1vX1JoBK"
      },
      "source": [
        "X_train = X_train/250.0\n",
        "X_test = X_test/250.0"
      ],
      "execution_count": 17,
      "outputs": []
    },
    {
      "cell_type": "code",
      "metadata": {
        "id": "EXvpvIrGKbn_"
      },
      "source": [
        "# reshape the train & test dataset\n",
        "X_train = X_train.reshape(len(X_train), 28, 28, 1)\n",
        "X_test = X_test.reshape(len(X_test), 28, 28, 1)"
      ],
      "execution_count": 18,
      "outputs": []
    },
    {
      "cell_type": "code",
      "metadata": {
        "id": "KZTJpRrVKeLv"
      },
      "source": [
        "# create a function for Model building\n",
        "def create_model(hp):\n",
        "  model = Sequential(\n",
        "      # Creating 1st Conv2D layer\n",
        "      [Conv2D(filters=hp.Int(\"conv_1_filter\", min_value=16, max_value=128, step=16),\n",
        "              kernel_size=hp.Choice(\"conv_1_kernel\", values=[3,5]),\n",
        "              activation='relu',\n",
        "              kernel_initializer='he_normal',\n",
        "              input_shape=(28, 28, 1)),\n",
        "      \n",
        "      # Creating 2nd Conv2D layer\n",
        "      Conv2D(filters=hp.Int(\"conv_2_filter\", min_value=16, max_value=128, step=16),\n",
        "             kernel_initializer='he_normal',\n",
        "             kernel_size=hp.Choice(\"conv_2_kernel\", values=[3,5]),\n",
        "             activation='relu',\n",
        "             input_shape=(28, 28, 1)),\n",
        "\n",
        "      # adding Flatten layer \n",
        "      Flatten(),\n",
        "\n",
        "      # Creating 1st hidden layer \n",
        "      Dense(units=hp.Int(\"layer_1_units\", min_value=32, max_value=512, step=32),\n",
        "            activation='relu',\n",
        "            kernel_initializer='he_normal'),\n",
        "      \n",
        "      # Creating output layer\n",
        "       Dense(units=10, activation='softmax')\n",
        "       ])\n",
        "  model.compile(optimizer=keras.optimizers.Adam(hp.Choice('learning_rate', values=[1e-2, 1e-3])),\n",
        "              loss='sparse_categorical_crossentropy',\n",
        "              metrics=['accuracy'])\n",
        "  \n",
        "  return model\n"
      ],
      "execution_count": 19,
      "outputs": []
    },
    {
      "cell_type": "code",
      "metadata": {
        "colab": {
          "base_uri": "https://localhost:8080/"
        },
        "id": "WodyN8m1RP4g",
        "outputId": "0a06b3d8-0e74-424f-b8b5-86285a4d55c2"
      },
      "source": [
        "tuner = RandomSearch(create_model, objective='val_accuracy', max_trials=5, directory='log', project_name='CNN')\n",
        "tuner.search(X_train, y_train, epochs=5, validation_split=0.1)"
      ],
      "execution_count": 20,
      "outputs": [
        {
          "output_type": "stream",
          "name": "stdout",
          "text": [
            "INFO:tensorflow:Reloading Oracle from existing project log/CNN/oracle.json\n",
            "INFO:tensorflow:Reloading Tuner from log/CNN/tuner0.json\n",
            "INFO:tensorflow:Oracle triggered exit\n"
          ]
        }
      ]
    },
    {
      "cell_type": "code",
      "metadata": {
        "id": "1Jc3rVreR7Ko"
      },
      "source": [
        "model = tuner.get_best_models(num_models=1)[0]"
      ],
      "execution_count": 21,
      "outputs": []
    },
    {
      "cell_type": "code",
      "metadata": {
        "colab": {
          "base_uri": "https://localhost:8080/"
        },
        "id": "gomXm0ZHXpsD",
        "outputId": "7e8424cd-130b-4782-e4cb-19ee2aa05569"
      },
      "source": [
        "model.summary()"
      ],
      "execution_count": 22,
      "outputs": [
        {
          "output_type": "stream",
          "name": "stdout",
          "text": [
            "Model: \"sequential\"\n",
            "_________________________________________________________________\n",
            "Layer (type)                 Output Shape              Param #   \n",
            "=================================================================\n",
            "conv2d (Conv2D)              (None, 26, 26, 32)        320       \n",
            "_________________________________________________________________\n",
            "conv2d_1 (Conv2D)            (None, 22, 22, 32)        25632     \n",
            "_________________________________________________________________\n",
            "flatten (Flatten)            (None, 15488)             0         \n",
            "_________________________________________________________________\n",
            "dense (Dense)                (None, 256)               3965184   \n",
            "_________________________________________________________________\n",
            "dense_1 (Dense)              (None, 10)                2570      \n",
            "=================================================================\n",
            "Total params: 3,993,706\n",
            "Trainable params: 3,993,706\n",
            "Non-trainable params: 0\n",
            "_________________________________________________________________\n"
          ]
        }
      ]
    },
    {
      "cell_type": "code",
      "metadata": {
        "colab": {
          "base_uri": "https://localhost:8080/"
        },
        "id": "hXoGcQCbX4-j",
        "outputId": "a35a9570-2bd2-48cd-f876-5d0d7a496869"
      },
      "source": [
        "model.fit(X_train, y_train, epochs=10, validation_split=0.3, validation_data=(X_test, y_test))"
      ],
      "execution_count": 23,
      "outputs": [
        {
          "output_type": "stream",
          "name": "stdout",
          "text": [
            "Epoch 1/10\n",
            "1313/1313 [==============================] - 13s 9ms/step - loss: 0.0925 - accuracy: 0.9658 - val_loss: 0.1821 - val_accuracy: 0.9397\n",
            "Epoch 2/10\n",
            "1313/1313 [==============================] - 12s 9ms/step - loss: 0.0559 - accuracy: 0.9797 - val_loss: 0.1944 - val_accuracy: 0.9386\n",
            "Epoch 3/10\n",
            "1313/1313 [==============================] - 12s 9ms/step - loss: 0.0337 - accuracy: 0.9880 - val_loss: 0.2546 - val_accuracy: 0.9351\n",
            "Epoch 4/10\n",
            "1313/1313 [==============================] - 12s 9ms/step - loss: 0.0288 - accuracy: 0.9906 - val_loss: 0.2581 - val_accuracy: 0.9371\n",
            "Epoch 5/10\n",
            "1313/1313 [==============================] - 12s 9ms/step - loss: 0.0204 - accuracy: 0.9928 - val_loss: 0.3090 - val_accuracy: 0.9368\n",
            "Epoch 6/10\n",
            "1313/1313 [==============================] - 12s 9ms/step - loss: 0.0205 - accuracy: 0.9939 - val_loss: 0.3331 - val_accuracy: 0.9304\n",
            "Epoch 7/10\n",
            "1313/1313 [==============================] - 12s 9ms/step - loss: 0.0178 - accuracy: 0.9940 - val_loss: 0.3978 - val_accuracy: 0.9260\n",
            "Epoch 8/10\n",
            "1313/1313 [==============================] - 13s 10ms/step - loss: 0.0145 - accuracy: 0.9953 - val_loss: 0.4052 - val_accuracy: 0.9271\n",
            "Epoch 9/10\n",
            "1313/1313 [==============================] - 12s 9ms/step - loss: 0.0133 - accuracy: 0.9959 - val_loss: 0.4275 - val_accuracy: 0.9303\n",
            "Epoch 10/10\n",
            "1313/1313 [==============================] - 12s 9ms/step - loss: 0.0130 - accuracy: 0.9959 - val_loss: 0.4418 - val_accuracy: 0.9286\n"
          ]
        },
        {
          "output_type": "execute_result",
          "data": {
            "text/plain": [
              "<keras.callbacks.History at 0x7f4686303850>"
            ]
          },
          "metadata": {},
          "execution_count": 23
        }
      ]
    },
    {
      "cell_type": "code",
      "metadata": {
        "id": "J7xlOU8mYIEx"
      },
      "source": [
        ""
      ],
      "execution_count": 23,
      "outputs": []
    }
  ]
}