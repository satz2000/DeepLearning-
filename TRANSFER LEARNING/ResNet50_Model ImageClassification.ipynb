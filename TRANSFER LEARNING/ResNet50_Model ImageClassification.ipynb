{
  "nbformat": 4,
  "nbformat_minor": 0,
  "metadata": {
    "colab": {
      "name": "TransferLearning-CNN.ipynb",
      "provenance": []
    },
    "kernelspec": {
      "name": "python3",
      "display_name": "Python 3"
    },
    "language_info": {
      "name": "python"
    },
    "accelerator": "GPU"
  },
  "cells": [
    {
      "cell_type": "markdown",
      "metadata": {
        "id": "PfQncsqohWM7"
      },
      "source": [
        "### **TransferLearning using Custom Data**"
      ]
    },
    {
      "cell_type": "markdown",
      "metadata": {
        "id": "mJZZbvlZajhl"
      },
      "source": [
        "**Importing All Packages:**"
      ]
    },
    {
      "cell_type": "code",
      "metadata": {
        "id": "yHrM5MLiToPV"
      },
      "source": [
        "# importing neccessary packages\n",
        "import numpy as np\n",
        "import matplotlib.pylab as plt\n",
        "\n",
        "import tensorflow as tf \n",
        "from tensorflow import keras\n",
        "\n",
        "# for splitting dataset into two parts\n",
        "from tensorflow.keras.preprocessing import image_dataset_from_directory\n",
        "\n",
        "# importing pretrained model from tensorflow\n",
        "from tensorflow.keras.applications import ResNet50\n",
        "\n",
        "# import packages from keras for creating NN\n",
        "from tensorflow.keras import layers\n",
        "from keras.layers import Dense, Flatten\n",
        "from keras.models import Sequential\n",
        "from tensorflow.keras.optimizers import Adam "
      ],
      "execution_count": null,
      "outputs": []
    },
    {
      "cell_type": "code",
      "metadata": {
        "id": "i7aRnOFwA9po"
      },
      "source": [
        "# loading dataset\n",
        "from pathlib import Path\n",
        "\n",
        "# url link\n",
        "url = \"https://storage.googleapis.com/download.tensorflow.org/example_images/flower_photos.tgz\"\n",
        "data_dir = tf.keras.utils.get_file(\"flower_photos\", origin=url, untar=True) # untar=True mean extract tgz file format to useable\n",
        "data_dir = Path(data_dir)"
      ],
      "execution_count": null,
      "outputs": []
    },
    {
      "cell_type": "code",
      "metadata": {
        "colab": {
          "base_uri": "https://localhost:8080/"
        },
        "id": "wbDvvL94NozD",
        "outputId": "001dccc5-facd-4f8b-8ab5-c92196ac7871"
      },
      "source": [
        "# print path of our dataset\n",
        "print(data_dir)"
      ],
      "execution_count": null,
      "outputs": [
        {
          "output_type": "stream",
          "name": "stdout",
          "text": [
            "/root/.keras/datasets/flower_photos\n"
          ]
        }
      ]
    },
    {
      "cell_type": "code",
      "metadata": {
        "colab": {
          "base_uri": "https://localhost:8080/"
        },
        "id": "g8Bh-vEtOmRG",
        "outputId": "8c5589f7-138d-463a-a6eb-aef481036277"
      },
      "source": [
        "# customize the size of the image\n",
        "IMAGE_SHAPE = (224, 224)\n",
        "\n",
        "# split dataset into training dataset\n",
        "train_data = image_dataset_from_directory(directory=data_dir,\n",
        "                                          seed=123,\n",
        "                                          validation_split=0.3,\n",
        "                                          subset=\"training\",\n",
        "                                          label_mode='categorical',\n",
        "                                          image_size=IMAGE_SHAPE,\n",
        "                                          batch_size=32,\n",
        "                                          shuffle=True)"
      ],
      "execution_count": null,
      "outputs": [
        {
          "output_type": "stream",
          "name": "stdout",
          "text": [
            "Found 3670 files belonging to 5 classes.\n",
            "Using 2569 files for training.\n"
          ]
        }
      ]
    },
    {
      "cell_type": "code",
      "metadata": {
        "colab": {
          "base_uri": "https://localhost:8080/"
        },
        "id": "LGg4tKa-QGVx",
        "outputId": "3715d822-4427-492b-e4e3-d6cac97df43d"
      },
      "source": [
        "# split dataset into validation dataset\n",
        "test_data = image_dataset_from_directory(directory=data_dir,\n",
        "                                          seed=123,\n",
        "                                          validation_split=0.3,\n",
        "                                          subset=\"validation\",\n",
        "                                          label_mode='categorical',\n",
        "                                          image_size=IMAGE_SHAPE,\n",
        "                                          batch_size=32,\n",
        "                                          shuffle=True)"
      ],
      "execution_count": null,
      "outputs": [
        {
          "output_type": "stream",
          "name": "stdout",
          "text": [
            "Found 3670 files belonging to 5 classes.\n",
            "Using 1101 files for validation.\n"
          ]
        }
      ]
    },
    {
      "cell_type": "code",
      "metadata": {
        "colab": {
          "base_uri": "https://localhost:8080/"
        },
        "id": "dL-OFO9EQnV9",
        "outputId": "cbd4b354-674b-4e89-c9b9-7a0644cc810b"
      },
      "source": [
        "# print all classes names in our dataset\n",
        "class_names = train_data.class_names\n",
        "print(class_names)"
      ],
      "execution_count": null,
      "outputs": [
        {
          "output_type": "stream",
          "name": "stdout",
          "text": [
            "['daisy', 'dandelion', 'roses', 'sunflowers', 'tulips']\n"
          ]
        }
      ]
    },
    {
      "cell_type": "markdown",
      "metadata": {
        "id": "WvIpoKjqRvEp"
      },
      "source": [
        "### **Fine Tunning our model:**"
      ]
    },
    {
      "cell_type": "code",
      "metadata": {
        "id": "D1thy8tGRrbo",
        "colab": {
          "base_uri": "https://localhost:8080/"
        },
        "outputId": "23e712d3-f7a3-458e-909d-7d76f25d0857"
      },
      "source": [
        "# Initializing the model\n",
        "model = Sequential()\n",
        "\n",
        "# importing tranfer learning model (ResNet152V2)\n",
        "pretrained_model = ResNet50(include_top=False,\n",
        "                               input_shape=(IMAGE_SHAPE+(3,)),\n",
        "                               weights=\"imagenet\", \n",
        "                               pooling=\"max\", \n",
        "                               classes=5)\n",
        "\n",
        "# No need to train the pretrained model just updating the o/p layers \n",
        "for layer in pretrained_model.layers:\n",
        "  layer.trainable=False    \n",
        "\n",
        "# adding customized layer into pretrained model\n",
        "model.add(pretrained_model)\n",
        "\n",
        "# Flatten the model\n",
        "model.add(Flatten())\n",
        "\n",
        "# creating a layer\n",
        "model.add(Dense(units=512, activation=\"relu\", kernel_initializer=\"he_normal\"))\n",
        "\n",
        "# creating output layer\n",
        "model.add(Dense(units=5, activation=\"softmax\", kernel_initializer=\"glorot_normal\"))\n"
      ],
      "execution_count": null,
      "outputs": [
        {
          "output_type": "stream",
          "name": "stdout",
          "text": [
            "Downloading data from https://storage.googleapis.com/tensorflow/keras-applications/resnet/resnet50_weights_tf_dim_ordering_tf_kernels_notop.h5\n",
            "94773248/94765736 [==============================] - 1s 0us/step\n",
            "94781440/94765736 [==============================] - 1s 0us/step\n"
          ]
        }
      ]
    },
    {
      "cell_type": "code",
      "metadata": {
        "colab": {
          "base_uri": "https://localhost:8080/"
        },
        "id": "T9e11NBhVUDN",
        "outputId": "27bf921c-1f6d-4b6c-c05a-d93b4295de66"
      },
      "source": [
        "# view summary of the model\n",
        "model.summary()"
      ],
      "execution_count": null,
      "outputs": [
        {
          "output_type": "stream",
          "name": "stdout",
          "text": [
            "Model: \"sequential\"\n",
            "_________________________________________________________________\n",
            "Layer (type)                 Output Shape              Param #   \n",
            "=================================================================\n",
            "resnet50 (Functional)        (None, 2048)              23587712  \n",
            "_________________________________________________________________\n",
            "flatten (Flatten)            (None, 2048)              0         \n",
            "_________________________________________________________________\n",
            "dense (Dense)                (None, 512)               1049088   \n",
            "_________________________________________________________________\n",
            "dense_1 (Dense)              (None, 5)                 2565      \n",
            "=================================================================\n",
            "Total params: 24,639,365\n",
            "Trainable params: 1,051,653\n",
            "Non-trainable params: 23,587,712\n",
            "_________________________________________________________________\n"
          ]
        }
      ]
    },
    {
      "cell_type": "code",
      "metadata": {
        "id": "EtrqJ_gVVZNX"
      },
      "source": [
        "# compiling the model\n",
        "model.compile(optimizer=Adam(learning_rate=0.001), \n",
        "              loss=\"categorical_crossentropy\", metrics=[\"accuracy\"])"
      ],
      "execution_count": null,
      "outputs": []
    },
    {
      "cell_type": "markdown",
      "metadata": {
        "id": "nnoLtrpiazKG"
      },
      "source": [
        "### **Train the model:**"
      ]
    },
    {
      "cell_type": "code",
      "metadata": {
        "colab": {
          "base_uri": "https://localhost:8080/"
        },
        "id": "eztF-O1ZVvoS",
        "outputId": "c9442ef6-b86e-488c-cbed-d82208d541c4"
      },
      "source": [
        "# fit dataset with our model\n",
        "Model= model.fit(train_data, validation_data=(test_data), epochs=100)"
      ],
      "execution_count": null,
      "outputs": [
        {
          "output_type": "stream",
          "name": "stdout",
          "text": [
            "Epoch 1/100\n",
            "81/81 [==============================] - 36s 362ms/step - loss: 4.6175 - accuracy: 0.6863 - val_loss: 0.5661 - val_accuracy: 0.8147\n",
            "Epoch 2/100\n",
            "81/81 [==============================] - 27s 327ms/step - loss: 0.3739 - accuracy: 0.8665 - val_loss: 0.6216 - val_accuracy: 0.8165\n",
            "Epoch 3/100\n",
            "81/81 [==============================] - 27s 326ms/step - loss: 0.2534 - accuracy: 0.9093 - val_loss: 0.4017 - val_accuracy: 0.8728\n",
            "Epoch 4/100\n",
            "81/81 [==============================] - 27s 327ms/step - loss: 0.1703 - accuracy: 0.9416 - val_loss: 0.3618 - val_accuracy: 0.8883\n",
            "Epoch 5/100\n",
            "81/81 [==============================] - 27s 326ms/step - loss: 0.1014 - accuracy: 0.9650 - val_loss: 0.3818 - val_accuracy: 0.8810\n",
            "Epoch 6/100\n",
            "81/81 [==============================] - 27s 326ms/step - loss: 0.0844 - accuracy: 0.9704 - val_loss: 0.4088 - val_accuracy: 0.8810\n",
            "Epoch 7/100\n",
            "81/81 [==============================] - 27s 328ms/step - loss: 0.0662 - accuracy: 0.9763 - val_loss: 0.4608 - val_accuracy: 0.8701\n",
            "Epoch 8/100\n",
            "81/81 [==============================] - 27s 327ms/step - loss: 0.0301 - accuracy: 0.9934 - val_loss: 0.4258 - val_accuracy: 0.8865\n",
            "Epoch 9/100\n",
            "81/81 [==============================] - 27s 327ms/step - loss: 0.0100 - accuracy: 0.9996 - val_loss: 0.3704 - val_accuracy: 0.8974\n",
            "Epoch 10/100\n",
            "81/81 [==============================] - 27s 327ms/step - loss: 0.0060 - accuracy: 1.0000 - val_loss: 0.3908 - val_accuracy: 0.8974\n",
            "Epoch 11/100\n",
            "81/81 [==============================] - 27s 327ms/step - loss: 0.0037 - accuracy: 1.0000 - val_loss: 0.3930 - val_accuracy: 0.8974\n",
            "Epoch 12/100\n",
            "81/81 [==============================] - 27s 327ms/step - loss: 0.0026 - accuracy: 1.0000 - val_loss: 0.3957 - val_accuracy: 0.8992\n",
            "Epoch 13/100\n",
            "81/81 [==============================] - 27s 326ms/step - loss: 0.0021 - accuracy: 1.0000 - val_loss: 0.3972 - val_accuracy: 0.8992\n",
            "Epoch 14/100\n",
            "81/81 [==============================] - 27s 328ms/step - loss: 0.0018 - accuracy: 1.0000 - val_loss: 0.4052 - val_accuracy: 0.8992\n",
            "Epoch 15/100\n",
            "81/81 [==============================] - 27s 326ms/step - loss: 0.0016 - accuracy: 1.0000 - val_loss: 0.4084 - val_accuracy: 0.8992\n",
            "Epoch 16/100\n",
            "81/81 [==============================] - 27s 326ms/step - loss: 0.0014 - accuracy: 1.0000 - val_loss: 0.4151 - val_accuracy: 0.9001\n",
            "Epoch 17/100\n",
            "81/81 [==============================] - 27s 326ms/step - loss: 0.0012 - accuracy: 1.0000 - val_loss: 0.4162 - val_accuracy: 0.8983\n",
            "Epoch 18/100\n",
            "81/81 [==============================] - 27s 328ms/step - loss: 0.0011 - accuracy: 1.0000 - val_loss: 0.4227 - val_accuracy: 0.8974\n",
            "Epoch 19/100\n",
            "81/81 [==============================] - 27s 325ms/step - loss: 0.0010 - accuracy: 1.0000 - val_loss: 0.4207 - val_accuracy: 0.8974\n",
            "Epoch 20/100\n",
            "81/81 [==============================] - 27s 326ms/step - loss: 9.2685e-04 - accuracy: 1.0000 - val_loss: 0.4204 - val_accuracy: 0.8974\n",
            "Epoch 21/100\n",
            "81/81 [==============================] - 27s 326ms/step - loss: 8.4737e-04 - accuracy: 1.0000 - val_loss: 0.4259 - val_accuracy: 0.8983\n",
            "Epoch 22/100\n",
            "81/81 [==============================] - 27s 327ms/step - loss: 7.7205e-04 - accuracy: 1.0000 - val_loss: 0.4245 - val_accuracy: 0.8974\n",
            "Epoch 23/100\n",
            "81/81 [==============================] - 27s 327ms/step - loss: 7.1395e-04 - accuracy: 1.0000 - val_loss: 0.4283 - val_accuracy: 0.8974\n",
            "Epoch 24/100\n",
            "81/81 [==============================] - 27s 328ms/step - loss: 6.6081e-04 - accuracy: 1.0000 - val_loss: 0.4316 - val_accuracy: 0.8974\n",
            "Epoch 25/100\n",
            "81/81 [==============================] - 27s 327ms/step - loss: 6.0349e-04 - accuracy: 1.0000 - val_loss: 0.4318 - val_accuracy: 0.8974\n",
            "Epoch 26/100\n",
            "81/81 [==============================] - 27s 327ms/step - loss: 5.6422e-04 - accuracy: 1.0000 - val_loss: 0.4333 - val_accuracy: 0.8965\n",
            "Epoch 27/100\n",
            "81/81 [==============================] - 27s 328ms/step - loss: 5.3038e-04 - accuracy: 1.0000 - val_loss: 0.4328 - val_accuracy: 0.8974\n",
            "Epoch 28/100\n",
            "81/81 [==============================] - 27s 327ms/step - loss: 4.8546e-04 - accuracy: 1.0000 - val_loss: 0.4332 - val_accuracy: 0.8974\n",
            "Epoch 29/100\n",
            "81/81 [==============================] - 27s 326ms/step - loss: 4.5406e-04 - accuracy: 1.0000 - val_loss: 0.4404 - val_accuracy: 0.8946\n",
            "Epoch 30/100\n",
            "81/81 [==============================] - 27s 326ms/step - loss: 4.2050e-04 - accuracy: 1.0000 - val_loss: 0.4361 - val_accuracy: 0.8992\n",
            "Epoch 31/100\n",
            "81/81 [==============================] - 27s 326ms/step - loss: 3.9073e-04 - accuracy: 1.0000 - val_loss: 0.4393 - val_accuracy: 0.8992\n",
            "Epoch 32/100\n",
            "81/81 [==============================] - 27s 328ms/step - loss: 3.6986e-04 - accuracy: 1.0000 - val_loss: 0.4429 - val_accuracy: 0.8946\n",
            "Epoch 33/100\n",
            "81/81 [==============================] - 27s 327ms/step - loss: 3.4270e-04 - accuracy: 1.0000 - val_loss: 0.4427 - val_accuracy: 0.8983\n",
            "Epoch 34/100\n",
            "81/81 [==============================] - 27s 327ms/step - loss: 3.2396e-04 - accuracy: 1.0000 - val_loss: 0.4458 - val_accuracy: 0.8983\n",
            "Epoch 35/100\n",
            "81/81 [==============================] - 27s 326ms/step - loss: 3.0365e-04 - accuracy: 1.0000 - val_loss: 0.4454 - val_accuracy: 0.8992\n",
            "Epoch 36/100\n",
            "81/81 [==============================] - 27s 327ms/step - loss: 2.8533e-04 - accuracy: 1.0000 - val_loss: 0.4512 - val_accuracy: 0.8974\n",
            "Epoch 37/100\n",
            "81/81 [==============================] - 27s 327ms/step - loss: 2.6711e-04 - accuracy: 1.0000 - val_loss: 0.4495 - val_accuracy: 0.8974\n",
            "Epoch 38/100\n",
            "81/81 [==============================] - 27s 327ms/step - loss: 2.5257e-04 - accuracy: 1.0000 - val_loss: 0.4503 - val_accuracy: 0.8992\n",
            "Epoch 39/100\n",
            "81/81 [==============================] - 27s 328ms/step - loss: 2.3616e-04 - accuracy: 1.0000 - val_loss: 0.4523 - val_accuracy: 0.8965\n",
            "Epoch 40/100\n",
            "81/81 [==============================] - 27s 328ms/step - loss: 2.2100e-04 - accuracy: 1.0000 - val_loss: 0.4553 - val_accuracy: 0.8974\n",
            "Epoch 41/100\n",
            "81/81 [==============================] - 27s 327ms/step - loss: 2.1133e-04 - accuracy: 1.0000 - val_loss: 0.4538 - val_accuracy: 0.8992\n",
            "Epoch 42/100\n",
            "81/81 [==============================] - 27s 328ms/step - loss: 1.9673e-04 - accuracy: 1.0000 - val_loss: 0.4601 - val_accuracy: 0.8974\n",
            "Epoch 43/100\n",
            "81/81 [==============================] - 27s 328ms/step - loss: 1.8737e-04 - accuracy: 1.0000 - val_loss: 0.4594 - val_accuracy: 0.8974\n",
            "Epoch 44/100\n",
            "81/81 [==============================] - 27s 327ms/step - loss: 1.7488e-04 - accuracy: 1.0000 - val_loss: 0.4596 - val_accuracy: 0.8983\n",
            "Epoch 45/100\n",
            "81/81 [==============================] - 27s 326ms/step - loss: 1.6601e-04 - accuracy: 1.0000 - val_loss: 0.4612 - val_accuracy: 0.8983\n",
            "Epoch 46/100\n",
            "81/81 [==============================] - 27s 326ms/step - loss: 1.5702e-04 - accuracy: 1.0000 - val_loss: 0.4621 - val_accuracy: 0.9010\n",
            "Epoch 47/100\n",
            "81/81 [==============================] - 27s 327ms/step - loss: 1.4793e-04 - accuracy: 1.0000 - val_loss: 0.4649 - val_accuracy: 0.8983\n",
            "Epoch 48/100\n",
            "81/81 [==============================] - 27s 328ms/step - loss: 1.3927e-04 - accuracy: 1.0000 - val_loss: 0.4644 - val_accuracy: 0.8992\n",
            "Epoch 49/100\n",
            "81/81 [==============================] - 27s 326ms/step - loss: 1.3274e-04 - accuracy: 1.0000 - val_loss: 0.4655 - val_accuracy: 0.9010\n",
            "Epoch 50/100\n",
            "81/81 [==============================] - 27s 325ms/step - loss: 1.2624e-04 - accuracy: 1.0000 - val_loss: 0.4686 - val_accuracy: 0.8992\n",
            "Epoch 51/100\n",
            "81/81 [==============================] - 27s 327ms/step - loss: 1.1944e-04 - accuracy: 1.0000 - val_loss: 0.4673 - val_accuracy: 0.9001\n",
            "Epoch 52/100\n",
            "81/81 [==============================] - 27s 328ms/step - loss: 1.1257e-04 - accuracy: 1.0000 - val_loss: 0.4673 - val_accuracy: 0.9010\n",
            "Epoch 53/100\n",
            "81/81 [==============================] - 27s 328ms/step - loss: 1.0706e-04 - accuracy: 1.0000 - val_loss: 0.4708 - val_accuracy: 0.8992\n",
            "Epoch 54/100\n",
            "81/81 [==============================] - 27s 327ms/step - loss: 1.0100e-04 - accuracy: 1.0000 - val_loss: 0.4725 - val_accuracy: 0.9010\n",
            "Epoch 55/100\n",
            "81/81 [==============================] - 27s 327ms/step - loss: 9.6148e-05 - accuracy: 1.0000 - val_loss: 0.4755 - val_accuracy: 0.8992\n",
            "Epoch 56/100\n",
            "81/81 [==============================] - 27s 329ms/step - loss: 9.1122e-05 - accuracy: 1.0000 - val_loss: 0.4745 - val_accuracy: 0.9019\n",
            "Epoch 57/100\n",
            "81/81 [==============================] - 27s 327ms/step - loss: 8.6878e-05 - accuracy: 1.0000 - val_loss: 0.4761 - val_accuracy: 0.9010\n",
            "Epoch 58/100\n",
            "81/81 [==============================] - 27s 325ms/step - loss: 8.2284e-05 - accuracy: 1.0000 - val_loss: 0.4785 - val_accuracy: 0.9010\n",
            "Epoch 59/100\n",
            "81/81 [==============================] - 27s 327ms/step - loss: 7.7714e-05 - accuracy: 1.0000 - val_loss: 0.4796 - val_accuracy: 0.9010\n",
            "Epoch 60/100\n",
            "81/81 [==============================] - 27s 326ms/step - loss: 7.3837e-05 - accuracy: 1.0000 - val_loss: 0.4801 - val_accuracy: 0.9010\n",
            "Epoch 61/100\n",
            "81/81 [==============================] - 27s 327ms/step - loss: 7.0230e-05 - accuracy: 1.0000 - val_loss: 0.4820 - val_accuracy: 0.9010\n",
            "Epoch 62/100\n",
            "81/81 [==============================] - 27s 325ms/step - loss: 6.6789e-05 - accuracy: 1.0000 - val_loss: 0.4823 - val_accuracy: 0.9019\n",
            "Epoch 63/100\n",
            "81/81 [==============================] - 27s 327ms/step - loss: 6.3858e-05 - accuracy: 1.0000 - val_loss: 0.4831 - val_accuracy: 0.9010\n",
            "Epoch 64/100\n",
            "81/81 [==============================] - 27s 327ms/step - loss: 6.0956e-05 - accuracy: 1.0000 - val_loss: 0.4846 - val_accuracy: 0.9001\n",
            "Epoch 65/100\n",
            "81/81 [==============================] - 27s 327ms/step - loss: 5.7789e-05 - accuracy: 1.0000 - val_loss: 0.4863 - val_accuracy: 0.9019\n",
            "Epoch 66/100\n",
            "81/81 [==============================] - 27s 326ms/step - loss: 5.4785e-05 - accuracy: 1.0000 - val_loss: 0.4894 - val_accuracy: 0.9010\n",
            "Epoch 67/100\n",
            "81/81 [==============================] - 27s 327ms/step - loss: 5.2309e-05 - accuracy: 1.0000 - val_loss: 0.4892 - val_accuracy: 0.9028\n",
            "Epoch 68/100\n",
            "81/81 [==============================] - 27s 326ms/step - loss: 4.9237e-05 - accuracy: 1.0000 - val_loss: 0.4906 - val_accuracy: 0.9019\n",
            "Epoch 69/100\n",
            "81/81 [==============================] - 27s 325ms/step - loss: 4.7336e-05 - accuracy: 1.0000 - val_loss: 0.4912 - val_accuracy: 0.9037\n",
            "Epoch 70/100\n",
            "81/81 [==============================] - 27s 327ms/step - loss: 4.4706e-05 - accuracy: 1.0000 - val_loss: 0.4934 - val_accuracy: 0.9028\n",
            "Epoch 71/100\n",
            "81/81 [==============================] - 27s 326ms/step - loss: 4.2697e-05 - accuracy: 1.0000 - val_loss: 0.4942 - val_accuracy: 0.9028\n",
            "Epoch 72/100\n",
            "81/81 [==============================] - 27s 326ms/step - loss: 4.0671e-05 - accuracy: 1.0000 - val_loss: 0.4959 - val_accuracy: 0.9046\n",
            "Epoch 73/100\n",
            "81/81 [==============================] - 27s 325ms/step - loss: 3.8897e-05 - accuracy: 1.0000 - val_loss: 0.4956 - val_accuracy: 0.9037\n",
            "Epoch 74/100\n",
            "81/81 [==============================] - 27s 327ms/step - loss: 3.6974e-05 - accuracy: 1.0000 - val_loss: 0.4962 - val_accuracy: 0.9037\n",
            "Epoch 75/100\n",
            "81/81 [==============================] - 27s 328ms/step - loss: 3.5123e-05 - accuracy: 1.0000 - val_loss: 0.4982 - val_accuracy: 0.9028\n",
            "Epoch 76/100\n",
            "81/81 [==============================] - 27s 326ms/step - loss: 3.3612e-05 - accuracy: 1.0000 - val_loss: 0.5012 - val_accuracy: 0.9028\n",
            "Epoch 77/100\n",
            "81/81 [==============================] - 27s 326ms/step - loss: 3.2035e-05 - accuracy: 1.0000 - val_loss: 0.5009 - val_accuracy: 0.9037\n",
            "Epoch 78/100\n",
            "81/81 [==============================] - 27s 328ms/step - loss: 3.0432e-05 - accuracy: 1.0000 - val_loss: 0.5003 - val_accuracy: 0.9028\n",
            "Epoch 79/100\n",
            "81/81 [==============================] - 27s 327ms/step - loss: 2.9179e-05 - accuracy: 1.0000 - val_loss: 0.5037 - val_accuracy: 0.9037\n",
            "Epoch 80/100\n",
            "81/81 [==============================] - 27s 326ms/step - loss: 2.7651e-05 - accuracy: 1.0000 - val_loss: 0.5041 - val_accuracy: 0.9028\n",
            "Epoch 81/100\n",
            "81/81 [==============================] - 27s 327ms/step - loss: 2.6622e-05 - accuracy: 1.0000 - val_loss: 0.5064 - val_accuracy: 0.9028\n",
            "Epoch 82/100\n",
            "81/81 [==============================] - 27s 326ms/step - loss: 2.5069e-05 - accuracy: 1.0000 - val_loss: 0.5071 - val_accuracy: 0.9037\n",
            "Epoch 83/100\n",
            "81/81 [==============================] - 27s 326ms/step - loss: 2.4050e-05 - accuracy: 1.0000 - val_loss: 0.5071 - val_accuracy: 0.9037\n",
            "Epoch 84/100\n",
            "81/81 [==============================] - 27s 326ms/step - loss: 2.2874e-05 - accuracy: 1.0000 - val_loss: 0.5098 - val_accuracy: 0.9037\n",
            "Epoch 85/100\n",
            "81/81 [==============================] - 27s 326ms/step - loss: 2.1785e-05 - accuracy: 1.0000 - val_loss: 0.5115 - val_accuracy: 0.9037\n",
            "Epoch 86/100\n",
            "81/81 [==============================] - 27s 327ms/step - loss: 2.0951e-05 - accuracy: 1.0000 - val_loss: 0.5121 - val_accuracy: 0.9028\n",
            "Epoch 87/100\n",
            "81/81 [==============================] - 27s 327ms/step - loss: 1.9843e-05 - accuracy: 1.0000 - val_loss: 0.5124 - val_accuracy: 0.9037\n",
            "Epoch 88/100\n",
            "81/81 [==============================] - 27s 326ms/step - loss: 1.9037e-05 - accuracy: 1.0000 - val_loss: 0.5157 - val_accuracy: 0.9019\n",
            "Epoch 89/100\n",
            "81/81 [==============================] - 27s 328ms/step - loss: 1.8144e-05 - accuracy: 1.0000 - val_loss: 0.5153 - val_accuracy: 0.9028\n",
            "Epoch 90/100\n",
            "81/81 [==============================] - 27s 326ms/step - loss: 1.7392e-05 - accuracy: 1.0000 - val_loss: 0.5172 - val_accuracy: 0.9028\n",
            "Epoch 91/100\n",
            "81/81 [==============================] - 27s 327ms/step - loss: 1.6520e-05 - accuracy: 1.0000 - val_loss: 0.5176 - val_accuracy: 0.9028\n",
            "Epoch 92/100\n",
            "81/81 [==============================] - 27s 328ms/step - loss: 1.5721e-05 - accuracy: 1.0000 - val_loss: 0.5185 - val_accuracy: 0.9046\n",
            "Epoch 93/100\n",
            "81/81 [==============================] - 27s 327ms/step - loss: 1.4970e-05 - accuracy: 1.0000 - val_loss: 0.5183 - val_accuracy: 0.9055\n",
            "Epoch 94/100\n",
            "81/81 [==============================] - 27s 326ms/step - loss: 1.4354e-05 - accuracy: 1.0000 - val_loss: 0.5236 - val_accuracy: 0.9028\n",
            "Epoch 95/100\n",
            "81/81 [==============================] - 27s 327ms/step - loss: 1.3648e-05 - accuracy: 1.0000 - val_loss: 0.5222 - val_accuracy: 0.9037\n",
            "Epoch 96/100\n",
            "81/81 [==============================] - 27s 328ms/step - loss: 1.3074e-05 - accuracy: 1.0000 - val_loss: 0.5256 - val_accuracy: 0.9028\n",
            "Epoch 97/100\n",
            "81/81 [==============================] - 27s 327ms/step - loss: 1.2464e-05 - accuracy: 1.0000 - val_loss: 0.5242 - val_accuracy: 0.9037\n",
            "Epoch 98/100\n",
            "81/81 [==============================] - 27s 326ms/step - loss: 1.1943e-05 - accuracy: 1.0000 - val_loss: 0.5259 - val_accuracy: 0.9028\n",
            "Epoch 99/100\n",
            "81/81 [==============================] - 27s 326ms/step - loss: 1.1415e-05 - accuracy: 1.0000 - val_loss: 0.5284 - val_accuracy: 0.9028\n",
            "Epoch 100/100\n",
            "81/81 [==============================] - 27s 326ms/step - loss: 1.0858e-05 - accuracy: 1.0000 - val_loss: 0.5298 - val_accuracy: 0.9028\n"
          ]
        }
      ]
    },
    {
      "cell_type": "code",
      "metadata": {
        "colab": {
          "base_uri": "https://localhost:8080/"
        },
        "id": "GcWQkdAgrHBS",
        "outputId": "b77ae1df-2cf5-4bfe-9ed5-cb2e7fc6dc34"
      },
      "source": [
        "Model.history.keys()"
      ],
      "execution_count": null,
      "outputs": [
        {
          "output_type": "execute_result",
          "data": {
            "text/plain": [
              "dict_keys(['loss', 'accuracy', 'val_loss', 'val_accuracy'])"
            ]
          },
          "metadata": {},
          "execution_count": 11
        }
      ]
    },
    {
      "cell_type": "code",
      "metadata": {
        "id": "gYrp19FHW6X0",
        "colab": {
          "base_uri": "https://localhost:8080/",
          "height": 458
        },
        "outputId": "c47e658c-5b95-4a2e-8d09-ddb0c6278665"
      },
      "source": [
        "# Evaluating the model accuracy\n",
        "plt.figure(figsize=(15,7))\n",
        "plt.plot(Model.history['accuracy'])\n",
        "plt.plot(Model.history['val_accuracy'])\n",
        "plt.title(\"Model Accuracy\")\n",
        "plt.xlabel(\"Epochs\")\n",
        "plt.ylabel(\"Accuracy\")\n",
        "plt.legend(['training_accuracy', 'validation_accuracy'])\n",
        "plt.show()"
      ],
      "execution_count": null,
      "outputs": [
        {
          "output_type": "display_data",
          "data": {
            "image/png": "[encoded data removed]",
            "text/plain": [
              "<Figure size 1080x504 with 1 Axes>"
            ]
          },
          "metadata": {
            "needs_background": "light"
          }
        }
      ]
    },
    {
      "cell_type": "code",
      "metadata": {
        "id": "dojIqKYEYWD5",
        "colab": {
          "base_uri": "https://localhost:8080/",
          "height": 458
        },
        "outputId": "fb2af0d0-f91c-42bb-d39c-b3c2da8cf9d2"
      },
      "source": [
        "# Evaluating the Loss\n",
        "plt.figure(figsize=(15,7))\n",
        "plt.plot(Model.history['loss'])\n",
        "plt.plot(Model.history['val_loss'])\n",
        "plt.title(\"Model loss\")\n",
        "plt.xlabel(\"Epochs\")\n",
        "plt.ylabel(\"Loss\")\n",
        "plt.legend(['training_loss', 'validation_loss'])\n",
        "plt.show()"
      ],
      "execution_count": null,
      "outputs": [
        {
          "output_type": "display_data",
          "data": {
            "image/png": "[encoded data removed]",
            "text/plain": [
              "<Figure size 1080x504 with 1 Axes>"
            ]
          },
          "metadata": {
            "needs_background": "light"
          }
        }
      ]
    },
    {
      "cell_type": "code",
      "metadata": {
        "id": "R-sD_HD6tNJw"
      },
      "source": [
        ""
      ],
      "execution_count": null,
      "outputs": []
    }
  ]
}
